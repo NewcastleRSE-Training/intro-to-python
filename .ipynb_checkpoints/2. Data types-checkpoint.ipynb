{
 "cells": [
  {
   "cell_type": "markdown",
   "metadata": {},
   "source": [
    "# 2. Data types"
   ]
  },
  {
   "cell_type": "markdown",
   "metadata": {},
   "source": [
    "We can use different types of date, in this section we are going to look at:  \n",
    "* numbers\n",
    "* words\n",
    "* booleans"
   ]
  },
  {
   "cell_type": "markdown",
   "metadata": {},
   "source": [
    "### Numbers"
   ]
  },
  {
   "cell_type": "markdown",
   "metadata": {},
   "source": [
    "We can use 2 different types of number in Python:\n",
    "\n",
    "* Floats represent numbers with decimal places\n",
    "* Integers represent whole numbers\n",
    "\n",
    "```12.345``` is a float  \n",
    "and ```12``` is an integer.  \n",
    "\n",
    "We can use the interpretor to do various operations on floats and integers"
   ]
  },
  {
   "cell_type": "code",
   "execution_count": 1,
   "metadata": {},
   "outputs": [
    {
     "data": {
      "text/plain": [
       "12"
      ]
     },
     "execution_count": 1,
     "metadata": {},
     "output_type": "execute_result"
    }
   ],
   "source": [
    "3*4"
   ]
  },
  {
   "cell_type": "code",
   "execution_count": 2,
   "metadata": {},
   "outputs": [
    {
     "data": {
      "text/plain": [
       "3.0"
      ]
     },
     "execution_count": 2,
     "metadata": {},
     "output_type": "execute_result"
    }
   ],
   "source": [
    "12/4"
   ]
  },
  {
   "cell_type": "code",
   "execution_count": 3,
   "metadata": {},
   "outputs": [
    {
     "data": {
      "text/plain": [
       "7"
      ]
     },
     "execution_count": 3,
     "metadata": {},
     "output_type": "execute_result"
    }
   ],
   "source": [
    "3+4"
   ]
  },
  {
   "cell_type": "code",
   "execution_count": 4,
   "metadata": {},
   "outputs": [
    {
     "data": {
      "text/plain": [
       "-1"
      ]
     },
     "execution_count": 4,
     "metadata": {},
     "output_type": "execute_result"
    }
   ],
   "source": [
    "3-4"
   ]
  },
  {
   "cell_type": "markdown",
   "metadata": {},
   "source": [
    "The same rules for what order operations happen apply inside the Python intepretor as in maths. "
   ]
  },
  {
   "cell_type": "code",
   "execution_count": 5,
   "metadata": {},
   "outputs": [
    {
     "data": {
      "text/plain": [
       "11"
      ]
     },
     "execution_count": 5,
     "metadata": {},
     "output_type": "execute_result"
    }
   ],
   "source": [
    "3 + 4 * 2"
   ]
  },
  {
   "cell_type": "markdown",
   "metadata": {},
   "source": [
    "Note here how we've added spaces to make this more readable. This is fine in this instance, but later in the session you will see circumstances where spaces do make a difference."
   ]
  },
  {
   "cell_type": "markdown",
   "metadata": {},
   "source": [
    "All operators available in Python:\n",
    "\n",
    "| Operator | Meaning   |\n",
    "|------|------|\n",
    "|   +  | add|\n",
    "|   -  | minus|\n",
    "|   *  | multiply|\n",
    "|   /  | divide|\n",
    "|   %  | modulus - remainder of left divided by right|\n",
    "|   //  | floor division - division that returns nearest whole number to the left|\n",
    "|   **  | exponent - left raised to the power of the right|"
   ]
  },
  {
   "cell_type": "markdown",
   "metadata": {},
   "source": [
    "### Strings"
   ]
  },
  {
   "cell_type": "markdown",
   "metadata": {},
   "source": [
    "In programming we call words, or collections of words, strings and we use quotation marks to denote where they start and end.  \n",
    "```\"This is a string containing letters and an exclamation mark!\"```  \n",
    "```\"This is a string containing the numbers 3 and 4\"```\n",
    "Note here that we have included the digits 3 and 4 in our string, but these aren't treated as floats or integers. "
   ]
  },
  {
   "cell_type": "code",
   "execution_count": 6,
   "metadata": {},
   "outputs": [
    {
     "data": {
      "text/plain": [
       "'fish and chips'"
      ]
     },
     "execution_count": 6,
     "metadata": {},
     "output_type": "execute_result"
    }
   ],
   "source": [
    "\"fish\" + \" and \" + \"chips\""
   ]
  },
  {
   "cell_type": "code",
   "execution_count": 7,
   "metadata": {},
   "outputs": [
    {
     "data": {
      "text/plain": [
       "6"
      ]
     },
     "execution_count": 7,
     "metadata": {},
     "output_type": "execute_result"
    }
   ],
   "source": [
    "2 + 4"
   ]
  },
  {
   "cell_type": "code",
   "execution_count": 8,
   "metadata": {},
   "outputs": [
    {
     "data": {
      "text/plain": [
       "'2 + 4'"
      ]
     },
     "execution_count": 8,
     "metadata": {},
     "output_type": "execute_result"
    }
   ],
   "source": [
    "\"2 + 4\""
   ]
  },
  {
   "cell_type": "code",
   "execution_count": 9,
   "metadata": {},
   "outputs": [
    {
     "ename": "TypeError",
     "evalue": "can only concatenate str (not \"int\") to str",
     "output_type": "error",
     "traceback": [
      "\u001b[1;31m---------------------------------------------------------------------------\u001b[0m",
      "\u001b[1;31mTypeError\u001b[0m                                 Traceback (most recent call last)",
      "\u001b[1;32m<ipython-input-9-a1893c7ff5d5>\u001b[0m in \u001b[0;36m<module>\u001b[1;34m\u001b[0m\n\u001b[1;32m----> 1\u001b[1;33m \u001b[1;34m\"2\"\u001b[0m \u001b[1;33m+\u001b[0m \u001b[1;36m4\u001b[0m\u001b[1;33m\u001b[0m\u001b[1;33m\u001b[0m\u001b[0m\n\u001b[0m",
      "\u001b[1;31mTypeError\u001b[0m: can only concatenate str (not \"int\") to str"
     ]
    }
   ],
   "source": [
    "\"2\" + 4"
   ]
  },
  {
   "cell_type": "code",
   "execution_count": null,
   "metadata": {},
   "outputs": [],
   "source": [
    "\"2\" + \" fish\""
   ]
  },
  {
   "cell_type": "markdown",
   "metadata": {},
   "source": [
    "### Booleans"
   ]
  },
  {
   "cell_type": "markdown",
   "metadata": {},
   "source": [
    "In programming we can use the boolean values ```true``` and ```false```. These are values just as ```12``` and ```hello``` but are their own data type. Booleans are useful when we want to compare things. "
   ]
  },
  {
   "cell_type": "code",
   "execution_count": null,
   "metadata": {},
   "outputs": [],
   "source": [
    "toms_age = 25\n",
    "lauras_age = 36\n",
    "\n",
    "print(toms_age > lauras_age)"
   ]
  },
  {
   "cell_type": "code",
   "execution_count": null,
   "metadata": {},
   "outputs": [],
   "source": [
    "print(lauras_age >= toms_age)"
   ]
  },
  {
   "cell_type": "markdown",
   "metadata": {},
   "source": [
    "Here we've introduced a comparison operator, ```>``` to mean 'greater than'. \n",
    "\n",
    "These are the comparison and logic operators we can use:\n",
    "\n",
    "| Operator | Meaning   |\n",
    "|------|------|\n",
    "|   >  | greater than|\n",
    "|   <  | less than|\n",
    "|   >=  | greater than or equal to|\n",
    "|   <=  | less than or equal to|\n",
    "|   ==  | equal to|\n",
    "|   !=  | not equal to|\n",
    "\n",
    "Later in the session we will see how we can provide different code depending on if a statement is `true` or `false`.\n",
    "\n",
    "\n",
    "### Exercise"
   ]
  },
  {
   "cell_type": "code",
   "execution_count": null,
   "metadata": {},
   "outputs": [],
   "source": [
    "\n",
    "todo: task about comparisons"
   ]
  },
  {
   "cell_type": "markdown",
   "metadata": {},
   "source": [
    "### Variables"
   ]
  },
  {
   "cell_type": "markdown",
   "metadata": {},
   "source": [
    "We can store data in variables to give them names and make it easier to work with them. You can think of a variable as being like a container for data that you can refer to using a name and update when needed.  \n",
    "\n",
    "\n",
    "\n",
    "Rules for variable names:\n",
    "* letters, numbers and underscores, no spaces e.g. 'my_variable'\n",
    "* can't start with a number\n",
    "* case sensitive\n",
    "* make them meaningful e.g. prefer 'velocity' over 'v'\n",
    "* operate within a scope (more on this below)\n",
    "* not a keyword that already has a meaning in Python, e.g. 'false'\n",
    "\n",
    "We create a variable using ```=```, e.g. ```dinner=\"fish and chips\"``` and ```final_score=35```. We can save the results of operations to variables.\n",
    "\n",
    "To see how this works, we will use our first function. The ```print``` function tells the interpretor to display the value of whatever is in the brackets on our screen."
   ]
  },
  {
   "cell_type": "code",
   "execution_count": null,
   "metadata": {},
   "outputs": [],
   "source": [
    "print(\"chocolate\")"
   ]
  },
  {
   "cell_type": "code",
   "execution_count": null,
   "metadata": {},
   "outputs": [],
   "source": [
    "print(\"mint \" + \"chocolate\")"
   ]
  },
  {
   "cell_type": "code",
   "execution_count": null,
   "metadata": {},
   "outputs": [],
   "source": [
    "weight_kg = 2 + 3\n",
    "print(weight_kg)"
   ]
  },
  {
   "cell_type": "markdown",
   "metadata": {},
   "source": [
    "We can update the value of variables:"
   ]
  },
  {
   "cell_type": "code",
   "execution_count": null,
   "metadata": {},
   "outputs": [],
   "source": [
    "weight_kg = weight_kg + 4\n",
    "print(weight_kg)"
   ]
  },
  {
   "cell_type": "markdown",
   "metadata": {},
   "source": [
    "There is a short-hand for updating a variable:\n",
    "\n",
    "A = A + B can be shortened to  A+=B  \n",
    "A = A - B can be shortnened to A-=B  \n",
    "\n",
    "You can do the same for the other operators too."
   ]
  },
  {
   "cell_type": "code",
   "execution_count": null,
   "metadata": {},
   "outputs": [],
   "source": [
    "number_coffees = 2\n",
    "number_coffees += 1\n",
    "print(number_coffees)"
   ]
  },
  {
   "cell_type": "markdown",
   "metadata": {},
   "source": [
    "### Exercise\n",
    "todo: testing understanding scenario"
   ]
  }
 ],
 "metadata": {
  "kernelspec": {
   "display_name": "Python 3",
   "language": "python",
   "name": "python3"
  },
  "language_info": {
   "codemirror_mode": {
    "name": "ipython",
    "version": 3
   },
   "file_extension": ".py",
   "mimetype": "text/x-python",
   "name": "python",
   "nbconvert_exporter": "python",
   "pygments_lexer": "ipython3",
   "version": "3.7.6"
  }
 },
 "nbformat": 4,
 "nbformat_minor": 4
}
