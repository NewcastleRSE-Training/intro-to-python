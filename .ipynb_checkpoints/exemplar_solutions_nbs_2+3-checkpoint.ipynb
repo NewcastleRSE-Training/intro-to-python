{
 "cells": [
  {
   "cell_type": "markdown",
   "metadata": {},
   "source": [
    "# Exemplar solutions to longer exercises in Notebooks 2 and 3"
   ]
  },
  {
   "cell_type": "markdown",
   "metadata": {},
   "source": [
    "### 2.2\n",
    "Create three variables describing the number of fruit and veg you ate on Monday, Tuesday and Wednesday last week (you can make it up!). Then print the average per day."
   ]
  },
  {
   "cell_type": "code",
   "execution_count": null,
   "metadata": {},
   "outputs": [],
   "source": [
    "Mon = 2\n",
    "Tues = 3\n",
    "Wed = 2\n",
    "\n",
    "print ((Mon+Tues+Wed) / 3 )"
   ]
  },
  {
   "cell_type": "markdown",
   "metadata": {},
   "source": [
    "### 3.5\n",
    "Create a list called restaurants and print each item using a loop"
   ]
  },
  {
   "cell_type": "code",
   "execution_count": null,
   "metadata": {},
   "outputs": [],
   "source": [
    "restaurants = (\"Blackfriars\", \"Pizza Punks\", \"Peace & Loaf\")\n",
    "for restaurant in restaurants:\n",
    "    print(restaurant)"
   ]
  },
  {
   "cell_type": "markdown",
   "metadata": {},
   "source": [
    "### 3.6\n",
    "Write a piece of code that prints 0 to 9. A message should be printed after each number. Your code should print one message if the number is less than 5, a different message if the number is equal to 5 and a third message if the number is greater then 5."
   ]
  },
  {
   "cell_type": "code",
   "execution_count": null,
   "metadata": {},
   "outputs": [],
   "source": [
    "for number in range(10):\n",
    "    print(number)\n",
    "    if (number < 5):\n",
    "        print(\" is less than 5\")\n",
    "    elif (number == 5):\n",
    "        print(\" is 5!\")\n",
    "    else:\n",
    "        print(\" must be greater than 5\")"
   ]
  },
  {
   "cell_type": "markdown",
   "metadata": {},
   "source": [
    "### 3.7\n",
    "Write a piece of code that loops through all numbers between 35 and 79 and prints the number if it is divisible by 7."
   ]
  },
  {
   "cell_type": "code",
   "execution_count": null,
   "metadata": {},
   "outputs": [],
   "source": [
    "for number in range(35, 80):\n",
    "    if (number % 7 == 0):\n",
    "        print(number)"
   ]
  },
  {
   "cell_type": "markdown",
   "metadata": {},
   "source": [
    "### 3.8\n",
    "Follow these steps to create and call a function that reverses the order of words in a sentence.\n",
    "\n",
    "a. Create a function that takes a single argument called my_string\n",
    "\n",
    "b. Within the function, convert the argument to a list with each word as a separate element and store this list as a variable. You can look at the example above if you're not sure about this step\n",
    "\n",
    "c. Create a new string that contains the same words as your original, but in the reverse order. You can assume you know your argument has 5 words in it\n",
    "\n",
    "d. Print this new string to the screen\n",
    "\n",
    "e. Call your function with a 5 word string"
   ]
  },
  {
   "cell_type": "code",
   "execution_count": null,
   "metadata": {},
   "outputs": [],
   "source": [
    "def reverse_string(my_string):\n",
    "    my_list = my_list = my_string.split(\" \")\n",
    "    my_string_reversed = my_list[4] + \" \" + my_list[3] + \" \" +  my_list[2] + \" \" + my_list[1] + \" \" + my_list[0] \n",
    "    print(my_string_reversed)\n",
    "    \n",
    "reverse_string(\"I like lemon meringue pie\")"
   ]
  }
 ],
 "metadata": {
  "kernelspec": {
   "display_name": "Python 3",
   "language": "python",
   "name": "python3"
  },
  "language_info": {
   "codemirror_mode": {
    "name": "ipython",
    "version": 3
   },
   "file_extension": ".py",
   "mimetype": "text/x-python",
   "name": "python",
   "nbconvert_exporter": "python",
   "pygments_lexer": "ipython3",
   "version": "3.7.6"
  }
 },
 "nbformat": 4,
 "nbformat_minor": 4
}
