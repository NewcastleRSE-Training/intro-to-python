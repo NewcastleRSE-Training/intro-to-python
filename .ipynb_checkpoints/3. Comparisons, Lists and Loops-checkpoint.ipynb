{
 "cells": [
  {
   "cell_type": "markdown",
   "metadata": {},
   "source": [
    "# 3. Comparisons, Lists and Loops"
   ]
  },
  {
   "cell_type": "markdown",
   "metadata": {},
   "source": [
    "todo: add note about hiding output\n",
    "\n",
    "## Conditionals"
   ]
  },
  {
   "cell_type": "markdown",
   "metadata": {},
   "source": [
    "\n",
    "\n",
    "We have already seen how we can use the boolean values of `true` and `false`. We often want to take different actions depending on a condition. We can do this using and `if` statement. If we want to provide a default option we can use another keyword, `else`.\n",
    "\n",
    "Remember that comparisons evaluate to `true` or `false` so when we see `if num > 100:` this means if the comparison evaluates to true do the next bit of code, if it evaluates to false then progress without doing that but of code."
   ]
  },
  {
   "cell_type": "code",
   "execution_count": null,
   "metadata": {},
   "outputs": [],
   "source": [
    "num = 37\n",
    "if num > 100:\n",
    "    print('greater')\n",
    "else:\n",
    "    print('not greater')\n",
    "print('done')"
   ]
  },
  {
   "cell_type": "markdown",
   "metadata": {},
   "source": [
    "Note the indentations here dictate what code is 'within' the `if` sand `else` sections."
   ]
  },
  {
   "attachments": {},
   "cell_type": "markdown",
   "metadata": {},
   "source": [
    "![image.png](./images/python-flowchart-conditional.png)"
   ]
  },
  {
   "cell_type": "code",
   "execution_count": null,
   "metadata": {},
   "outputs": [],
   "source": [
    "num = 340\n",
    "if num > 100:\n",
    "    print('greater')\n",
    "else:\n",
    "    print('not greater')\n",
    "print('done')"
   ]
  },
  {
   "cell_type": "code",
   "execution_count": null,
   "metadata": {},
   "outputs": [],
   "source": [
    "num = 340\n",
    "if num > 100:\n",
    "    print('greater')\n",
    "else:\n",
    "    print('not greater')\n",
    "    print('done')"
   ]
  },
  {
   "cell_type": "markdown",
   "metadata": {},
   "source": [
    "We don't have to have an else statement: "
   ]
  },
  {
   "cell_type": "code",
   "execution_count": null,
   "metadata": {},
   "outputs": [],
   "source": [
    "food = \"fish\"\n",
    "\n",
    "if food==\"cake\":\n",
    "    print(\"yum\")"
   ]
  },
  {
   "cell_type": "markdown",
   "metadata": {},
   "source": [
    "Can you see the difference between `=` and `==`?"
   ]
  },
  {
   "cell_type": "markdown",
   "metadata": {},
   "source": [
    "We can also chain several conditions together using `elif` which is short for 'else if'."
   ]
  },
  {
   "cell_type": "code",
   "execution_count": null,
   "metadata": {},
   "outputs": [],
   "source": [
    "num = -3\n",
    "\n",
    "if num > 0:\n",
    "    print(num, 'is positive')\n",
    "elif num == 0:\n",
    "    print(num, 'is zero')\n",
    "else:\n",
    "    print(num, 'is negative')"
   ]
  },
  {
   "cell_type": "markdown",
   "metadata": {},
   "source": [
    "We might want to test more than one condition using `and` or alternatives using `or`."
   ]
  },
  {
   "cell_type": "code",
   "execution_count": null,
   "metadata": {},
   "outputs": [],
   "source": [
    "if (1 > 0) and (-1 > 0):\n",
    "    print('both parts are true')\n",
    "else:\n",
    "    print('at least one part is false')"
   ]
  },
  {
   "cell_type": "code",
   "execution_count": null,
   "metadata": {},
   "outputs": [],
   "source": [
    "if (1 < 0) or (-1 < 0):\n",
    "    print('at least one test is true')"
   ]
  },
  {
   "cell_type": "markdown",
   "metadata": {},
   "source": [
    "### Exercise\n",
    "todo: exercise to use conditions\n"
   ]
  },
  {
   "cell_type": "code",
   "execution_count": null,
   "metadata": {},
   "outputs": [],
   "source": []
  },
  {
   "cell_type": "markdown",
   "metadata": {},
   "source": [
    "## Lists"
   ]
  },
  {
   "cell_type": "markdown",
   "metadata": {},
   "source": [
    "So far we have worked with variables containing a single piece of data. We often need to store a collection of variables in a list. A basic list can be empty or contain as many items as you want and is refered to with a name just like a variable. In fact, it is our third data type of this session. \n",
    "\n",
    "We use square brackets `[]` to show something is a list. An empty list would look like this:\n",
    "\n",
    "```items_in_fridge = []```\n",
    "\n",
    "And a list containg strings would look like this:\n",
    "\n",
    "```shopping_list = [ \"eggs\", \"bacon\", \"beans\"]```\n",
    "\n",
    "### Exercise\n",
    "Try creating your own list of numbers and printing that list to the screen by editing this code:"
   ]
  },
  {
   "cell_type": "code",
   "execution_count": null,
   "metadata": {},
   "outputs": [],
   "source": [
    "even_numbers = \n",
    "\n",
    "print()"
   ]
  },
  {
   "cell_type": "markdown",
   "metadata": {},
   "source": [
    "### Indexing"
   ]
  },
  {
   "cell_type": "markdown",
   "metadata": {},
   "source": [
    "We don't always want to be limited by working with the whole of our list. Ever item in a list has an index which we refer to using square brackets `[]` (but in a different way to when we create a new list). "
   ]
  },
  {
   "cell_type": "code",
   "execution_count": null,
   "metadata": {},
   "outputs": [],
   "source": [
    "chocolates = [\"dark\", \"milk\", \"80%\", \"white\", \"mint\", \"raspberry\"]\n",
    "print(chocolates[1])"
   ]
  },
  {
   "attachments": {},
   "cell_type": "markdown",
   "metadata": {},
   "source": [
    "You might have expected a different outcome here. Lists in programming are 'zero-indexed', so the first element in a list is at index `0`.\n",
    "\n",
    "![image.png](./images/indexing.png)\n",
    "\n"
   ]
  },
  {
   "cell_type": "markdown",
   "metadata": {
    "solution": "hidden",
    "solution_first": true
   },
   "source": [
    "### Exercise\n",
    "Can you add a line to this code to print `mint`?"
   ]
  },
  {
   "cell_type": "code",
   "execution_count": 1,
   "metadata": {
    "solution": "hidden"
   },
   "outputs": [
    {
     "name": "stdout",
     "output_type": "stream",
     "text": [
      "mint\n"
     ]
    }
   ],
   "source": [
    "chocolates = [\"dark\", \"milk\", \"80%\", \"white\", \"mint\", \"raspberry\"]\n",
    "print(chocolates[4])"
   ]
  },
  {
   "cell_type": "code",
   "execution_count": null,
   "metadata": {},
   "outputs": [],
   "source": [
    "chocolates = [\"dark\", \"milk\", \"80%\", \"white\", \"mint\", \"raspberry\"]"
   ]
  },
  {
   "cell_type": "markdown",
   "metadata": {},
   "source": [
    "### Errors"
   ]
  },
  {
   "cell_type": "markdown",
   "metadata": {},
   "source": [
    "You may have already seen an error when you have tried to run your code. Errors are helpful as they give us clues what we need to change to make our code run correctly.\n",
    "\n",
    "What do you think will happen when we run this?"
   ]
  },
  {
   "cell_type": "code",
   "execution_count": null,
   "metadata": {},
   "outputs": [],
   "source": [
    "chocolates = [\"dark\", \"milk\", \"80%\", \"white\", \"mint\", \"raspberry\"]\n",
    "print(chocolates[6])"
   ]
  },
  {
   "cell_type": "markdown",
   "metadata": {},
   "source": [
    "Let's unpick this: `----> 2 ` tells us where the error is, `IndexError:` tells us what type of error happened, and `list index out of range` gives us more detail. Sometimes we might have error messages that we aren't so easy to interpret. This is where entering the error into a search engine can be very helpful. "
   ]
  },
  {
   "cell_type": "markdown",
   "metadata": {},
   "source": [
    "### Adding things to lists"
   ]
  },
  {
   "cell_type": "markdown",
   "metadata": {},
   "source": [
    "Lists in Python are 'dynamic' which means we can change their size as many times as we want to. So far we ahve used the `print` function which stands alone. We are going to use the `append` function to add to a list. This function is part of the `list` data type so we type it after the list name and a dot `.`. Funtions that are part of data types are sometimes called 'methods'.\n",
    "\n",
    "We will use 'call' the `append` method on `shopping_list`:"
   ]
  },
  {
   "cell_type": "code",
   "execution_count": null,
   "metadata": {},
   "outputs": [],
   "source": [
    "shopping_list = [ \"eggs\", \"bacon\", \"beans\"]\n",
    "shopping_list.append(\"\")\n",
    "\n",
    "print(shopping_list)"
   ]
  },
  {
   "cell_type": "markdown",
   "metadata": {
    "solution": "hidden",
    "solution_first": true
   },
   "source": [
    "### Exercise\n",
    "Run the next code block. Do you know why we are getting this result?\n",
    "\n",
    "Try adding grades to this list using the `append` method so that the print statement works correctly."
   ]
  },
  {
   "cell_type": "code",
   "execution_count": 2,
   "metadata": {
    "solution": "hidden"
   },
   "outputs": [
    {
     "name": "stdout",
     "output_type": "stream",
     "text": [
      "87\n"
     ]
    }
   ],
   "source": [
    "grades = [ 34, 45, 21, 67, 90]\n",
    "\n",
    "grades.append(45)\n",
    "grades.append(87)\n",
    "\n",
    "print(grades[6])"
   ]
  },
  {
   "cell_type": "code",
   "execution_count": null,
   "metadata": {},
   "outputs": [],
   "source": [
    "grades = [ 34, 45, 21, 67, 90]\n",
    "\n",
    "# add code here\n",
    "\n",
    "print(grades[6])"
   ]
  },
  {
   "cell_type": "markdown",
   "metadata": {},
   "source": [
    "Note how a `#` was used to add a comment to this code"
   ]
  },
  {
   "cell_type": "markdown",
   "metadata": {},
   "source": [
    "### Slicing"
   ]
  },
  {
   "cell_type": "markdown",
   "metadata": {},
   "source": [
    "We can now ask for one item from a list, but we can also grab sections of it at once. This looks similar to asking for an index using square brackets, but you put two numbers: a start index (inclusive) and end index (not inclusive). \n",
    "\n",
    "What do you think this will print?"
   ]
  },
  {
   "cell_type": "code",
   "execution_count": null,
   "metadata": {},
   "outputs": [],
   "source": [
    "grades = [ 34, 45, 21, 67, 90]\n",
    "print(grades[1: 4])"
   ]
  },
  {
   "attachments": {},
   "cell_type": "markdown",
   "metadata": {},
   "source": [
    "It might help to count the commas rather than list elements to help you remember this.\n",
    "\n",
    "![image.png](./images/slicing.png)"
   ]
  },
  {
   "cell_type": "markdown",
   "metadata": {},
   "source": [
    "## Loops"
   ]
  },
  {
   "cell_type": "markdown",
   "metadata": {},
   "source": [
    "We said that one reason you might want to programme something to happen rather than doing it by hand is to save time and effort when doing something repetitive. We also said that code is executed in the order that it is written. With loops this is not quite true when we ask the interpretor to run some parts of our code multiple times using a loop.\n",
    "\n",
    "Here's two examples of acheiving the same results. Here it is not really much extra labour without using a loop, but you can imagine as the instructions get more complex and the lists get longer, it is really useful to be able to use a 'for each' loop."
   ]
  },
  {
   "cell_type": "code",
   "execution_count": null,
   "metadata": {},
   "outputs": [],
   "source": [
    "apples = [\"granny smith\", \"pink lady\", \"golden delicious\"]\n",
    "print(apples[0])\n",
    "print(apples[1])\n",
    "print(apples[2])"
   ]
  },
  {
   "cell_type": "code",
   "execution_count": null,
   "metadata": {},
   "outputs": [],
   "source": [
    "apples = [\"granny smith\", \"pink lady\", \"golden delicious\"]\n",
    "\n",
    "for apple in apples:\n",
    "    print(apple)"
   ]
  },
  {
   "cell_type": "markdown",
   "metadata": {},
   "source": [
    "In a for each loop you are creating a new variable just to use inside the loop. We have used `apple` here as it makes sense, but we could have used any name we wanted. Note, the use of a `:` and indentation as we did with `if` statements. "
   ]
  },
  {
   "cell_type": "markdown",
   "metadata": {
    "solution": "hidden",
    "solution_first": true
   },
   "source": [
    "### Exercise\n",
    "Create a list called `restaurants` and print each item using a loop"
   ]
  },
  {
   "cell_type": "code",
   "execution_count": 4,
   "metadata": {
    "scrolled": true,
    "solution": "hidden"
   },
   "outputs": [
    {
     "name": "stdout",
     "output_type": "stream",
     "text": [
      "Blackfriars\n",
      "Pizza Punks\n",
      "Peace & Loaf\n"
     ]
    }
   ],
   "source": [
    "restaurants = (\"Blackfriars\", \"Pizza Punks\", \"Peace & Loaf\")\n",
    "for restaurant in restaurants:\n",
    "    print(restaurant)"
   ]
  },
  {
   "cell_type": "code",
   "execution_count": null,
   "metadata": {},
   "outputs": [],
   "source": []
  },
  {
   "cell_type": "markdown",
   "metadata": {},
   "source": [
    "### Looping over a range of numbers"
   ]
  },
  {
   "cell_type": "markdown",
   "metadata": {},
   "source": [
    "We are going to use a for each loop with a new function. This time it's another stand alone function. If I tell you that `range` operates with the same rules as slicing, can you guess what this will print?"
   ]
  },
  {
   "cell_type": "code",
   "execution_count": null,
   "metadata": {},
   "outputs": [],
   "source": [
    "for number in range(10, 13):\n",
    "    print(number)"
   ]
  },
  {
   "cell_type": "code",
   "execution_count": null,
   "metadata": {},
   "outputs": [],
   "source": [
    "for number in range(5):\n",
    "    print(number)"
   ]
  },
  {
   "cell_type": "markdown",
   "metadata": {},
   "source": [
    "## Exercises\n",
    "\n",
    "Work your way through these exercises and don't forget you can ask for help when you need it. If you don't have time to do them all you could return to them after the workshop."
   ]
  },
  {
   "cell_type": "markdown",
   "metadata": {
    "solution": "shown",
    "solution_first": true
   },
   "source": [
    "1. Write a piece of code that prints `0` to `9`. A message should be printed after each number. Your code should print one message if the number is less than `5`, a different message if the number is equal to `5` and a third message if the number is greater then `5`. \n",
    "\n",
    "Expand this block for some hints.\n"
   ]
  },
  {
   "cell_type": "markdown",
   "metadata": {
    "solution": "hidden"
   },
   "source": [
    "* You can use `range()`\n",
    "* You can solve this exercise using one `if`, one `elif`, and one `else`"
   ]
  },
  {
   "cell_type": "code",
   "execution_count": null,
   "metadata": {},
   "outputs": [],
   "source": []
  },
  {
   "cell_type": "markdown",
   "metadata": {
    "solution": "hidden",
    "solution_first": true
   },
   "source": [
    "Exercise 1 Solution:"
   ]
  },
  {
   "cell_type": "code",
   "execution_count": null,
   "metadata": {
    "solution": "hidden"
   },
   "outputs": [],
   "source": [
    "for number in range(10):\n",
    "    print(number)\n",
    "    if (number < 5):\n",
    "        print(\" is less than 5\")\n",
    "    elif (number == 5):\n",
    "        print(\" is 5!\")\n",
    "    else:\n",
    "        print(\" must be greater than 5\")"
   ]
  },
  {
   "cell_type": "markdown",
   "metadata": {
    "solution": "hidden",
    "solution_first": true
   },
   "source": [
    "2. Write a piece of code that loops through all numbers between 35 and 79 and prints the number if it is divisible by 7. \n",
    "\n",
    "Expand this block for a hint about using `%` (or check back to notebook 2)"
   ]
  },
  {
   "cell_type": "markdown",
   "metadata": {
    "solution": "hidden"
   },
   "source": [
    "A number is divisible by 7 if `number % 7 == 0` evaluates to true"
   ]
  },
  {
   "cell_type": "code",
   "execution_count": null,
   "metadata": {},
   "outputs": [],
   "source": []
  },
  {
   "cell_type": "markdown",
   "metadata": {
    "solution": "hidden",
    "solution_first": true
   },
   "source": [
    "Exercise 2 Solution:"
   ]
  },
  {
   "cell_type": "code",
   "execution_count": null,
   "metadata": {
    "solution": "hidden"
   },
   "outputs": [],
   "source": [
    "for number in range(35, 80):\n",
    "    if (number % 7 == 0):\n",
    "        print(number)"
   ]
  },
  {
   "cell_type": "markdown",
   "metadata": {
    "solution": "hidden",
    "solution_first": true
   },
   "source": [
    "3. \n",
    "You can split a string using this function: \n",
    "\n",
    "`result = your_string.split(seperator)` \n",
    "\n",
    "e.g.\n",
    "\n",
    "`your_string= \"I am great\"`\n",
    "`result = your_string.split(\" \")` (seperator is a space)\n",
    "`print(result) -> [\"I\", \"am\", \"great\"]`\n",
    "\n",
    "Create a string with a few words.\n",
    "Convert this string to a list with each word as a seperate element and store this list as a variable. \n",
    "Create a new string that contains the same words as your original, but in the reverse order.\n",
    "Print this new string to the screen. \n",
    "\n",
    "Expand this section to see the solution."
   ]
  },
  {
   "cell_type": "code",
   "execution_count": 6,
   "metadata": {
    "solution": "hidden"
   },
   "outputs": [
    {
     "name": "stdout",
     "output_type": "stream",
     "text": [
      "pie meringue lemon like I\n"
     ]
    }
   ],
   "source": [
    "my_string = \"I like lemon meringue pie\"\n",
    "my_list = my_string.split(\" \")\n",
    "my_string_reversed = my_list[4] + \" \" + my_list[3] + \" \" +  my_list[2] + \" \" + my_list[1] + \" \" + my_list[0] \n",
    "print(my_string_reversed)"
   ]
  },
  {
   "cell_type": "code",
   "execution_count": null,
   "metadata": {},
   "outputs": [],
   "source": []
  },
  {
   "cell_type": "markdown",
   "metadata": {},
   "source": [
    "There are more concise ways to do this. You could research them after the workshop or perhaps you've already come up with one!"
   ]
  }
 ],
 "metadata": {
  "kernelspec": {
   "display_name": "Python 3",
   "language": "python",
   "name": "python3"
  },
  "language_info": {
   "codemirror_mode": {
    "name": "ipython",
    "version": 3
   },
   "file_extension": ".py",
   "mimetype": "text/x-python",
   "name": "python",
   "nbconvert_exporter": "python",
   "pygments_lexer": "ipython3",
   "version": "3.7.6"
  }
 },
 "nbformat": 4,
 "nbformat_minor": 4
}
