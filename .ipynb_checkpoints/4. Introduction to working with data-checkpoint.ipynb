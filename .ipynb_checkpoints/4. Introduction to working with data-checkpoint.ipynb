{
 "cells": [
  {
   "cell_type": "markdown",
   "metadata": {
    "slideshow": {
     "slide_type": "slide"
    }
   },
   "source": [
    "# Introduction to working with data\n",
    "\n",
    "todo: add note about hiding output\n",
    "\n",
    "CSV files\n",
    "Using a Python package\n",
    "Reading data from a file\n",
    "Manipulating data\n",
    "Writing to CSV"
   ]
  },
  {
   "cell_type": "markdown",
   "metadata": {
    "slideshow": {
     "slide_type": "slide"
    }
   },
   "source": [
    "## CSV\n",
    "\n",
    "Comma-seperated values represents tabular data\n",
    "\n",
    "Export spreadsheets, databases, represent data available from an API, e.g. Environment Agency\n",
    "\n",
    "First line contains column names, e.g.\n",
    "\n",
    "`column 1 name,column 2 name, column 3 name\n",
    "first row data 1,first row data 2,first row data 3\n",
    "second row data 1,second row data 2,second row data 3`"
   ]
  },
  {
   "cell_type": "markdown",
   "metadata": {
    "slideshow": {
     "slide_type": "slide"
    }
   },
   "source": [
    "## Packages\n",
    "\n",
    "Library of Python files\n",
    "\n",
    "No need to reinvent the wheel! You can use packages other people have developed to do common tasks by 'importing' them\n",
    "\n",
    "pandas: \n",
    "  * Format and clean data\n",
    "  * Calculate statistics\n",
    "  * Visualise data when used with other libraries (not covering today)\n",
    "  * Write data back to a CSV\n",
    "https://pandas.pydata.org/pandas-docs/version/0.16.1/"
   ]
  },
  {
   "cell_type": "markdown",
   "metadata": {
    "slideshow": {
     "slide_type": "slide"
    }
   },
   "source": [
    "## DataFrame\n",
    "\n",
    "2D tabular data structure used by pandas  \n",
    "Labeled axes  \n",
    "Access data using column and row indexes   \n",
    "\n",
    "|   | a | b | c |\n",
    "|---|---|---|---|\n",
    "| 0 | `['a'][0]`  |      |   |\n",
    "| 1 |  | `['b'][1]`|     |  |  \n",
    "| 2 |   |     |  `['c'][2]`  |  \n"
   ]
  },
  {
   "cell_type": "markdown",
   "metadata": {
    "slideshow": {
     "slide_type": "slide"
    },
    "solution": "shown",
    "solution_first": true
   },
   "source": [
    "## First steps with pandas\n",
    "\n",
    "We'll work through these instructions together and then you'll work through some exercises individually.\n",
    "\n",
    "`import pandas\n",
    "df = pandas.read_csv('./data/filename.csv')\n",
    "`\n",
    "\n",
    "![readCSV](./images/readCSVLine.PNG)"
   ]
  },
  {
   "cell_type": "code",
   "execution_count": null,
   "metadata": {
    "solution": "hidden"
   },
   "outputs": [],
   "source": [
    "import pandas\n",
    "df = pandas.read_csv('./data/insert_filename_here.csv')"
   ]
  },
  {
   "cell_type": "code",
   "execution_count": null,
   "metadata": {
    "slideshow": {
     "slide_type": "fragment"
    }
   },
   "outputs": [],
   "source": [
    "# Import pandas and read CSV file here. Print to screen to check.\n",
    "\n",
    "\n",
    "# Try using print(df.head()) to see what happens\n",
    "\n",
    "\n",
    "# Now try running print(df.info())\n"
   ]
  },
  {
   "cell_type": "markdown",
   "metadata": {
    "slideshow": {
     "slide_type": "slide"
    },
    "solution": "hidden",
    "solution_first": true
   },
   "source": [
    "Let's explore the data. We can see that pandas has correctly recognised the column headings by asking for a list of them. You can use this command during the activities if you want to remind yourself of the column names (they are case sensitive)."
   ]
  },
  {
   "cell_type": "code",
   "execution_count": 12,
   "metadata": {},
   "outputs": [
    {
     "name": "stdout",
     "output_type": "stream",
     "text": [
      "Index(['Name', 'Gender', 'Result', 'Group'], dtype='object')\n"
     ]
    }
   ],
   "source": [
    "print(df.columns)"
   ]
  },
  {
   "cell_type": "markdown",
   "metadata": {},
   "source": [
    "Check what data types have been assigned to a few of the columns `print(type(df['column_name'][0]))`\n",
    "\n",
    "![check data type](./images/printColumnType.PNG)"
   ]
  },
  {
   "cell_type": "code",
   "execution_count": null,
   "metadata": {
    "solution": "hidden"
   },
   "outputs": [],
   "source": [
    "# Check Date column\n",
    "print(type(df['Date'][0]))"
   ]
  },
  {
   "cell_type": "code",
   "execution_count": null,
   "metadata": {
    "slideshow": {
     "slide_type": "fragment"
    }
   },
   "outputs": [],
   "source": [
    "# Check data types here"
   ]
  },
  {
   "cell_type": "markdown",
   "metadata": {
    "slideshow": {
     "slide_type": "slide"
    },
    "solution": "shown",
    "solution_first": true
   },
   "source": [
    "### Correcting data types\n",
    "\n",
    "What data type is the date column?\n",
    "\n",
    "We'll correct that by adding another parameter to the `read_csv` method.\n",
    "\n",
    "`df = pandas.read_csv('./data/filename.csv', parse_dates=['column_name'])`\n",
    "\n",
    "Find out more about timestamps: https://www.unixtimestamp.com/\n",
    "\n",
    "Have a go and then we'll look at the correct code on the next slide."
   ]
  },
  {
   "cell_type": "code",
   "execution_count": null,
   "metadata": {
    "solution": "shown"
   },
   "outputs": [],
   "source": [
    "df = pandas.read_csv('./data/insert_filename_here.csv', parse_dates=['column_name'])"
   ]
  },
  {
   "cell_type": "code",
   "execution_count": null,
   "metadata": {
    "slideshow": {
     "slide_type": "fragment"
    }
   },
   "outputs": [],
   "source": [
    "# Type your code using the parse_dates method here and check it has been successful"
   ]
  },
  {
   "cell_type": "markdown",
   "metadata": {
    "slideshow": {
     "slide_type": "slide"
    },
    "solution": "hidden",
    "solution_first": true
   },
   "source": [
    "### Choosing an index  \n",
    "\n",
    "pandas has used a zero-based index as default, but we want to use a column from the data. \n",
    "\n",
    "`df = pandas.read_csv('./data/filename.csv', parse_dates=['column_name'], index_col='column_name')`"
   ]
  },
  {
   "cell_type": "code",
   "execution_count": null,
   "metadata": {
    "solution": "hidden"
   },
   "outputs": [],
   "source": [
    "df = pandas.read_csv('./data/insert_filename_here.csv', parse_dates=['column_name'], index_col='column_name')"
   ]
  },
  {
   "cell_type": "code",
   "execution_count": null,
   "metadata": {
    "slideshow": {
     "slide_type": "fragment"
    }
   },
   "outputs": [],
   "source": [
    "# Type your code using a custom index column here "
   ]
  },
  {
   "cell_type": "markdown",
   "metadata": {},
   "source": [
    "## Exercises\n",
    "\n",
    "Work through these instructions at your own pace. Ask for help at any time."
   ]
  },
  {
   "cell_type": "markdown",
   "metadata": {},
   "source": [
    "### 1. Unique values\n",
    "\n",
    "`pandas.unique` tells as all the unique values in a column, e.g. for a column called 'Names'  \n",
    "`unique_names = pandas.unique(df['Names'])`"
   ]
  },
  {
   "cell_type": "code",
   "execution_count": null,
   "metadata": {},
   "outputs": [],
   "source": [
    "# Code for questions 1a and 1b"
   ]
  },
  {
   "cell_type": "markdown",
   "metadata": {},
   "source": [
    "### 2. Basic statistics\n",
    "\n",
    "We can calculate basic statistics for a column using `df['column_name'].describe()'`\n",
    "\n",
    "See what happens when you run this command with a numerical and non-numerical column.\n",
    "\n",
    "We can run specific queries too:     \n",
    "`df['column_name'].min()\n",
    "df['column_name'].max()\n",
    "df['column_name'].mean()\n",
    "df['column_name'].std()\n",
    "df['column_name'].count()`\n",
    "\n",
    "Find out more here: https://pandas.pydata.org/pandas-docs/stable/reference/api/pandas.DataFrame.describe.html"
   ]
  },
  {
   "cell_type": "code",
   "execution_count": null,
   "metadata": {},
   "outputs": [],
   "source": [
    "# Code for question 2a"
   ]
  },
  {
   "cell_type": "code",
   "execution_count": null,
   "metadata": {},
   "outputs": [],
   "source": [
    "# Code for question 2b"
   ]
  },
  {
   "cell_type": "markdown",
   "metadata": {},
   "source": [
    "### 3. Grouping and aggregating\n",
    "\n",
    "We can calculate summary statistics for a group of cour choice using the `groupby` method.   \n",
    "\n",
    "`grouped_data = df.groupby('column_name')`\n",
    "\n",
    "summary statistics for all numeric columns by specified group  \n",
    "`grouped_data.describe()`\n",
    "\n",
    "mean for each numeric column by specified group  \n",
    "`grouped_data.mean()`\n",
    "\n",
    "For example, you might have some exam results in a CSV like this:    \n",
    "`Name,Gender,Result, Group\n",
    "Fred,Male,45, B\n",
    "George,Male,56, A\n",
    "Harry,Male,67, A\n",
    "Iain,Male,78, B\n",
    "Joanne,Female,89, A\n",
    "Kira,Female,90, B\n",
    "Lucy,Female,89, A`\n",
    "\n",
    "You could view summary statistics for exam results (the only numeric column) grouped by gender using this code:   \n",
    "`grouped_by_gender = df.groupby('Gender')\n",
    "print(grouped_by_gender.mean())`\n",
    "\n",
    "And see this (notice the grouping column is not the DataFrame's index):    \n",
    "`       Result                                                      \n",
    "        count       mean        std   min    25%   50%    75%   max\n",
    "Gender                                                             \n",
    "Female    3.0  89.333333   0.577350  89.0  89.00  89.0  89.50  90.0\n",
    "Male      4.0  61.500000  14.200939  45.0  53.25  61.5  69.75  78.0`"
   ]
  },
  {
   "cell_type": "markdown",
   "metadata": {},
   "source": [
    "You could also group by 2 columns. We need to pass a list of columns to the `grouby()` method. Can you remember how to do this?\n",
    "\n",
    "`g_d = df.groupby(['Gender', 'Group'])\n",
    "print(g_d.mean())`\n",
    "\n",
    "`              Result\n",
    "Gender Group        \n",
    "Female A        89.0\n",
    "       B        90.0\n",
    "Male   A        61.5\n",
    "       B        61.5`"
   ]
  },
  {
   "cell_type": "code",
   "execution_count": null,
   "metadata": {},
   "outputs": [],
   "source": [
    "# Code for questions 3a"
   ]
  },
  {
   "cell_type": "code",
   "execution_count": null,
   "metadata": {},
   "outputs": [],
   "source": [
    "# Code for question 3b"
   ]
  },
  {
   "cell_type": "markdown",
   "metadata": {},
   "source": [
    "### 4. Conditional selections\n",
    "\n",
    "We might want to view only data that meets certain conditions. \n",
    "\n",
    "For example, in a DataFrame containing information about films, we could request only films where the `Director` column matched our request. We do this using the boolean conditions we learned about early in the session. \n",
    "\n",
    "We first select the column we're concerned with: `df['Director']`  \n",
    "Then come up with a boolean condition: `== \"Ridley Scott\"`  \n",
    "`df['Director'] == \"Ridley Scott\"` evaluates to either`True` or `False` and printing this would tell us how each column evlauated. \n",
    "\n",
    "To only view films where the condition evaluates to `True` we pass this our code to the DataFrame:  \n",
    "`df[code with column and condition]` so in our example...  `df[df['Director'] == \"Ridley Scott\"]`\n",
    "\n",
    "This looks intimidating because it is a statement nested within another and a different way of using square brackets. Try taking it step by step in the exercise."
   ]
  },
  {
   "cell_type": "code",
   "execution_count": null,
   "metadata": {},
   "outputs": [],
   "source": [
    "# Code for questions 4a, b and c"
   ]
  },
  {
   "cell_type": "markdown",
   "metadata": {},
   "source": [
    "### Writing to CSV\n",
    "\n",
    "`df.to_csv('new_data.csv')`"
   ]
  }
 ],
 "metadata": {
  "celltoolbar": "Slideshow",
  "kernelspec": {
   "display_name": "Python 3",
   "language": "python",
   "name": "python3"
  },
  "language_info": {
   "codemirror_mode": {
    "name": "ipython",
    "version": 3
   },
   "file_extension": ".py",
   "mimetype": "text/x-python",
   "name": "python",
   "nbconvert_exporter": "python",
   "pygments_lexer": "ipython3",
   "version": "3.7.6"
  }
 },
 "nbformat": 4,
 "nbformat_minor": 4
}
