{
 "cells": [
  {
   "cell_type": "markdown",
   "metadata": {
    "slideshow": {
     "slide_type": "slide"
    },
    "solution": "hidden"
   },
   "source": [
    "# Introduction to working with data\n",
    "\n",
    "Run all cells: Cell > Run All\n",
    "Hide output: Cell > All Output > Clear\n",
    "\n",
    "CSV files\n",
    "Using a Python package\n",
    "Reading data from a file\n",
    "Manipulating data\n",
    "Writing to CSV"
   ]
  },
  {
   "cell_type": "markdown",
   "metadata": {
    "slideshow": {
     "slide_type": "slide"
    }
   },
   "source": [
    "## CSV\n",
    "\n",
    "Comma-seperated values represents tabular data\n",
    "\n",
    "Export spreadsheets, databases, represent data available from an API, e.g. Environment Agency\n",
    "\n",
    "First line contains column names, e.g.\n",
    "\n",
    "`column 1 name,column 2 name, column 3 name\n",
    "first row data 1,first row data 2,first row data 3\n",
    "second row data 1,second row data 2,second row data 3`"
   ]
  },
  {
   "cell_type": "markdown",
   "metadata": {
    "slideshow": {
     "slide_type": "slide"
    }
   },
   "source": [
    "## Packages\n",
    "\n",
    "Library of Python files\n",
    "\n",
    "No need to reinvent the wheel! You can use packages other people have developed to do common tasks by 'importing' them\n",
    "\n",
    "pandas: \n",
    "  * Format and clean data\n",
    "  * Calculate statistics\n",
    "  * Visualise data when used with other libraries (not covering today)\n",
    "  * Write data back to a CSV\n",
    "https://pandas.pydata.org/pandas-docs/version/0.16.1/"
   ]
  },
  {
   "cell_type": "markdown",
   "metadata": {
    "slideshow": {
     "slide_type": "slide"
    }
   },
   "source": [
    "## DataFrame\n",
    "\n",
    "2D tabular data structure used by pandas  \n",
    "Labeled axes  \n",
    "Access data using column and row indexes   \n",
    "\n",
    "|   | a | b | c |\n",
    "|---|---|---|---|\n",
    "| 0 | `['a'][0]`  |      |   |\n",
    "| 1 |  | `['b'][1]`|     |  |  \n",
    "| 2 |   |     |  `['c'][2]`  |  \n"
   ]
  },
  {
   "cell_type": "markdown",
   "metadata": {
    "slideshow": {
     "slide_type": "slide"
    }
   },
   "source": [
    "Top surnames in 2019\n",
    "\n",
    "What does value does `['Surname'],[8]` point at?\n",
    "```\n",
    "    Position    Surname  Number\n",
    "0          1      SMITH    1854\n",
    "1          2      BROWN    1307\n",
    "2          3     WILSON    1223\n",
    "3          4    STEWART    1073\n",
    "4          5   CAMPBELL    1068\n",
    "5          6    THOMSON    1062\n",
    "6          7  ROBERTSON    1037\n",
    "7          8   ANDERSON     943\n",
    "8          9     TAYLOR     769\n",
    "9         10     MURRAY     756\n",
    "10        11  MACDONALD     730\n",
    "11        12      SCOTT     726\n",
    "12        13      CLARK     715\n",
    "13        14       REID     686\n",
    "14        15     WATSON     586\n",
    "15        16       ROSS     567\n",
    "16        17      YOUNG     565\n",
    "17        18     WALKER     562\n",
    "18        19   PATERSON     561\n",
    "19        20   MORRISON     560\n",
    "```"
   ]
  },
  {
   "cell_type": "markdown",
   "metadata": {
    "slideshow": {
     "slide_type": "slide"
    }
   },
   "source": [
    "## First steps with pandas\n",
    "\n",
    "We'll work through these instructions together and then you'll work through some exercises individually.\n",
    "\n",
    "`import pandas\n",
    "df = pandas.read_csv('./data/filename.csv')\n",
    "`\n",
    "\n",
    "![readCSV](./images/readCSVLine.PNG)"
   ]
  },
  {
   "cell_type": "code",
   "execution_count": null,
   "metadata": {
    "slideshow": {
     "slide_type": "fragment"
    }
   },
   "outputs": [],
   "source": [
    "# Import pandas and read the CSV file here. Print to screen to check.\n",
    "\n",
    "\n",
    "# Try using print(df.head()) to see what happens\n",
    "\n",
    "\n",
    "# Now try running print(df.info())\n"
   ]
  },
  {
   "cell_type": "markdown",
   "metadata": {
    "slideshow": {
     "slide_type": "slide"
    }
   },
   "source": [
    "Note: NaN = Not a number (usually missing data, we'll look at this in a future course). You can read more here: https://bit.ly/2RnApT9\n",
    "\n",
    "Let's explore the data. We can see that pandas has correctly recognised the column headings by asking for a list of them. You can use this command during the activities if you want to remind yourself of the column names (they are case sensitive)."
   ]
  },
  {
   "cell_type": "code",
   "execution_count": null,
   "metadata": {
    "slideshow": {
     "slide_type": "fragment"
    }
   },
   "outputs": [],
   "source": [
    "print(df.columns)"
   ]
  },
  {
   "cell_type": "markdown",
   "metadata": {
    "slideshow": {
     "slide_type": "slide"
    },
    "solution": "hidden"
   },
   "source": [
    "Check what data types have been assigned to a few of the columns `print(type(df['column_name'][0]))`\n",
    "\n",
    "![check data type](./images/printColumnType.PNG)"
   ]
  },
  {
   "cell_type": "code",
   "execution_count": null,
   "metadata": {
    "solution": "shown"
   },
   "outputs": [],
   "source": [
    "# Check Date column\n",
    "print(type(df['Date'][0]))"
   ]
  },
  {
   "cell_type": "code",
   "execution_count": null,
   "metadata": {
    "slideshow": {
     "slide_type": "fragment"
    }
   },
   "outputs": [],
   "source": [
    "# Check data types here"
   ]
  },
  {
   "cell_type": "markdown",
   "metadata": {
    "slideshow": {
     "slide_type": "slide"
    }
   },
   "source": [
    "### Choosing an index  \n",
    "\n",
    "pandas has used a zero-based index as default, but we want to use a column from the data. \n",
    "\n",
    "`df = pandas.read_csv('./data/filename.csv', index_col='column_name')`"
   ]
  },
  {
   "cell_type": "code",
   "execution_count": null,
   "metadata": {
    "slideshow": {
     "slide_type": "fragment"
    }
   },
   "outputs": [],
   "source": [
    "# Type your code using a custom index column here"
   ]
  },
  {
   "cell_type": "markdown",
   "metadata": {
    "slideshow": {
     "slide_type": "slide"
    }
   },
   "source": [
    "## Exercises\n",
    "\n",
    "Work through the rest of the workbook at your own pace. For each section read the information here in the notebook and then answer the corrosponding question on your question sheet, typing the code in your notebook and running it to test it is correct. You can ask for help at any time."
   ]
  },
  {
   "cell_type": "markdown",
   "metadata": {
    "slideshow": {
     "slide_type": "slide"
    }
   },
   "source": [
    "### 4.1 Unique values\n",
    "\n",
    "`pandas.unique` tells as all the unique values in a column, e.g. for a column called 'Names'  \n",
    "`unique_names = pandas.unique(df['Names'])`"
   ]
  },
  {
   "cell_type": "code",
   "execution_count": null,
   "metadata": {
    "slideshow": {
     "slide_type": "fragment"
    }
   },
   "outputs": [],
   "source": [
    "# Code for questions 4.1a and 4.1b"
   ]
  },
  {
   "cell_type": "markdown",
   "metadata": {
    "slideshow": {
     "slide_type": "slide"
    }
   },
   "source": [
    "### 4.2 Basic statistics\n",
    "\n",
    "We can calculate basic statistics for a column using `df['column_name'].describe()'`\n",
    "\n",
    "See what happens when you run this command with a numerical and non-numerical column.\n",
    "\n",
    "We can run specific queries too:     \n",
    "`df['column_name'].min()\n",
    "df['column_name'].max()\n",
    "df['column_name'].mean()\n",
    "df['column_name'].std()\n",
    "df['column_name'].count()`\n",
    "\n",
    "Find out more here: https://pandas.pydata.org/pandas-docs/stable/reference/api/pandas.DataFrame.describe.html"
   ]
  },
  {
   "cell_type": "code",
   "execution_count": null,
   "metadata": {
    "slideshow": {
     "slide_type": "fragment"
    }
   },
   "outputs": [],
   "source": [
    "# Code for question 4.2a"
   ]
  },
  {
   "cell_type": "code",
   "execution_count": null,
   "metadata": {
    "slideshow": {
     "slide_type": "fragment"
    }
   },
   "outputs": [],
   "source": [
    "# Code for question 4.2b"
   ]
  },
  {
   "cell_type": "markdown",
   "metadata": {
    "slideshow": {
     "slide_type": "slide"
    }
   },
   "source": [
    "### 4.3 Grouping and aggregating\n",
    "\n",
    "We can calculate summary statistics for a group of cour choice using the `groupby` method.   \n",
    "\n",
    "`grouped_data = df.groupby('column_name')`\n",
    "\n",
    "summary statistics for all numeric columns by specified group  \n",
    "`grouped_data.describe()`\n",
    "\n",
    "mean for each numeric column by specified group  \n",
    "`grouped_data.mean()`\n",
    "\n",
    "For example, you might have some exam results in a CSV like this:    \n",
    "`Name,Gender,Result, Group\n",
    "Fred,Male,45, B\n",
    "George,Male,56, A\n",
    "Harry,Male,67, A\n",
    "Iain,Male,78, B\n",
    "Joanne,Female,89, A\n",
    "Kira,Female,90, B\n",
    "Lucy,Female,89, A`\n",
    "\n",
    "You could view summary statistics for exam results (the only numeric column) grouped by gender using this code:   \n",
    "`grouped_by_gender = df.groupby('Gender')\n",
    "print(grouped_by_gender.mean())`\n",
    "\n",
    "And see this (notice the grouping column is not the DataFrame's index):    \n",
    "`       Result                                                      \n",
    "        count       mean        std   min    25%   50%    75%   max\n",
    "Gender                                                             \n",
    "Female    3.0  89.333333   0.577350  89.0  89.00  89.0  89.50  90.0\n",
    "Male      4.0  61.500000  14.200939  45.0  53.25  61.5  69.75  78.0`"
   ]
  },
  {
   "cell_type": "markdown",
   "metadata": {
    "slideshow": {
     "slide_type": "slide"
    }
   },
   "source": [
    "You could also group by 2 columns. We need to pass a list of columns to the `grouby()` method. Can you remember how to do this?\n",
    "\n",
    "`g_d = df.groupby(['Gender', 'Group'])\n",
    "print(g_d.mean())`\n",
    "\n",
    "`              Result\n",
    "Gender Group        \n",
    "Female A        89.0\n",
    "       B        90.0\n",
    "Male   A        61.5\n",
    "       B        61.5`"
   ]
  },
  {
   "cell_type": "code",
   "execution_count": null,
   "metadata": {
    "slideshow": {
     "slide_type": "slide"
    }
   },
   "outputs": [],
   "source": [
    "# Code for questions 4.3a"
   ]
  },
  {
   "cell_type": "code",
   "execution_count": null,
   "metadata": {
    "slideshow": {
     "slide_type": "fragment"
    }
   },
   "outputs": [],
   "source": [
    "# Code for question 4.3b"
   ]
  },
  {
   "cell_type": "markdown",
   "metadata": {
    "slideshow": {
     "slide_type": "slide"
    }
   },
   "source": [
    "### 4.4 Conditional selections\n",
    "\n",
    "We might want to view only data that meets certain conditions. \n",
    "\n",
    "For example, in a DataFrame containing information about films, we could request only films where the `Director` column matched our request. We do this using the boolean conditions we learned about early in the session. \n",
    "\n",
    "We first select the column we're concerned with: `df['Director']`  \n",
    "Then come up with a boolean condition: `== \"Ridley Scott\"`  \n",
    "`df['Director'] == \"Ridley Scott\"` evaluates to either`True` or `False` and printing this would tell us how each column evlauated. \n",
    "\n",
    "To only view films where the condition evaluates to `True` we pass this our code to the DataFrame:  \n",
    "`df[code with column and condition]` so in our example...  `df[df['Director'] == \"Ridley Scott\"]`\n",
    "\n",
    "This looks intimidating because it is a statement nested within another and a different way of using square brackets. Try taking it step by step in the exercise."
   ]
  },
  {
   "cell_type": "code",
   "execution_count": null,
   "metadata": {
    "slideshow": {
     "slide_type": "fragment"
    }
   },
   "outputs": [],
   "source": [
    "# Code for questions 4.4a, b and c"
   ]
  },
  {
   "cell_type": "markdown",
   "metadata": {
    "slideshow": {
     "slide_type": "slide"
    }
   },
   "source": [
    "### Saving your notebook\n",
    "\n",
    "You can return to these notebooks in the future using the same link you used today and we will send round PDF versions. However, if you would like to save a version with your code in click on `File > Download as > HTML`. This file can be opened using your browser, however you will not be able to edit it or run the code. \n",
    "\n",
    "If you want to run these Jupyter notebooks on your own laptop, you can also select the Notebook option to download so you have them saved for the future. You can then open them after you have done some setup. We will cover this in a future workshop, but if you want to have a go yourself, check out this link: https://docs.anaconda.com/anaconda/install/ and this guide: https://www.dataquest.io/blog/jupyter-notebook-tutorial/. Alternatively, keep an eye out for our next workshop!"
   ]
  }
 ],
 "metadata": {
  "celltoolbar": "Slideshow",
  "kernelspec": {
   "display_name": "Python 3",
   "language": "python",
   "name": "python3"
  },
  "language_info": {
   "codemirror_mode": {
    "name": "ipython",
    "version": 3
   },
   "file_extension": ".py",
   "mimetype": "text/x-python",
   "name": "python",
   "nbconvert_exporter": "python",
   "pygments_lexer": "ipython3",
   "version": "3.7.6"
  }
 },
 "nbformat": 4,
 "nbformat_minor": 4
}
