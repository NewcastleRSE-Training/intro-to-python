{
 "cells": [
  {
   "cell_type": "markdown",
   "metadata": {
    "slideshow": {
     "slide_type": "slide"
    },
    "solution": "hidden"
   },
   "source": [
    "# Comparisons, Lists and Loops\n",
    "\n",
    "Prep:   \n",
    "Run all cells - Cell > Run All  \n",
    "Hide output - Cell > All Output > Clear"
   ]
  },
  {
   "cell_type": "markdown",
   "metadata": {
    "slideshow": {
     "slide_type": "slide"
    }
   },
   "source": [
    "## Comparisons\n",
    "\n",
    "We often want to take different actions depending on a condition. \n",
    "\n",
    "We can do this using an `if` statement and indentations to determine sections of code."
   ]
  },
  {
   "cell_type": "code",
   "execution_count": 5,
   "metadata": {
    "slideshow": {
     "slide_type": "fragment"
    }
   },
   "outputs": [
    {
     "name": "stdout",
     "output_type": "stream",
     "text": [
      "yum\n",
      "done\n"
     ]
    }
   ],
   "source": [
    "food = \"cake\"\n",
    "\n",
    "if food==\"cake\": # if the condition evaluates to `true` then run code inside if statement\n",
    "    print(\"yum\")\n",
    "print(\"done\")"
   ]
  },
  {
   "cell_type": "code",
   "execution_count": 6,
   "metadata": {
    "slideshow": {
     "slide_type": "fragment"
    }
   },
   "outputs": [
    {
     "name": "stdout",
     "output_type": "stream",
     "text": [
      "done\n"
     ]
    }
   ],
   "source": [
    "food = \"fish\"\n",
    "\n",
    "if food==\"cake\": # if the condition evaluates to `false` then jump to next section\n",
    "    print(\"yum\")\n",
    "print(\"done\")"
   ]
  },
  {
   "cell_type": "markdown",
   "metadata": {
    "slideshow": {
     "slide_type": "slide"
    }
   },
   "source": [
    "If we want to provide a default option we can use another keyword, `else`."
   ]
  },
  {
   "cell_type": "code",
   "execution_count": 2,
   "metadata": {
    "slideshow": {
     "slide_type": "-"
    }
   },
   "outputs": [
    {
     "name": "stdout",
     "output_type": "stream",
     "text": [
      "not greater\n",
      "done\n"
     ]
    }
   ],
   "source": [
    "num = 37\n",
    "if num > 100: \n",
    "    print('greater')\n",
    "else:\n",
    "    print('not greater')\n",
    "print('done')"
   ]
  },
  {
   "cell_type": "markdown",
   "metadata": {
    "slideshow": {
     "slide_type": "-"
    }
   },
   "source": [
    "![image.png](./images/python-flowchart-conditional.png)"
   ]
  },
  {
   "cell_type": "code",
   "execution_count": null,
   "metadata": {
    "slideshow": {
     "slide_type": "slide"
    }
   },
   "outputs": [],
   "source": [
    "# Make a guess before we run this code\n",
    "\n",
    "num = 340\n",
    "if num > 100:\n",
    "    print('greater')\n",
    "else:\n",
    "    print('not greater')\n",
    "print('done')"
   ]
  },
  {
   "cell_type": "code",
   "execution_count": null,
   "metadata": {
    "slideshow": {
     "slide_type": "slide"
    }
   },
   "outputs": [],
   "source": [
    "# Look carefully at the indentation here, what will happen?\n",
    "\n",
    "num = 340\n",
    "if num > 100:\n",
    "    print('greater')\n",
    "else:\n",
    "    print('not greater')\n",
    "    print('done')"
   ]
  },
  {
   "cell_type": "markdown",
   "metadata": {
    "slideshow": {
     "slide_type": "slide"
    }
   },
   "source": [
    "We can also chain several conditions together using `elif` which is short for 'else if'."
   ]
  },
  {
   "cell_type": "code",
   "execution_count": null,
   "metadata": {
    "slideshow": {
     "slide_type": "-"
    }
   },
   "outputs": [],
   "source": [
    "num = -3\n",
    "\n",
    "if num > 0:\n",
    "    print(num, 'is positive')\n",
    "elif num == 0:\n",
    "    print(num, 'is zero')\n",
    "else:\n",
    "    print(num, 'is negative')"
   ]
  },
  {
   "cell_type": "markdown",
   "metadata": {
    "slideshow": {
     "slide_type": "slide"
    }
   },
   "source": [
    "We might want to test more than one condition using `and`"
   ]
  },
  {
   "cell_type": "code",
   "execution_count": 8,
   "metadata": {
    "slideshow": {
     "slide_type": "-"
    }
   },
   "outputs": [
    {
     "name": "stdout",
     "output_type": "stream",
     "text": [
      "at least one part is false\n"
     ]
    }
   ],
   "source": [
    "if (1 > 0) and (-1 > 0):\n",
    "    print('both parts are true')\n",
    "else:\n",
    "    print('at least one part is false')"
   ]
  },
  {
   "cell_type": "markdown",
   "metadata": {
    "slideshow": {
     "slide_type": "fragment"
    }
   },
   "source": [
    "or alternatives using `or`."
   ]
  },
  {
   "cell_type": "code",
   "execution_count": 9,
   "metadata": {
    "slideshow": {
     "slide_type": "-"
    }
   },
   "outputs": [
    {
     "name": "stdout",
     "output_type": "stream",
     "text": [
      "at least one test is true\n"
     ]
    }
   ],
   "source": [
    "if (1 < 0) or (-1 < 0):\n",
    "    print('at least one test is true')"
   ]
  },
  {
   "cell_type": "markdown",
   "metadata": {
    "slideshow": {
     "slide_type": "slide"
    }
   },
   "source": [
    "If we forget to indent the print statement, we get a helpful error message. "
   ]
  },
  {
   "cell_type": "code",
   "execution_count": 1,
   "metadata": {
    "slideshow": {
     "slide_type": "-"
    }
   },
   "outputs": [
    {
     "ename": "IndentationError",
     "evalue": "expected an indented block (<ipython-input-1-de59f15cb9dd>, line 2)",
     "output_type": "error",
     "traceback": [
      "\u001b[1;36m  File \u001b[1;32m\"<ipython-input-1-de59f15cb9dd>\"\u001b[1;36m, line \u001b[1;32m2\u001b[0m\n\u001b[1;33m    print('at least one test is true')\u001b[0m\n\u001b[1;37m        ^\u001b[0m\n\u001b[1;31mIndentationError\u001b[0m\u001b[1;31m:\u001b[0m expected an indented block\n"
     ]
    }
   ],
   "source": [
    "if (1 < 0) or (-1 < 0):\n",
    "print('at least one test is true')"
   ]
  },
  {
   "cell_type": "markdown",
   "metadata": {
    "slideshow": {
     "slide_type": "slide"
    },
    "solution": "hidden"
   },
   "source": [
    "### Exercise 3.1\n",
    "\n",
    "See if you can work out how nested conditional statements work.\n",
    "\n",
    "Replace the question mark in the code below with a number such that, when you run the code you see this message:  \n",
    "`Above ten,  \n",
    "and also above 20!`\n",
    "\n",
    "Then change the value of x to print:  \n",
    "`Above ten,  \n",
    "but not above 20.`"
   ]
  },
  {
   "cell_type": "code",
   "execution_count": 7,
   "metadata": {
    "slideshow": {
     "slide_type": "-"
    }
   },
   "outputs": [
    {
     "ename": "SyntaxError",
     "evalue": "invalid syntax (<ipython-input-7-3f6d90c435c5>, line 3)",
     "output_type": "error",
     "traceback": [
      "\u001b[1;36m  File \u001b[1;32m\"<ipython-input-7-3f6d90c435c5>\"\u001b[1;36m, line \u001b[1;32m3\u001b[0m\n\u001b[1;33m    x = ?\u001b[0m\n\u001b[1;37m        ^\u001b[0m\n\u001b[1;31mSyntaxError\u001b[0m\u001b[1;31m:\u001b[0m invalid syntax\n"
     ]
    }
   ],
   "source": [
    "# Exercise 3.1 code\n",
    "\n",
    "x = ?\n",
    "\n",
    "if x > 10:\n",
    "  print(\"Above ten,\")\n",
    "  if x > 20:\n",
    "    print(\"and also above 20!\")\n",
    "  else:\n",
    "    print(\"but not above 20.\")"
   ]
  },
  {
   "cell_type": "markdown",
   "metadata": {
    "slideshow": {
     "slide_type": "slide"
    }
   },
   "source": [
    "## Lists\n",
    "\n",
    "We often need to store a collection of variables. There are different types of collection or `array` in Python, we're focusing on 'lists' which is a collection that has an **order** and is **changeable**.\n",
    "\n",
    "We use square brackets `[]` to show something is a list and lists have a name just like the variables we've already seen.   "
   ]
  },
  {
   "cell_type": "markdown",
   "metadata": {
    "slideshow": {
     "slide_type": "slide"
    }
   },
   "source": [
    "Empty list:  ```items_in_fridge = []```\n",
    "\n",
    "List of 3 strings:  ```shopping_list = [ \"eggs\", \"bacon\", \"beans\"]```\n",
    "\n",
    "List of 3 integers:  ```pages = [ 4, 6, 7]```\n",
    "\n",
    "We can use another built-in function (like `print()`) to count how many items are in a list:    \n",
    "`len(shopping_list)`"
   ]
  },
  {
   "cell_type": "markdown",
   "metadata": {
    "slideshow": {
     "slide_type": "slide"
    }
   },
   "source": [
    "### Exercise 3.2\n",
    "Try creating your own list of numbers and printing that list to the screen by adding to this code.   \n",
    "\n",
    "Then add a line to print the length of the list. "
   ]
  },
  {
   "cell_type": "code",
   "execution_count": null,
   "metadata": {
    "slideshow": {
     "slide_type": "-"
    }
   },
   "outputs": [],
   "source": [
    "# Exercise 3.2 code\n",
    "\n",
    "even_numbers = \n",
    "\n",
    "print(?)\n",
    "\n",
    "# Add another line here using the len() method inside the print() method\n"
   ]
  },
  {
   "cell_type": "markdown",
   "metadata": {
    "slideshow": {
     "slide_type": "slide"
    }
   },
   "source": [
    "### Indexing\n",
    "A list has an order so every item has an index.\n",
    "\n",
    "We refer to an index using square brackets `[]` (but in a different way to when we create a new list!). "
   ]
  },
  {
   "cell_type": "code",
   "execution_count": 2,
   "metadata": {
    "slideshow": {
     "slide_type": "slide"
    }
   },
   "outputs": [
    {
     "name": "stdout",
     "output_type": "stream",
     "text": [
      "milk\n",
      "6\n"
     ]
    }
   ],
   "source": [
    "chocolates = [\"dark\", \"milk\", \"80%\", \"white\", \"mint\", \"raspberry\"]\n",
    "print(chocolates[1])"
   ]
  },
  {
   "cell_type": "markdown",
   "metadata": {
    "slideshow": {
     "slide_type": "fragment"
    }
   },
   "source": [
    "You might have expected a different outcome here. Lists in programming are **zero-indexed**. The first element in a list is at index `0`.\n",
    "\n",
    "![image.png](./images/indexing.png)\n",
    "\n"
   ]
  },
  {
   "cell_type": "markdown",
   "metadata": {
    "slideshow": {
     "slide_type": "slide"
    }
   },
   "source": [
    "### Exercise 3.3\n",
    "Can you add a line to this code to print `mint`?"
   ]
  },
  {
   "cell_type": "code",
   "execution_count": null,
   "metadata": {
    "slideshow": {
     "slide_type": "-"
    }
   },
   "outputs": [],
   "source": [
    "# Exercise 3.3 code\n",
    "chocolates = [\"dark\", \"milk\", \"80%\", \"white\", \"mint\", \"raspberry\"]"
   ]
  },
  {
   "cell_type": "markdown",
   "metadata": {
    "slideshow": {
     "slide_type": "slide"
    }
   },
   "source": [
    "### Errors\n",
    "\n",
    "You may have already seen an error when you have tried to run your code. Errors are helpful as they give us clues what we need to change to make our code run correctly.\n",
    "\n",
    "What do you think will happen when we run this?"
   ]
  },
  {
   "cell_type": "code",
   "execution_count": 10,
   "metadata": {
    "slideshow": {
     "slide_type": "fragment"
    }
   },
   "outputs": [
    {
     "ename": "IndexError",
     "evalue": "list index out of range",
     "output_type": "error",
     "traceback": [
      "\u001b[1;31m---------------------------------------------------------------------------\u001b[0m",
      "\u001b[1;31mIndexError\u001b[0m                                Traceback (most recent call last)",
      "\u001b[1;32m<ipython-input-10-33e45b863d1d>\u001b[0m in \u001b[0;36m<module>\u001b[1;34m\u001b[0m\n\u001b[0;32m      1\u001b[0m \u001b[0mchocolates\u001b[0m \u001b[1;33m=\u001b[0m \u001b[1;33m[\u001b[0m\u001b[1;34m\"dark\"\u001b[0m\u001b[1;33m,\u001b[0m \u001b[1;34m\"milk\"\u001b[0m\u001b[1;33m,\u001b[0m \u001b[1;34m\"80%\"\u001b[0m\u001b[1;33m,\u001b[0m \u001b[1;34m\"white\"\u001b[0m\u001b[1;33m,\u001b[0m \u001b[1;34m\"mint\"\u001b[0m\u001b[1;33m,\u001b[0m \u001b[1;34m\"raspberry\"\u001b[0m\u001b[1;33m]\u001b[0m\u001b[1;33m\u001b[0m\u001b[1;33m\u001b[0m\u001b[0m\n\u001b[1;32m----> 2\u001b[1;33m \u001b[0mprint\u001b[0m\u001b[1;33m(\u001b[0m\u001b[0mchocolates\u001b[0m\u001b[1;33m[\u001b[0m\u001b[1;36m6\u001b[0m\u001b[1;33m]\u001b[0m\u001b[1;33m)\u001b[0m\u001b[1;33m\u001b[0m\u001b[1;33m\u001b[0m\u001b[0m\n\u001b[0m",
      "\u001b[1;31mIndexError\u001b[0m: list index out of range"
     ]
    }
   ],
   "source": [
    "chocolates = [\"dark\", \"milk\", \"80%\", \"white\", \"mint\", \"raspberry\"]\n",
    "print(chocolates[6])"
   ]
  },
  {
   "cell_type": "markdown",
   "metadata": {
    "slideshow": {
     "slide_type": "fragment"
    }
   },
   "source": [
    "Let's unpick this: `----> 2 ` tells us where the error is, `IndexError:` tells us what type of error happened, and `list index out of range` gives us more detail. Sometimes we might have error messages that we aren't so easy to interpret. This is where entering the error into a search engine can be very helpful. "
   ]
  },
  {
   "cell_type": "markdown",
   "metadata": {
    "slideshow": {
     "slide_type": "slide"
    }
   },
   "source": [
    "### Adding things to lists\n",
    "\n",
    "Lists in Python are **dynamic** which means we can change their size as many times as we want. \n",
    "\n",
    "We are going to use the `append()` built-in function to add to a list. This function is part of the `list` data type so we type it after the list name and a dot `.`. Functions that are part of data types are sometimes called 'methods'.\n",
    "\n",
    "We will use 'call' the `append` method on `shopping_list`:"
   ]
  },
  {
   "cell_type": "code",
   "execution_count": 11,
   "metadata": {
    "slideshow": {
     "slide_type": "-"
    }
   },
   "outputs": [
    {
     "name": "stdout",
     "output_type": "stream",
     "text": [
      "['eggs', 'bacon', 'beans', 'mushroom']\n"
     ]
    }
   ],
   "source": [
    "shopping_list = [ \"eggs\", \"bacon\", \"beans\"]\n",
    "shopping_list.append(\"mushroom\")\n",
    "\n",
    "print(shopping_list)"
   ]
  },
  {
   "cell_type": "markdown",
   "metadata": {
    "slideshow": {
     "slide_type": "slide"
    }
   },
   "source": [
    "### Exercise 3.4\n",
    "Run the next code block. Do you know why we are getting this result?\n",
    "\n",
    "Try adding grades to this list using the `append` method so that the print statement works correctly."
   ]
  },
  {
   "cell_type": "code",
   "execution_count": 5,
   "metadata": {
    "slideshow": {
     "slide_type": "-"
    }
   },
   "outputs": [
    {
     "ename": "IndexError",
     "evalue": "list index out of range",
     "output_type": "error",
     "traceback": [
      "\u001b[1;31m---------------------------------------------------------------------------\u001b[0m",
      "\u001b[1;31mIndexError\u001b[0m                                Traceback (most recent call last)",
      "\u001b[1;32m<ipython-input-5-f44f40a7b8f5>\u001b[0m in \u001b[0;36m<module>\u001b[1;34m\u001b[0m\n\u001b[0;32m      5\u001b[0m \u001b[1;31m# add code here\u001b[0m\u001b[1;33m\u001b[0m\u001b[1;33m\u001b[0m\u001b[1;33m\u001b[0m\u001b[0m\n\u001b[0;32m      6\u001b[0m \u001b[1;33m\u001b[0m\u001b[0m\n\u001b[1;32m----> 7\u001b[1;33m \u001b[0mprint\u001b[0m\u001b[1;33m(\u001b[0m\u001b[0mgrades\u001b[0m\u001b[1;33m[\u001b[0m\u001b[1;36m6\u001b[0m\u001b[1;33m]\u001b[0m\u001b[1;33m)\u001b[0m\u001b[1;33m\u001b[0m\u001b[1;33m\u001b[0m\u001b[0m\n\u001b[0m",
      "\u001b[1;31mIndexError\u001b[0m: list index out of range"
     ]
    }
   ],
   "source": [
    "# Exercise 3.4 code\n",
    "\n",
    "grades = [ 34, 45, 21, 67, 90]\n",
    "\n",
    "# add your code here using the append() method\n",
    "\n",
    "print(grades[6])"
   ]
  },
  {
   "cell_type": "markdown",
   "metadata": {
    "slideshow": {
     "slide_type": "slide"
    }
   },
   "source": [
    "### Slicing\n",
    "\n",
    "We can also grab sections of a list. This looks similar to asking for an index using square brackets, but with two numbers: a start index (inclusive) and end index (not inclusive). \n",
    "\n",
    "What do you think this will print?"
   ]
  },
  {
   "cell_type": "code",
   "execution_count": null,
   "metadata": {
    "slideshow": {
     "slide_type": "-"
    }
   },
   "outputs": [],
   "source": [
    "grades = [ 34, 45, 21, 67, 90]\n",
    "print(grades[1: 4])"
   ]
  },
  {
   "cell_type": "markdown",
   "metadata": {
    "slideshow": {
     "slide_type": "slide"
    }
   },
   "source": [
    "It might help to count the commas rather than list elements to help you remember this.\n",
    "\n",
    "![image.png](./images/slicing.png)"
   ]
  },
  {
   "cell_type": "markdown",
   "metadata": {
    "slideshow": {
     "slide_type": "slide"
    }
   },
   "source": [
    "## Loops\n",
    "\n",
    "We said that one reason you might want to programme something is to save time and effort when doing something repetitive. \n",
    "\n",
    "We also said that code is executed in the order that it is written. With loops this is not quite true. We tell the interpreter to run some parts of our code multiple times. We are going to use `for each` loop."
   ]
  },
  {
   "cell_type": "code",
   "execution_count": null,
   "metadata": {
    "slideshow": {
     "slide_type": "fragment"
    }
   },
   "outputs": [],
   "source": [
    "# Without a loop\n",
    "apples = [\"granny smith\", \"pink lady\", \"golden delicious\"]\n",
    "print(apples[0])\n",
    "print(apples[1])\n",
    "print(apples[2])"
   ]
  },
  {
   "cell_type": "code",
   "execution_count": 12,
   "metadata": {
    "slideshow": {
     "slide_type": "fragment"
    }
   },
   "outputs": [
    {
     "name": "stdout",
     "output_type": "stream",
     "text": [
      "granny smith\n",
      "pink lady\n",
      "golden delicious\n"
     ]
    }
   ],
   "source": [
    "# With a loop we create a variable name to refer to each element in the loop\n",
    "apples = [\"granny smith\", \"pink lady\", \"golden delicious\"]\n",
    "\n",
    "for apple in apples: \n",
    "    print(apple)"
   ]
  },
  {
   "cell_type": "markdown",
   "metadata": {
    "slideshow": {
     "slide_type": "slide"
    }
   },
   "source": [
    "### Exercise 3.5\n",
    "Create a list called `restaurants` and print each item using a loop"
   ]
  },
  {
   "cell_type": "code",
   "execution_count": null,
   "metadata": {
    "slideshow": {
     "slide_type": "-"
    },
    "solution": "hidden"
   },
   "outputs": [],
   "source": [
    "# Exercise 3.5 code"
   ]
  },
  {
   "cell_type": "markdown",
   "metadata": {
    "slideshow": {
     "slide_type": "slide"
    }
   },
   "source": [
    "### Looping over a range of numbers\n",
    "\n",
    "We are going to use a `for each` loop with a new stand alone built-in function.  \n",
    "\n",
    "`range()` operates with the same rules as slicing, can you guess what this will print?"
   ]
  },
  {
   "cell_type": "code",
   "execution_count": null,
   "metadata": {
    "slideshow": {
     "slide_type": "-"
    }
   },
   "outputs": [],
   "source": [
    "for number in range(10, 13):\n",
    "    print(number)"
   ]
  },
  {
   "cell_type": "code",
   "execution_count": null,
   "metadata": {
    "slideshow": {
     "slide_type": "-"
    }
   },
   "outputs": [],
   "source": [
    "for number in range(5):\n",
    "    print(number)"
   ]
  },
  {
   "cell_type": "markdown",
   "metadata": {
    "slideshow": {
     "slide_type": "slide"
    }
   },
   "source": [
    "## Functions\n",
    "\n",
    "We have written some lines of code, but what if we want to write some code that we can reuse elsewhere in our programme?\n",
    "\n",
    "We can write our own `functions`.  \n",
    "\n",
    "We define a function using the `def` keyword followed by the function name. We then `call` a function from elsewhere in the code using the function name followed by `()`.\n",
    "\n",
    "Functions are only run when they are called. "
   ]
  },
  {
   "cell_type": "code",
   "execution_count": 6,
   "metadata": {
    "slideshow": {
     "slide_type": "fragment"
    }
   },
   "outputs": [
    {
     "name": "stdout",
     "output_type": "stream",
     "text": [
      "Hello world!\n"
     ]
    }
   ],
   "source": [
    "def my_function():\n",
    "    print(\"Hello world!\")\n",
    "    \n",
    "my_function()"
   ]
  },
  {
   "cell_type": "markdown",
   "metadata": {
    "slideshow": {
     "slide_type": "slide"
    }
   },
   "source": [
    "We can pass arguments to a function. In the next example `temp` is a variable that the `fahr_to_celsius` function uses. This function returns a value which we can then use in other functions."
   ]
  },
  {
   "cell_type": "code",
   "execution_count": 10,
   "metadata": {
    "slideshow": {
     "slide_type": "-"
    }
   },
   "outputs": [
    {
     "name": "stdout",
     "output_type": "stream",
     "text": [
      "86.66666666666667\n"
     ]
    }
   ],
   "source": [
    "# Function that takes a single argument and returns the result of a calculation\n",
    "def fahr_to_celsius(temp):\n",
    "    return((temp - 32) * (5/9))\n",
    "\n",
    "# Call the function and save the result in a variable\n",
    "result = fahr_to_celsius(56)\n",
    "\n",
    "# Use the result in other code\n",
    "print(100 - result)"
   ]
  },
  {
   "cell_type": "markdown",
   "metadata": {
    "slideshow": {
     "slide_type": "slide"
    }
   },
   "source": [
    "## Summary exercises\n",
    "\n",
    "Work your way through these exercises and don't forget you can ask for help when you need it. If you don't have time to do them all you could return to them after the workshop."
   ]
  },
  {
   "cell_type": "markdown",
   "metadata": {
    "slideshow": {
     "slide_type": "slide"
    }
   },
   "source": [
    "### 3.6. \n",
    "Write a piece of code that prints `0` to `9`. A message should be printed after each number. Your code should print one message if the number is less than `5`, a different message if the number is equal to `5` and a third message if the number is greater then `5`. \n",
    "\n",
    "Suggestions:\n",
    "* You can use `range()`\n",
    "* You can solve this exercise using one `if`, one `elif`, and one `else`"
   ]
  },
  {
   "cell_type": "code",
   "execution_count": null,
   "metadata": {
    "slideshow": {
     "slide_type": "-"
    }
   },
   "outputs": [],
   "source": [
    "# Exercise 3.6 code"
   ]
  },
  {
   "cell_type": "markdown",
   "metadata": {
    "slideshow": {
     "slide_type": "slide"
    }
   },
   "source": [
    "### 3.7 \n",
    "Write a piece of code that loops through all numbers between 35 and 79 and prints the number if it is divisible by 7. \n",
    "\n",
    "Hint: A number is divisible by 7 if `number % 7 == 0` evaluates to true"
   ]
  },
  {
   "cell_type": "code",
   "execution_count": null,
   "metadata": {
    "slideshow": {
     "slide_type": "-"
    }
   },
   "outputs": [],
   "source": [
    "# Exercise 3.7 code"
   ]
  },
  {
   "cell_type": "markdown",
   "metadata": {
    "slideshow": {
     "slide_type": "slide"
    }
   },
   "source": [
    "### 3.8 \n",
    "You can split a string using this function: \n",
    "\n",
    "`result = your_string.split(seperator)` \n",
    "\n",
    "e.g.\n",
    "\n",
    "`your_string= \"I am great\"`\n",
    "`result = your_string.split(\" \")` (seperator is a space)\n",
    "`print(result) -> [\"I\", \"am\", \"great\"]`\n",
    "\n",
    "Follow these steps to create and call a function that reverses the order of words in a sentence.\n",
    "\n",
    "a. Create a function that takes a single argument called `my_string`\n",
    "\n",
    "b. Within the function, convert the argument to a list with each word as a separate element and store this list as a variable.\n",
    "You can look at the example above if you're not sure about this step\n",
    "\n",
    "c. Create a new string that contains the same words as your original, but in the reverse order. You can assume you know your argument has 5 words in it\n",
    "\n",
    "d. Print this new string to the screen\n",
    "\n",
    "e. Call your function with a 5 word string"
   ]
  },
  {
   "cell_type": "code",
   "execution_count": null,
   "metadata": {
    "slideshow": {
     "slide_type": "-"
    }
   },
   "outputs": [],
   "source": [
    "# Exercise 3.8 code"
   ]
  }
 ],
 "metadata": {
  "celltoolbar": "Slideshow",
  "kernelspec": {
   "display_name": "Python 3",
   "language": "python",
   "name": "python3"
  },
  "language_info": {
   "codemirror_mode": {
    "name": "ipython",
    "version": 3
   },
   "file_extension": ".py",
   "mimetype": "text/x-python",
   "name": "python",
   "nbconvert_exporter": "python",
   "pygments_lexer": "ipython3",
   "version": "3.7.6"
  }
 },
 "nbformat": 4,
 "nbformat_minor": 4
}
