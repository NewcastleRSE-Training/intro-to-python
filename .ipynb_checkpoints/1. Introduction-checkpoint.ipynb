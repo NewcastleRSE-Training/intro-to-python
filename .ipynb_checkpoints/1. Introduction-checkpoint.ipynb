{
 "cells": [
  {
   "cell_type": "markdown",
   "metadata": {
    "slideshow": {
     "slide_type": "slide"
    }
   },
   "source": [
    "# Introduction to Python\n",
    "\n",
    "TODO - hide answers (cell > all output > clear), make images available online\n",
    "\n",
    "* Introduction to the Research Software Engineering team\n",
    "* What to expect\n",
    "* Programming intro\n",
    "* Data types\n",
    "* Comparisons, Lists and Loops\n",
    "\n"
   ]
  },
  {
   "cell_type": "markdown",
   "metadata": {
    "slideshow": {
     "slide_type": "slide"
    }
   },
   "source": [
    "# Research Software Engineering team\n",
    "\n",
    "Support research across the university through the application of software engineering best practice through:  \n",
    "* Training\n",
    "* Collaborating with researchers to build software to address their research challenges\n",
    "\n",
    "Find out more https://research.ncl.ac.uk/rse/   \n",
    "Follow us on Twitter @ncl_rse  \n",
    "Subscribe to our mailing list `rse-updates`  "
   ]
  },
  {
   "cell_type": "markdown",
   "metadata": {
    "slideshow": {
     "slide_type": "slide"
    }
   },
   "source": [
    "# What to expect\n",
    "\n",
    "* Introduce key concepts, becoming more hands-on as we progress\n",
    "* PDF and notebooks to refer to after the session\n",
    "* Ask questions at any time, no question is too simple\n"
   ]
  },
  {
   "cell_type": "markdown",
   "metadata": {
    "slideshow": {
     "slide_type": "fragment"
    }
   },
   "source": [
    "![postIts.PNG](./images/postIts.PNG)"
   ]
  },
  {
   "cell_type": "markdown",
   "metadata": {
    "slideshow": {
     "slide_type": "slide"
    }
   },
   "source": [
    "# Introduction to Programming\n",
    "\n",
    "### What is code?\n",
    "Computers can only understand two distinct types of data, on and off. Binary code represents this using `0` and `1`. \n",
    "![binary.PNG](./images/binary.PNG)"
   ]
  },
  {
   "cell_type": "markdown",
   "metadata": {
    "slideshow": {
     "slide_type": "slide"
    }
   },
   "source": [
    "### What is code?\n",
    "Writing binary code would not be practical!\n",
    "\n",
    "We use programming languages that are eventually translated into binary code when we run the code. \n",
    "\n",
    "Each language has its own syntax and pro's and con's. \n",
    "\n",
    "Have you heard of any languages?\n",
    "\n",
    "todo: create image showing differnt language's logos\n"
   ]
  },
  {
   "cell_type": "markdown",
   "metadata": {
    "slideshow": {
     "slide_type": "slide"
    }
   },
   "source": [
    "### Why might you code?\n",
    "\n",
    "* Scale and speed\n",
    "* Reproducibility\n",
    "* Write your own code or use open source solutions rather than propietary options\n",
    "* Flexibility, your tools are just how you want them to be"
   ]
  },
  {
   "cell_type": "markdown",
   "metadata": {
    "slideshow": {
     "slide_type": "slide"
    }
   },
   "source": [
    "### Why Python?\n",
    "\n",
    "* Open source with a large support community\n",
    "* Packages available that mean you can use other people's code rather than always starting from scratch\n",
    "* Relatively readable syntax\n",
    "* Good for testing\n",
    "* Can use for web development\n",
    "* Good options for data manipulation and analysis\n",
    "\n",
    "Once you've learnt core programming concepts in one language it becomes easier to learn other languages if you want to.\n",
    "\n"
   ]
  },
  {
   "cell_type": "markdown",
   "metadata": {
    "slideshow": {
     "slide_type": "slide"
    }
   },
   "source": [
    "# Setup\n",
    "\n",
    "### What is an interpretor?\n",
    "We need to translate our Python code into binary so that a computer can understand it. We call this 'interpetation' and use an 'interpretor' to do it. Each line of code is interpted one at a time.\n",
    "\n",
    "We are using Jupyter notebooks to write and run our code. Jupyter notebooks can store images and writing but also interpret code. "
   ]
  },
  {
   "cell_type": "markdown",
   "metadata": {
    "slideshow": {
     "slide_type": "slide"
    }
   },
   "source": [
    "### How to use Jupyter notebooks\n",
    "\n",
    "todo: participants need instructions to open their own local notebook or to use google colab before this presentation starts\n",
    "\n",
    "* Follow along in your own notebook\n",
    "* Code blocks that can be run start with `In []:` (for input)\n",
    "* To run, select and click 'Run' at the top of the page\n",
    "* Output appears below starting with `Out []:`\n",
    "* Starts from top of page\n",
    "* Saving\n",
    "\n",
    "todo: exercise blocks, saving"
   ]
  },
  {
   "cell_type": "markdown",
   "metadata": {
    "slideshow": {
     "slide_type": "slide"
    }
   },
   "source": [
    "## Your first line of code"
   ]
  },
  {
   "cell_type": "code",
   "execution_count": 11,
   "metadata": {
    "slideshow": {
     "slide_type": "fragment"
    }
   },
   "outputs": [
    {
     "name": "stdout",
     "output_type": "stream",
     "text": [
      "Hello world!\n"
     ]
    }
   ],
   "source": [
    "print(\"Hello world!\")"
   ]
  },
  {
   "cell_type": "markdown",
   "metadata": {
    "slideshow": {
     "slide_type": "fragment"
    }
   },
   "source": [
    "Write and run a line of code that will display 'I am ready to learn Python' on the screen"
   ]
  },
  {
   "cell_type": "code",
   "execution_count": null,
   "metadata": {
    "slideshow": {
     "slide_type": "skip"
    }
   },
   "outputs": [],
   "source": []
  }
 ],
 "metadata": {
  "kernelspec": {
   "display_name": "Python 3",
   "language": "python",
   "name": "python3"
  },
  "language_info": {
   "codemirror_mode": {
    "name": "ipython",
    "version": 3
   },
   "file_extension": ".py",
   "mimetype": "text/x-python",
   "name": "python",
   "nbconvert_exporter": "python",
   "pygments_lexer": "ipython3",
   "version": "3.7.6"
  }
 },
 "nbformat": 4,
 "nbformat_minor": 4
}
