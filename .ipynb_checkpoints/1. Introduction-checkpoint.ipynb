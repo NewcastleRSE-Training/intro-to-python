{
 "cells": [
  {
   "cell_type": "markdown",
   "metadata": {
    "slideshow": {
     "slide_type": "slide"
    }
   },
   "source": [
    "Instructions to access notebook...\n"
   ]
  },
  {
   "cell_type": "markdown",
   "metadata": {
    "slideshow": {
     "slide_type": "slide"
    }
   },
   "source": [
    "# Introduction to Python\n",
    "\n",
    "TODO - hide answers (cell > all output > clear), make images available online\n",
    "\n",
    "* Introduction to the Research Software Engineering team\n",
    "* What to expect\n",
    "* Programming intro\n",
    "* Data types\n",
    "* Comparisons, Lists and Loops\n",
    "\n"
   ]
  },
  {
   "cell_type": "markdown",
   "metadata": {
    "slideshow": {
     "slide_type": "slide"
    }
   },
   "source": [
    "# Research Software Engineering team\n",
    "\n",
    "Support research across the university through the application of software engineering best practice through:  \n",
    "* Training\n",
    "* Collaborating with researchers to build software to address their research challenges\n",
    "\n",
    "Find out more https://research.ncl.ac.uk/rse/   \n",
    "Follow us on Twitter @ncl_rse  \n",
    "Subscribe to our mailing list `rse-updates`  "
   ]
  },
  {
   "cell_type": "markdown",
   "metadata": {
    "slideshow": {
     "slide_type": "slide"
    }
   },
   "source": [
    "# What to expect\n",
    "\n",
    "* Introduce key concepts, becoming more hands-on as we progress\n",
    "* PDF and notebooks to refer to after the session\n",
    "* Ask questions at any time, no question is too simple\n"
   ]
  },
  {
   "cell_type": "markdown",
   "metadata": {
    "slideshow": {
     "slide_type": "fragment"
    }
   },
   "source": [
    "![postIts.PNG](./images/postIts.PNG)"
   ]
  },
  {
   "cell_type": "markdown",
   "metadata": {
    "slideshow": {
     "slide_type": "slide"
    }
   },
   "source": [
    "# Introduction to Programming\n",
    "\n",
    "### What is code?\n",
    "\n",
    "Computers can only understand two distinct types of data, on and off. Binary code represents this using `0` and `1`. \n",
    "\n",
    "![Binary code](./images/binary.png)"
   ]
  },
  {
   "cell_type": "markdown",
   "metadata": {
    "slideshow": {
     "slide_type": "slide"
    }
   },
   "source": [
    "### Origins - Punched cards in Jacquard looms\n",
    "\n",
    "Needle goes through hole = thread lifts\n",
    "\n",
    "![Punched cards](./images/punchcard2.jpg)"
   ]
  },
  {
   "cell_type": "markdown",
   "metadata": {
    "slideshow": {
     "slide_type": "slide"
    }
   },
   "source": [
    "### Origins - Babbage's analytical machine and Lovelace's punched card algorithms\n",
    "\n",
    "![Analytical engine](./images/analyticalengine.jpg)\n",
    "\n",
    "Transistors have replaced the pins and punched cards in computers today."
   ]
  },
  {
   "cell_type": "markdown",
   "metadata": {
    "slideshow": {
     "slide_type": "slide"
    }
   },
   "source": [
    "### What is code?\n",
    "\n",
    "Writing binary code would not be practical!\n",
    "\n",
    "We use programming languages to write code that is eventually translated into binary\n",
    "\n",
    "Code: instructions for computer"
   ]
  },
  {
   "cell_type": "markdown",
   "metadata": {
    "slideshow": {
     "slide_type": "slide"
    }
   },
   "source": [
    "### What is a program?\n",
    "\n",
    "Program: text file following the rules of the language we are using containing instructions\n",
    "\n",
    "Imagine giving someone instructions to drive somewhere, including what to do in different scenarios (plus they don't even know how to drive)."
   ]
  },
  {
   "cell_type": "markdown",
   "metadata": {
    "slideshow": {
     "slide_type": "slide"
    }
   },
   "source": [
    "### What are programming languages?\n",
    "\n",
    "Different languages have different rules and syntax\n",
    "\n",
    "Pro's and con's, trends\n",
    "\n",
    "What languages have you heard of?"
   ]
  },
  {
   "cell_type": "markdown",
   "metadata": {
    "slideshow": {
     "slide_type": "slide"
    }
   },
   "source": [
    "### Why might you code?\n",
    "\n",
    "Scale and speed  \n",
    "Reproducibility   \n",
    "Value: write your own code or use open source solutions rather than propietary options  \n",
    "Flexibility: your tools are just how you want them to be  "
   ]
  },
  {
   "cell_type": "markdown",
   "metadata": {
    "slideshow": {
     "slide_type": "slide"
    }
   },
   "source": [
    "### Why Python?\n",
    "\n",
    "Open source with a large support community    \n",
    "Relatively readable   \n",
    "Lots of packages    \n",
    "Good for testing  \n",
    "Web   \n",
    "Data manipulation and analysis  \n",
    "\n",
    "Once you've learnt core programming concepts in one language it becomes easier to learn other languages if you want to.\n",
    "\n"
   ]
  },
  {
   "cell_type": "markdown",
   "metadata": {
    "slideshow": {
     "slide_type": "slide"
    }
   },
   "source": [
    "# Setup\n",
    "\n",
    "### What is an interpretor?\n",
    "We need to translate our Python code into binary so that a computer can understand it. We call this 'interpetation' and use an 'interpretor' to do it. Each line of code is interpted one at a time.\n",
    "\n",
    "We are using Jupyter notebooks to write and run our code. Jupyter notebooks can store images and writing but also interpret code. "
   ]
  },
  {
   "cell_type": "markdown",
   "metadata": {
    "slideshow": {
     "slide_type": "slide"
    }
   },
   "source": [
    "### How to use Jupyter notebooks\n",
    "\n",
    "todo: participants need instructions to open their own local notebook or to use google colab before this presentation starts\n",
    "   \n",
    "\n",
    "Code blocks start with `In []:` (for input) \n",
    "\n",
    "To run click 'Run'\n",
    "\n",
    "Output starts with `Out []:`    \n",
    "\n",
    "Starts from top of page     \n",
    "\n",
    "Exercises have hidden hints and solutions - view these by clicking `+` on the left of the block   \n",
    "\n",
    "Scroll, view whole output, or hide output by clicking to left of printed results"
   ]
  },
  {
   "cell_type": "markdown",
   "metadata": {
    "slideshow": {
     "slide_type": "slide"
    }
   },
   "source": [
    "## Your first line of code"
   ]
  },
  {
   "cell_type": "code",
   "execution_count": 2,
   "metadata": {
    "scrolled": true,
    "slideshow": {
     "slide_type": "fragment"
    }
   },
   "outputs": [
    {
     "name": "stdout",
     "output_type": "stream",
     "text": [
      "Hello world!\n"
     ]
    }
   ],
   "source": [
    "print(\"Hello world!\")"
   ]
  },
  {
   "cell_type": "markdown",
   "metadata": {
    "slideshow": {
     "slide_type": "fragment"
    }
   },
   "source": [
    "Write and run a line of code that will display 'I am ready to learn Python' on the screen"
   ]
  },
  {
   "cell_type": "code",
   "execution_count": null,
   "metadata": {
    "slideshow": {
     "slide_type": "skip"
    }
   },
   "outputs": [],
   "source": []
  }
 ],
 "metadata": {
  "celltoolbar": "Slideshow",
  "kernelspec": {
   "display_name": "Python 3",
   "language": "python",
   "name": "python3"
  },
  "language_info": {
   "codemirror_mode": {
    "name": "ipython",
    "version": 3
   },
   "file_extension": ".py",
   "mimetype": "text/x-python",
   "name": "python",
   "nbconvert_exporter": "python",
   "pygments_lexer": "ipython3",
   "version": "3.7.6"
  }
 },
 "nbformat": 4,
 "nbformat_minor": 4
}
