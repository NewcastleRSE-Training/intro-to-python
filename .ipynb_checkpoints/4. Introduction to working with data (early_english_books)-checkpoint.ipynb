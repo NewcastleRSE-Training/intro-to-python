{
 "cells": [
  {
   "cell_type": "markdown",
   "metadata": {
    "slideshow": {
     "slide_type": "slide"
    }
   },
   "source": [
    "# Introduction to working with data\n",
    "\n",
    "todo: add note about hiding output\n",
    "\n",
    "CSV files\n",
    "Using a Python package\n",
    "Reading data from a file\n",
    "Manipulating data\n",
    "Writing to CSV"
   ]
  },
  {
   "cell_type": "markdown",
   "metadata": {
    "slideshow": {
     "slide_type": "slide"
    }
   },
   "source": [
    "## CSV\n",
    "\n",
    "Comma-seperated values represents tabular data\n",
    "\n",
    "Export spreadsheets, databases, represent data available from an API, e.g. Environment Agency\n",
    "\n",
    "First line contains column names, e.g.\n",
    "\n",
    "`column 1 name,column 2 name, column 3 name\n",
    "first row data 1,first row data 2,first row data 3\n",
    "second row data 1,second row data 2,second row data 3`"
   ]
  },
  {
   "cell_type": "markdown",
   "metadata": {
    "slideshow": {
     "slide_type": "slide"
    }
   },
   "source": [
    "## Packages\n",
    "\n",
    "Library of Python files\n",
    "\n",
    "No need to reinvent the wheel! You can use packages other people have developed to do common tasks by 'importing' them\n",
    "\n",
    "pandas: \n",
    "   `\"fast, flexible, and expressive data structures designed to make working with “relational” or “labeled” data both easy and intuitive. It aims to be the fundamental high-level building block for doing practical, real world data analysis in Python\"`   \n",
    "https://pandas.pydata.org/pandas-docs/version/0.16.1/"
   ]
  },
  {
   "cell_type": "markdown",
   "metadata": {
    "slideshow": {
     "slide_type": "slide"
    }
   },
   "source": [
    "## DataFrame\n",
    "\n",
    "2D tabular data structure used by pandas  \n",
    "Labeled axes  \n",
    "Access data using column and row indexes   \n",
    "\n",
    "|   | a | b | c |\n",
    "|---|---|---|---|\n",
    "| 0 | `['a'][0]`  |      |   |\n",
    "| 1 |  | `['b'][1]`|     |  |  \n",
    "| 2 |   |     |  `['c'][2]`  |  \n"
   ]
  },
  {
   "cell_type": "markdown",
   "metadata": {
    "slideshow": {
     "slide_type": "slide"
    }
   },
   "source": [
    "## First steps with pandas\n",
    "\n",
    "We'll work through these instructions together and then you'll follow the rest of the tutorial individual.\n",
    "\n",
    "`import pandas\n",
    "df = pandas.read_csv('./data/filename.csv')\n",
    "`\n",
    "\n",
    "Then:\n",
    "\n",
    "![readCSV](./images/readCSVLine.PNG)"
   ]
  },
  {
   "cell_type": "code",
   "execution_count": 11,
   "metadata": {
    "slideshow": {
     "slide_type": "fragment"
    }
   },
   "outputs": [],
   "source": [
    "# Import pandas and read CSV file here. Print to screen to check!\n"
   ]
  },
  {
   "cell_type": "markdown",
   "metadata": {
    "slideshow": {
     "slide_type": "slide"
    }
   },
   "source": [
    "Let's explore the data. Pandas has correctly recognised the column headings, that's a good start.\n",
    "\n",
    "Check what data types have been assigned to a few of the columns `print(type(df['column_name'][0]))`\n",
    "\n",
    "![check data type](./images/printColumnType.PNG)"
   ]
  },
  {
   "cell_type": "code",
   "execution_count": null,
   "metadata": {
    "slideshow": {
     "slide_type": "fragment"
    }
   },
   "outputs": [],
   "source": [
    "# Check data types here"
   ]
  },
  {
   "cell_type": "markdown",
   "metadata": {
    "slideshow": {
     "slide_type": "slide"
    }
   },
   "source": [
    "### Correcting data types\n",
    "\n",
    "What data type is the date column?\n",
    "\n",
    "We'll correct that by adding another parameter to the `read_csv` method.\n",
    "\n",
    "`df = pandas.read_csv('./data/filename.csv', parse_dates=['column_name'])`\n",
    "\n",
    "Find out more about timestamps: https://www.unixtimestamp.com/"
   ]
  },
  {
   "cell_type": "code",
   "execution_count": null,
   "metadata": {
    "slideshow": {
     "slide_type": "fragment"
    }
   },
   "outputs": [],
   "source": [
    "# Type your code using the parse_dates method here"
   ]
  },
  {
   "cell_type": "markdown",
   "metadata": {
    "slideshow": {
     "slide_type": "slide"
    }
   },
   "source": [
    "### Choosing an index  \n",
    "\n",
    "pandas has used a zero-based index as default, but we want to use a column from the data. \n",
    "\n",
    "`df = pandas.read_csv('./data/filename.csv', parse_dates=['column_name'], index_col='column_name')`"
   ]
  },
  {
   "cell_type": "code",
   "execution_count": null,
   "metadata": {
    "slideshow": {
     "slide_type": "fragment"
    }
   },
   "outputs": [],
   "source": [
    "# Type your code using a custom index column here "
   ]
  },
  {
   "cell_type": "markdown",
   "metadata": {},
   "source": [
    "## Exercises\n",
    "\n",
    "Work through these instructions at your own pace. Ask for help at any time."
   ]
  },
  {
   "cell_type": "markdown",
   "metadata": {},
   "source": [
    "### Unique values\n",
    "\n",
    "`pandas.unique` tells as all the unique values in a column, e.g. for a column called 'Names'  \n",
    "`unique_names = pandas.unique(df['Names'])`\n",
    "\n",
    "1. Create a list of unique values in one of the columns.\n",
    "2. How many unique values are there in this column? You can look back at the previous notebook if you need a reminder how to do this."
   ]
  },
  {
   "cell_type": "code",
   "execution_count": null,
   "metadata": {},
   "outputs": [],
   "source": [
    "# Unique values code"
   ]
  },
  {
   "cell_type": "markdown",
   "metadata": {},
   "source": [
    "### Basic statistics\n",
    "\n",
    "We can calculate basic statistics for a column using `df['column_name'].describe()'`\n",
    "\n",
    "See what happens when you run this command with a numerical and non-numerical column.\n",
    "\n",
    "We can run specific queries too: \n",
    "`df['column_name'].min()\n",
    "df['column_name'].max()\n",
    "df['column_name'].mean()\n",
    "df['column_name'].std()\n",
    "df['column_name'].count()`"
   ]
  },
  {
   "cell_type": "code",
   "execution_count": null,
   "metadata": {},
   "outputs": [],
   "source": [
    "# Basic statistics code"
   ]
  },
  {
   "cell_type": "markdown",
   "metadata": {},
   "source": [
    "### Groupby\n",
    "\n",
    "We can calculate summary statistics for a group of cour choice using the `groupby` method.   \n",
    "\n",
    "`grouped_data = df.groupby('column_name')`\n",
    "\n",
    "summary statistics for all numeric columns by specified group  \n",
    "`grouped_data.describe()`\n",
    "\n",
    "mean for each numeric column by specified group  \n",
    "`grouped_data.mean()`\n",
    "\n",
    "For example, you might have some exam results in a CSV like this:    \n",
    "`Name,Gender,Result\n",
    "Fred,Male,45\n",
    "George,Male,56\n",
    "Harry,Male,67\n",
    "Iain,Male,78\n",
    "Joanne,Female,89\n",
    "Kira,Female,90\n",
    "Lucy,Female,89`\n",
    "\n",
    "You could view summary statistics for exam results (the only numeric column) grouped by gender using this code:   \n",
    "`grouped_by_gender = df.groupby('Gender')\n",
    "print(grouped_by_gender.mean())`\n",
    "\n",
    "And see this:    \n",
    "`       Result                                                      \n",
    "        count       mean        std   min    25%   50%    75%   max\n",
    "Gender                                                             \n",
    "Female    3.0  89.333333   0.577350  89.0  89.00  89.0  89.50  90.0\n",
    "Male      4.0  61.500000  14.200939  45.0  53.25  61.5  69.75  78.0`\n",
    "\n",
    "1. What is the mean page length for books published in Amsterdam?\n",
    "2. What happens if you group by two columns and then find the mean? Use this syntax for the grouping: `grouped_data2 = df.groupby(['EBBO', 'Page Count'])"
   ]
  },
  {
   "cell_type": "code",
   "execution_count": null,
   "metadata": {},
   "outputs": [],
   "source": []
  },
  {
   "cell_type": "markdown",
   "metadata": {},
   "source": [
    "### Queries"
   ]
  },
  {
   "cell_type": "code",
   "execution_count": 42,
   "metadata": {},
   "outputs": [
    {
     "name": "stdout",
     "output_type": "stream",
     "text": [
      "       Result                                                      \n",
      "        count       mean        std   min    25%   50%    75%   max\n",
      "Gender                                                             \n",
      "Female    3.0  89.333333   0.577350  89.0  89.00  89.0  89.50  90.0\n",
      "Male      4.0  61.500000  14.200939  45.0  53.25  61.5  69.75  78.0\n"
     ]
    }
   ],
   "source": [
    "import pandas\n",
    "\n",
    "df = pandas.read_csv('./data/testData.csv')\n",
    "\n",
    "g_d = df.groupby('Gender')\n",
    "\n",
    "print(g_d.describe())\n"
   ]
  },
  {
   "cell_type": "code",
   "execution_count": null,
   "metadata": {},
   "outputs": [],
   "source": []
  }
 ],
 "metadata": {
  "celltoolbar": "Slideshow",
  "kernelspec": {
   "display_name": "Python 3",
   "language": "python",
   "name": "python3"
  },
  "language_info": {
   "codemirror_mode": {
    "name": "ipython",
    "version": 3
   },
   "file_extension": ".py",
   "mimetype": "text/x-python",
   "name": "python",
   "nbconvert_exporter": "python",
   "pygments_lexer": "ipython3",
   "version": "3.7.6"
  }
 },
 "nbformat": 4,
 "nbformat_minor": 4
}
