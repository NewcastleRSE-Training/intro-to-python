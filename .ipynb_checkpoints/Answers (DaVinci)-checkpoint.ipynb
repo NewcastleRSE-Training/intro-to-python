{
 "cells": [
  {
   "cell_type": "markdown",
   "metadata": {},
   "source": [
    "# Answers for DaVinci data"
   ]
  },
  {
   "cell_type": "markdown",
   "metadata": {},
   "source": [
    "## Group setup code \n",
    "Code templates are included in hidden solution code blocks in notebook but require correct filename and column names added."
   ]
  },
  {
   "cell_type": "code",
   "execution_count": 2,
   "metadata": {},
   "outputs": [
    {
     "name": "stdout",
     "output_type": "stream",
     "text": [
      "Index(['BL record ID', 'Type of resource', 'Content type', 'Material type',\n",
      "       'BNB number', 'Archival Resource Key', 'ISBN', 'Name',\n",
      "       'Dates associated with name', 'Type of name', 'Role', 'All names',\n",
      "       'Title', 'Variant titles', 'Series title', 'Number within series',\n",
      "       'Country of publication', 'Place of publication', 'Publisher',\n",
      "       'Date of creation/publication', 'Edition', 'Physical description',\n",
      "       'Dewey classification', 'BL shelfmark', 'Topics', 'Genre', 'Languages',\n",
      "       'Notes', 'Provenance'],\n",
      "      dtype='object')\n"
     ]
    }
   ],
   "source": [
    "import pandas\n",
    "df = pandas.read_csv('./data/DaVinci.csv')\n",
    "print(df.columns)"
   ]
  },
  {
   "cell_type": "code",
   "execution_count": 4,
   "metadata": {},
   "outputs": [
    {
     "name": "stdout",
     "output_type": "stream",
     "text": [
      "      TCP      EEBO    VID                       STC Status  \\\n",
      "0  A00002  99850634  15849  STC 1000.5; ESTC S115415   Free   \n",
      "1  A00005  99842408   7058   STC 10000; ESTC S106695   Free   \n",
      "2  A00007  99844302   9101   STC 10002; ESTC S108645   Free   \n",
      "3  A00008  99848896  14017   STC 10003; ESTC S113665   Free   \n",
      "4  A00011  99837000   1304   STC 10008; ESTC S101178   Free   \n",
      "\n",
      "                                              Author  Date  \\\n",
      "0                         Aylett, Robert, 1583-1655?  1625   \n",
      "1  Higden, Ranulf, d. 1364. Polycronicon. English...  1515   \n",
      "2             Higden, Ranulf, d. 1364. Polycronicon.  1528   \n",
      "3          Wood, William, fl. 1623, attributed name.  1623   \n",
      "4                                                NaN  1640   \n",
      "\n",
      "                                               Title  \\\n",
      "0  The brides ornaments viz. fiue meditations, mo...   \n",
      "1  Here begynneth a shorte and abreue table on th...   \n",
      "2  The Cronycles of Englonde with the dedes of po...   \n",
      "3  Considerations vpon the treaty of marriage bet...   \n",
      "4  Englands complaint to Iesus Christ, against th...   \n",
      "\n",
      "                                               Terms  Page Count  \\\n",
      "0                                                NaN         134   \n",
      "1  Great Britain -- History -- To 1485 -- Early w...         302   \n",
      "2  Great Britain -- History -- To 1485 -- Early w...         386   \n",
      "3       Great Britain -- Foreign relations -- Spain.          14   \n",
      "4  Church of England. -- Thirty-nine Articles -- ...          54   \n",
      "\n",
      "              Place  \n",
      "0            London  \n",
      "1            London  \n",
      "2            London  \n",
      "3  The Netherlands?  \n",
      "4         Amsterdam  \n"
     ]
    }
   ],
   "source": [
    "# Print first few lines\n",
    "\n",
    "print(df.head())"
   ]
  },
  {
   "cell_type": "code",
   "execution_count": 5,
   "metadata": {},
   "outputs": [
    {
     "name": "stdout",
     "output_type": "stream",
     "text": [
      "<class 'pandas.core.frame.DataFrame'>\n",
      "RangeIndex: 149 entries, 0 to 148\n",
      "Data columns (total 11 columns):\n",
      " #   Column      Non-Null Count  Dtype \n",
      "---  ------      --------------  ----- \n",
      " 0   TCP         149 non-null    object\n",
      " 1   EEBO        149 non-null    int64 \n",
      " 2   VID         149 non-null    int64 \n",
      " 3   STC         149 non-null    object\n",
      " 4   Status      149 non-null    object\n",
      " 5   Author      136 non-null    object\n",
      " 6   Date        149 non-null    int64 \n",
      " 7   Title       149 non-null    object\n",
      " 8   Terms       141 non-null    object\n",
      " 9   Page Count  149 non-null    int64 \n",
      " 10  Place       149 non-null    object\n",
      "dtypes: int64(4), object(7)\n",
      "memory usage: 12.9+ KB\n",
      "None\n"
     ]
    }
   ],
   "source": [
    "# Print summary information\n",
    "\n",
    "print(df.info())"
   ]
  },
  {
   "cell_type": "code",
   "execution_count": 6,
   "metadata": {},
   "outputs": [
    {
     "name": "stdout",
     "output_type": "stream",
     "text": [
      "<class 'numpy.int64'>\n"
     ]
    }
   ],
   "source": [
    "# Print the type of the Data column which is currently an int rather than Date\n",
    "print(type(df['Date'][0]))"
   ]
  },
  {
   "cell_type": "code",
   "execution_count": 7,
   "metadata": {},
   "outputs": [
    {
     "name": "stdout",
     "output_type": "stream",
     "text": [
      "        TCP      EEBO    VID                       STC Status  \\\n",
      "0    A00002  99850634  15849  STC 1000.5; ESTC S115415   Free   \n",
      "1    A00005  99842408   7058   STC 10000; ESTC S106695   Free   \n",
      "2    A00007  99844302   9101   STC 10002; ESTC S108645   Free   \n",
      "3    A00008  99848896  14017   STC 10003; ESTC S113665   Free   \n",
      "4    A00011  99837000   1304   STC 10008; ESTC S101178   Free   \n",
      "..      ...       ...    ...                       ...    ...   \n",
      "144  A00519  99849883  15055   STC 10654; ESTC S114658   Free   \n",
      "145  A00522  99847059  12066   STC 10657; ESTC S111789   Free   \n",
      "146  A00525  99856552  22122   STC 10660; ESTC S121369   Free   \n",
      "147  A00527  99849909  15082   STC 10665; ESTC S114685   Free   \n",
      "148  A00535  99849912  15085   STC 10675; ESTC S114688   Free   \n",
      "\n",
      "                                                Author  Date  \\\n",
      "0                           Aylett, Robert, 1583-1655?  1625   \n",
      "1    Higden, Ranulf, d. 1364. Polycronicon. English...  1515   \n",
      "2               Higden, Ranulf, d. 1364. Polycronicon.  1528   \n",
      "3            Wood, William, fl. 1623, attributed name.  1623   \n",
      "4                                                  NaN  1640   \n",
      "..                                                 ...   ...   \n",
      "144                                   T. F., fl. 1630.  1636   \n",
      "145  Fabricius, Joannes, Montanus, 1527-1566.; L. A...  1562   \n",
      "146                           Fabyan, Robert, d. 1513.  1533   \n",
      "147                   Fage, John, student in phisicke.  1606   \n",
      "148                         Falconer, John, 1577-1656.  1618   \n",
      "\n",
      "                                                 Title  \\\n",
      "0    The brides ornaments viz. fiue meditations, mo...   \n",
      "1    Here begynneth a shorte and abreue table on th...   \n",
      "2    The Cronycles of Englonde with the dedes of po...   \n",
      "3    Considerations vpon the treaty of marriage bet...   \n",
      "4    Englands complaint to Iesus Christ, against th...   \n",
      "..                                                 ...   \n",
      "144  A fooles bolt is soone shot Good friends bewar...   \n",
      "145  An oration of Ihon Fabritius Montanus VVherby ...   \n",
      "146  Fabyans cronycle newly prynted, wyth the crony...   \n",
      "147  Speculum ÃŒ_grotorum. The sicke-mens glasse or...   \n",
      "148  A briefe refutation of Iohn Traskes iudaical a...   \n",
      "\n",
      "                                                 Terms  Page Count  \\\n",
      "0                                                  NaN         134   \n",
      "1    Great Britain -- History -- To 1485 -- Early w...         302   \n",
      "2    Great Britain -- History -- To 1485 -- Early w...         386   \n",
      "3         Great Britain -- Foreign relations -- Spain.          14   \n",
      "4    Church of England. -- Thirty-nine Articles -- ...          54   \n",
      "..                                                 ...         ...   \n",
      "144                  Ballads, English -- 17th century.           2   \n",
      "145  Council of Trent (1545-1563) -- Early works to...          68   \n",
      "146  Great Britain -- History -- To 1485 -- Early w...         854   \n",
      "147  Medicine -- Early works to 1800.; Astrology --...          72   \n",
      "148  Traske, John, d. ca. 1638.; Jews -- Dietary la...         106   \n",
      "\n",
      "                Place  \n",
      "0              London  \n",
      "1              London  \n",
      "2              London  \n",
      "3    The Netherlands?  \n",
      "4           Amsterdam  \n",
      "..                ...  \n",
      "144            London  \n",
      "145            London  \n",
      "146   Prentyd  London  \n",
      "147            London  \n",
      "148        Saint-Omer  \n",
      "\n",
      "[149 rows x 11 columns]\n"
     ]
    }
   ],
   "source": [
    "# Correct Data column when reading CSV\n",
    "df = pandas.read_csv('./data/early_english_books.csv', parse_dates=['Date'])\n",
    "print(df)"
   ]
  },
  {
   "cell_type": "code",
   "execution_count": 8,
   "metadata": {},
   "outputs": [
    {
     "name": "stdout",
     "output_type": "stream",
     "text": [
      "             TCP    VID                       STC Status  \\\n",
      "EEBO                                                       \n",
      "99850634  A00002  15849  STC 1000.5; ESTC S115415   Free   \n",
      "99842408  A00005   7058   STC 10000; ESTC S106695   Free   \n",
      "99844302  A00007   9101   STC 10002; ESTC S108645   Free   \n",
      "99848896  A00008  14017   STC 10003; ESTC S113665   Free   \n",
      "99837000  A00011   1304   STC 10008; ESTC S101178   Free   \n",
      "...          ...    ...                       ...    ...   \n",
      "99849883  A00519  15055   STC 10654; ESTC S114658   Free   \n",
      "99847059  A00522  12066   STC 10657; ESTC S111789   Free   \n",
      "99856552  A00525  22122   STC 10660; ESTC S121369   Free   \n",
      "99849909  A00527  15082   STC 10665; ESTC S114685   Free   \n",
      "99849912  A00535  15085   STC 10675; ESTC S114688   Free   \n",
      "\n",
      "                                                     Author  Date  \\\n",
      "EEBO                                                                \n",
      "99850634                         Aylett, Robert, 1583-1655?  1625   \n",
      "99842408  Higden, Ranulf, d. 1364. Polycronicon. English...  1515   \n",
      "99844302             Higden, Ranulf, d. 1364. Polycronicon.  1528   \n",
      "99848896          Wood, William, fl. 1623, attributed name.  1623   \n",
      "99837000                                                NaN  1640   \n",
      "...                                                     ...   ...   \n",
      "99849883                                   T. F., fl. 1630.  1636   \n",
      "99847059  Fabricius, Joannes, Montanus, 1527-1566.; L. A...  1562   \n",
      "99856552                           Fabyan, Robert, d. 1513.  1533   \n",
      "99849909                   Fage, John, student in phisicke.  1606   \n",
      "99849912                         Falconer, John, 1577-1656.  1618   \n",
      "\n",
      "                                                      Title  \\\n",
      "EEBO                                                          \n",
      "99850634  The brides ornaments viz. fiue meditations, mo...   \n",
      "99842408  Here begynneth a shorte and abreue table on th...   \n",
      "99844302  The Cronycles of Englonde with the dedes of po...   \n",
      "99848896  Considerations vpon the treaty of marriage bet...   \n",
      "99837000  Englands complaint to Iesus Christ, against th...   \n",
      "...                                                     ...   \n",
      "99849883  A fooles bolt is soone shot Good friends bewar...   \n",
      "99847059  An oration of Ihon Fabritius Montanus VVherby ...   \n",
      "99856552  Fabyans cronycle newly prynted, wyth the crony...   \n",
      "99849909  Speculum ÃŒ_grotorum. The sicke-mens glasse or...   \n",
      "99849912  A briefe refutation of Iohn Traskes iudaical a...   \n",
      "\n",
      "                                                      Terms  Page Count  \\\n",
      "EEBO                                                                      \n",
      "99850634                                                NaN         134   \n",
      "99842408  Great Britain -- History -- To 1485 -- Early w...         302   \n",
      "99844302  Great Britain -- History -- To 1485 -- Early w...         386   \n",
      "99848896       Great Britain -- Foreign relations -- Spain.          14   \n",
      "99837000  Church of England. -- Thirty-nine Articles -- ...          54   \n",
      "...                                                     ...         ...   \n",
      "99849883                  Ballads, English -- 17th century.           2   \n",
      "99847059  Council of Trent (1545-1563) -- Early works to...          68   \n",
      "99856552  Great Britain -- History -- To 1485 -- Early w...         854   \n",
      "99849909  Medicine -- Early works to 1800.; Astrology --...          72   \n",
      "99849912  Traske, John, d. ca. 1638.; Jews -- Dietary la...         106   \n",
      "\n",
      "                     Place  \n",
      "EEBO                        \n",
      "99850634            London  \n",
      "99842408            London  \n",
      "99844302            London  \n",
      "99848896  The Netherlands?  \n",
      "99837000         Amsterdam  \n",
      "...                    ...  \n",
      "99849883            London  \n",
      "99847059            London  \n",
      "99856552   Prentyd  London  \n",
      "99849909            London  \n",
      "99849912        Saint-Omer  \n",
      "\n",
      "[149 rows x 10 columns]\n"
     ]
    }
   ],
   "source": [
    "# custom index column\n",
    "df = pandas.read_csv('./data/early_english_books.csv', parse_dates=['Date'], index_col='EEBO')\n",
    "print(df)"
   ]
  },
  {
   "cell_type": "markdown",
   "metadata": {},
   "source": [
    "## Exercises"
   ]
  },
  {
   "cell_type": "markdown",
   "metadata": {},
   "source": [
    "### 1. Unique values"
   ]
  },
  {
   "cell_type": "code",
   "execution_count": 9,
   "metadata": {},
   "outputs": [
    {
     "name": "stdout",
     "output_type": "stream",
     "text": [
      "['London' 'The Netherlands?' 'Amsterdam' '\\xa0London' 'Germany?' 'London?'\n",
      " 'Londini' '\\xa0Londini' '\\xa0 London' '\\xa0Roan in Normandy i.e. London'\n",
      " 'Antwerp' 'Emden' 'S.l.' '\\xa0Ausborch i.e. Antwerp'\n",
      " '\\xa0Malborow i.e. Antwerp' 'Im in London' 'Cambridge' 'Rouen'\n",
      " '\\xa0Oxford' 'Antverpi' 'Oxford' 'Prentyd\\xa0 London' 'Saint-Omer']\n",
      "23\n"
     ]
    }
   ],
   "source": [
    "# a. Create a list of the unique values that are in one of the columns.\n",
    "\n",
    "unique_values = pandas.unique(df['Place'])\n",
    "print(unique_values)\n",
    "\n",
    "# b. How many unique values are there in this column?\n",
    "count = len(unique_values)\n",
    "print(count)"
   ]
  },
  {
   "cell_type": "markdown",
   "metadata": {},
   "source": [
    "### 2. Basic statistics\n"
   ]
  },
  {
   "cell_type": "code",
   "execution_count": 10,
   "metadata": {},
   "outputs": [
    {
     "name": "stdout",
     "output_type": "stream",
     "text": [
      "count    149.000000\n",
      "mean     104.382550\n",
      "std      160.125398\n",
      "min        1.000000\n",
      "25%       16.000000\n",
      "50%       52.000000\n",
      "75%      108.000000\n",
      "max      884.000000\n",
      "Name: Page Count, dtype: float64\n"
     ]
    }
   ],
   "source": [
    "# 2a. See what happens when you run the ```.describe()``` command with a numerical and non-numerical column.\n",
    "# numerical column\n",
    "print(df['Page Count'].describe())"
   ]
  },
  {
   "cell_type": "code",
   "execution_count": 11,
   "metadata": {},
   "outputs": [
    {
     "name": "stdout",
     "output_type": "stream",
     "text": [
      "count                               136\n",
      "unique                              106\n",
      "top       Erasmus, Desiderius, d. 1536.\n",
      "freq                                 14\n",
      "Name: Author, dtype: object\n"
     ]
    }
   ],
   "source": [
    "# non-numerical column (freq = most common value's frequency)\n",
    "print(df['Author'].describe())"
   ]
  },
  {
   "cell_type": "code",
   "execution_count": 31,
   "metadata": {},
   "outputs": [
    {
     "name": "stdout",
     "output_type": "stream",
     "text": [
      "884\n"
     ]
    }
   ],
   "source": [
    "# 2b. How many pages does the longest book in the data have?\n",
    "print(df['Page Count'].max())"
   ]
  },
  {
   "cell_type": "markdown",
   "metadata": {},
   "source": [
    "### 3. Grouping and aggregating"
   ]
  },
  {
   "cell_type": "code",
   "execution_count": 12,
   "metadata": {},
   "outputs": [
    {
     "name": "stdout",
     "output_type": "stream",
     "text": [
      "                                        VID  Page Count\n",
      "Place                                                  \n",
      "Amsterdam                       1304.000000   54.000000\n",
      "Antverpi                        1919.000000   34.000000\n",
      "Antwerp                        17138.000000   40.000000\n",
      "Cambridge                      27698.000000    1.000000\n",
      "Emden                          12152.000000   58.000000\n",
      "Germany?                       15965.000000   26.000000\n",
      "Im in London                    1836.000000   94.000000\n",
      "Londini                        12043.500000   77.750000\n",
      "London                         16313.584906  104.490566\n",
      "London?                        13287.666667   55.333333\n",
      "Oxford                         15196.000000   78.000000\n",
      "Prentyd  London                22122.000000  854.000000\n",
      "Rouen                           1821.000000  566.000000\n",
      "S.l.                           26117.000000    1.000000\n",
      "Saint-Omer                     15085.000000  106.000000\n",
      "The Netherlands?               14017.000000   14.000000\n",
      "  London                       14191.058824   83.411765\n",
      " Ausborch i.e. Antwerp         10446.000000   74.000000\n",
      " Londini                        1754.000000   38.000000\n",
      " London                        13655.755102  107.285714\n",
      " Malborow i.e. Antwerp         10452.000000  156.000000\n",
      " Oxford                        15007.000000  188.000000\n",
      " Roan in Normandy i.e. London  17134.000000  112.000000\n"
     ]
    }
   ],
   "source": [
    "# a. What is the mean page count for books published in Amsterdam?\n",
    "grouped_data = df.groupby('Place')\n",
    "print(grouped_data.mean())"
   ]
  },
  {
   "cell_type": "code",
   "execution_count": 17,
   "metadata": {},
   "outputs": [
    {
     "name": "stdout",
     "output_type": "stream",
     "text": [
      "                                        VID  Page Count\n",
      "Place                         Date                     \n",
      "Amsterdam                     1640   1304.0        54.0\n",
      "Antverpi                      1565   1919.0        34.0\n",
      "Antwerp                       1589  17138.0        40.0\n",
      "Cambridge                     1608  27698.0         1.0\n",
      "Emden                         1566  12152.0        58.0\n",
      "...                                     ...         ...\n",
      " London                       1619  26113.0        20.0\n",
      "                              1632  25483.0        16.0\n",
      " Malborow i.e. Antwerp        1529  10452.0       156.0\n",
      " Oxford                       1615  15007.0       188.0\n",
      " Roan in Normandy i.e. London 1588  17134.0       112.0\n",
      "\n",
      "[121 rows x 2 columns]\n"
     ]
    }
   ],
   "source": [
    "# b. What is the mean page count for books grouped by publishing location and date?\n",
    "\n",
    "grouped_data2 = df.groupby(['Place', 'Date'])\n",
    "print(grouped_data2.mean())\n",
    "\n"
   ]
  },
  {
   "cell_type": "markdown",
   "metadata": {},
   "source": [
    "### 4. Conditional selections\n",
    "a.View only entries that were published in London. If you need to remind yourself of the data, you can print the first few lines to the screen again.\n",
    "b. Save the results in a variable called `new_df` (new DataFrame) and view summary information to see how many entries there are for London.\n",
    "c. Out of the entries in your new DataFrame, now narrow the selection to those that have a page count equal to or over 46 and print the first 3 entries to the screen using the method ```.head(3)```. "
   ]
  },
  {
   "cell_type": "code",
   "execution_count": 30,
   "metadata": {},
   "outputs": [
    {
     "name": "stdout",
     "output_type": "stream",
     "text": [
      "<class 'pandas.core.frame.DataFrame'>\n",
      "Int64Index: 53 entries, 99850634 to 99849909\n",
      "Data columns (total 10 columns):\n",
      " #   Column      Non-Null Count  Dtype \n",
      "---  ------      --------------  ----- \n",
      " 0   TCP         53 non-null     object\n",
      " 1   VID         53 non-null     int64 \n",
      " 2   STC         53 non-null     object\n",
      " 3   Status      53 non-null     object\n",
      " 4   Author      46 non-null     object\n",
      " 5   Date        53 non-null     object\n",
      " 6   Title       53 non-null     object\n",
      " 7   Terms       47 non-null     object\n",
      " 8   Page Count  53 non-null     int64 \n",
      " 9   Place       53 non-null     object\n",
      "dtypes: int64(2), object(8)\n",
      "memory usage: 4.6+ KB\n",
      "None\n",
      "             TCP    VID                       STC Status  \\\n",
      "EEBO                                                       \n",
      "99850634  A00002  15849  STC 1000.5; ESTC S115415   Free   \n",
      "99842408  A00005   7058   STC 10000; ESTC S106695   Free   \n",
      "99844302  A00007   9101   STC 10002; ESTC S108645   Free   \n",
      "\n",
      "                                                     Author  Date  \\\n",
      "EEBO                                                                \n",
      "99850634                         Aylett, Robert, 1583-1655?  1625   \n",
      "99842408  Higden, Ranulf, d. 1364. Polycronicon. English...  1515   \n",
      "99844302             Higden, Ranulf, d. 1364. Polycronicon.  1528   \n",
      "\n",
      "                                                      Title  \\\n",
      "EEBO                                                          \n",
      "99850634  The brides ornaments viz. fiue meditations, mo...   \n",
      "99842408  Here begynneth a shorte and abreue table on th...   \n",
      "99844302  The Cronycles of Englonde with the dedes of po...   \n",
      "\n",
      "                                                      Terms  Page Count  \\\n",
      "EEBO                                                                      \n",
      "99850634                                                NaN         134   \n",
      "99842408  Great Britain -- History -- To 1485 -- Early w...         302   \n",
      "99844302  Great Britain -- History -- To 1485 -- Early w...         386   \n",
      "\n",
      "           Place  \n",
      "EEBO              \n",
      "99850634  London  \n",
      "99842408  London  \n",
      "99844302  London  \n"
     ]
    }
   ],
   "source": [
    "# a.View only entries that were published in London.\n",
    "# b. Save the results in a variable called `new_df` (new DataFrame) and view summary information to see how many entries \n",
    "# there are for London. \n",
    "new_df = df[df['Place'] == 'London']\n",
    "print(new_df.info())\n",
    "\n",
    "# c. Out of the entries in your new DataFrame, now narrow the selection to those that have a page count that is greater\n",
    "# than or equal to 46 and print the first 3 entries to the screen. \n",
    "print((new_df[new_df['Page Count'] >= 46]).head(3))"
   ]
  },
  {
   "cell_type": "code",
   "execution_count": null,
   "metadata": {},
   "outputs": [],
   "source": []
  }
 ],
 "metadata": {
  "kernelspec": {
   "display_name": "Python 3",
   "language": "python",
   "name": "python3"
  },
  "language_info": {
   "codemirror_mode": {
    "name": "ipython",
    "version": 3
   },
   "file_extension": ".py",
   "mimetype": "text/x-python",
   "name": "python",
   "nbconvert_exporter": "python",
   "pygments_lexer": "ipython3",
   "version": "3.7.6"
  }
 },
 "nbformat": 4,
 "nbformat_minor": 4
}
