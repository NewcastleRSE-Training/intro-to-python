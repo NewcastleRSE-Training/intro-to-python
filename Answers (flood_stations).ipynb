{
 "cells": [
  {
   "cell_type": "markdown",
   "metadata": {},
   "source": [
    "# Answers for DaVinci data"
   ]
  },
  {
   "cell_type": "markdown",
   "metadata": {},
   "source": [
    "filename: flood_stations\n",
    "\n",
    "## First steps with pandas\n",
    "Code templates are included in hidden solution code blocks in notebook but require correct filename and column names added.\n",
    "\n",
    "Note this data has been edited for the purposes of the exercise, but there is deliberately some missing data."
   ]
  },
  {
   "cell_type": "code",
   "execution_count": 15,
   "metadata": {},
   "outputs": [
    {
     "name": "stdout",
     "output_type": "stream",
     "text": [
      "    RLOIid                     catchmentName  dateOpened  easting  \\\n",
      "0     8276             Wharfe and Lower Ouse  11/07/2001   398476   \n",
      "1     7267  Thames from Hurley to Teddington  01/01/1983   517700   \n",
      "2     2114                    Idle and Torne  24/07/1969   469990   \n",
      "3     2165           Lower Trent and Erewash  01/12/1972   454970   \n",
      "4     8186   Swale, Ure, Nidd and Upper Ouse  01/05/1979   448200   \n",
      "..     ...                               ...         ...      ...   \n",
      "63    7042                         Cotswolds  01/01/1987   430140   \n",
      "64    2141                    Idle and Torne  01/09/1970   463080   \n",
      "65    2001      Worcestershire Middle Severn  01/04/1921   378150   \n",
      "66    7235                               Wey  01/01/1983   499970   \n",
      "67    2136                              Soar  01/08/1971   454230   \n",
      "\n",
      "              label        lat      long  northing notation         riverName  \\\n",
      "0   Netherside Hall  54.080705 -2.024779       NaN    F1906      River Wharfe   \n",
      "1          Kingston  51.415005 -0.308869  169800.0   3400TH      River Thames   \n",
      "2    Twyford Bridge  53.269620 -0.952008  375250.0     4036     River Poulter   \n",
      "3            Lenton  52.948176 -1.183337  339290.0     4435        River Leen   \n",
      "4       Skip Bridge  53.998678 -1.266199  456100.0    F2102        River Nidd   \n",
      "..              ...        ...       ...       ...      ...               ...   \n",
      "63          Worsham  51.793689 -1.564378  210650.0   1080TH    River Windrush   \n",
      "64            Blyth  53.377166 -1.053244  387120.0     4091       River Ryton   \n",
      "65          Bewdley  52.383563 -2.322438  276220.0     2001      River Severn   \n",
      "66          Bramley  51.206896 -0.570320  146270.0   3069TH  Cranleigh Waters   \n",
      "67     Littlethorpe  52.571268 -1.201273  297350.0     4082        River Soar   \n",
      "\n",
      "   stationReference  limit  \n",
      "0             F1906    594  \n",
      "1            3400TH    325  \n",
      "2              4036     64  \n",
      "3              4435    544  \n",
      "4             F2102    412  \n",
      "..              ...    ...  \n",
      "63           1080TH    567  \n",
      "64             4091    747  \n",
      "65             2001    481  \n",
      "66           3069TH   1038  \n",
      "67             4082    915  \n",
      "\n",
      "[68 rows x 12 columns]\n"
     ]
    }
   ],
   "source": [
    "import pandas\n",
    "df = pandas.read_csv('./data/flood_stations.csv')\n",
    "print(df)"
   ]
  },
  {
   "cell_type": "code",
   "execution_count": 5,
   "metadata": {},
   "outputs": [
    {
     "name": "stdout",
     "output_type": "stream",
     "text": [
      "   RLOIid                     catchmentName  dateOpened  easting  \\\n",
      "0  8276.0             Wharfe and Lower Ouse  11/07/2001   398476   \n",
      "1  7267.0  Thames from Hurley to Teddington  01/01/1983   517700   \n",
      "2  2114.0                    Idle and Torne  24/07/1969   469990   \n",
      "3  2165.0           Lower Trent and Erewash  01/12/1972   454970   \n",
      "4  8186.0   Swale, Ure, Nidd and Upper Ouse  01/05/1979   448200   \n",
      "\n",
      "             label        lat      long  northing notation      riverName  \\\n",
      "0  Netherside Hall  54.080705 -2.024779       NaN    F1906   River Wharfe   \n",
      "1         Kingston  51.415005 -0.308869  169800.0   3400TH   River Thames   \n",
      "2   Twyford Bridge  53.269620 -0.952008  375250.0     4036  River Poulter   \n",
      "3           Lenton  52.948176 -1.183337  339290.0     4435     River Leen   \n",
      "4      Skip Bridge  53.998678 -1.266199  456100.0    F2102     River Nidd   \n",
      "\n",
      "  stationReference  \n",
      "0            F1906  \n",
      "1           3400TH  \n",
      "2             4036  \n",
      "3             4435  \n",
      "4            F2102  \n"
     ]
    }
   ],
   "source": [
    "# Print first few lines\n",
    "\n",
    "print(df.head())"
   ]
  },
  {
   "cell_type": "code",
   "execution_count": 6,
   "metadata": {},
   "outputs": [
    {
     "name": "stdout",
     "output_type": "stream",
     "text": [
      "<class 'pandas.core.frame.DataFrame'>\n",
      "RangeIndex: 72 entries, 0 to 71\n",
      "Data columns (total 11 columns):\n",
      " #   Column            Non-Null Count  Dtype  \n",
      "---  ------            --------------  -----  \n",
      " 0   RLOIid            68 non-null     float64\n",
      " 1   catchmentName     68 non-null     object \n",
      " 2   dateOpened        68 non-null     object \n",
      " 3   easting           72 non-null     int64  \n",
      " 4   label             72 non-null     object \n",
      " 5   lat               72 non-null     float64\n",
      " 6   long              72 non-null     float64\n",
      " 7   northing          71 non-null     float64\n",
      " 8   notation          72 non-null     object \n",
      " 9   riverName         68 non-null     object \n",
      " 10  stationReference  72 non-null     object \n",
      "dtypes: float64(4), int64(1), object(6)\n",
      "memory usage: 6.3+ KB\n",
      "None\n"
     ]
    }
   ],
   "source": [
    "# Print summary information\n",
    "\n",
    "print(df.info())"
   ]
  },
  {
   "cell_type": "code",
   "execution_count": 7,
   "metadata": {},
   "outputs": [
    {
     "name": "stdout",
     "output_type": "stream",
     "text": [
      "<class 'numpy.int64'>\n"
     ]
    }
   ],
   "source": [
    "# Print the type of a column NB: NaN cells return float\n",
    "print(type(df['easting'][0]))"
   ]
  },
  {
   "cell_type": "code",
   "execution_count": 19,
   "metadata": {},
   "outputs": [
    {
     "name": "stdout",
     "output_type": "stream",
     "text": [
      "                           catchmentName  dateOpened  easting  \\\n",
      "RLOIid                                                          \n",
      "8276               Wharfe and Lower Ouse  11/07/2001   398476   \n",
      "7267    Thames from Hurley to Teddington  01/01/1983   517700   \n",
      "2114                      Idle and Torne  24/07/1969   469990   \n",
      "2165             Lower Trent and Erewash  01/12/1972   454970   \n",
      "8186     Swale, Ure, Nidd and Upper Ouse  01/05/1979   448200   \n",
      "...                                  ...         ...      ...   \n",
      "7042                           Cotswolds  01/01/1987   430140   \n",
      "2141                      Idle and Torne  01/09/1970   463080   \n",
      "2001        Worcestershire Middle Severn  01/04/1921   378150   \n",
      "7235                                 Wey  01/01/1983   499970   \n",
      "2136                                Soar  01/08/1971   454230   \n",
      "\n",
      "                  label        lat      long  northing notation  \\\n",
      "RLOIid                                                            \n",
      "8276    Netherside Hall  54.080705 -2.024779       NaN    F1906   \n",
      "7267           Kingston  51.415005 -0.308869  169800.0   3400TH   \n",
      "2114     Twyford Bridge  53.269620 -0.952008  375250.0     4036   \n",
      "2165             Lenton  52.948176 -1.183337  339290.0     4435   \n",
      "8186        Skip Bridge  53.998678 -1.266199  456100.0    F2102   \n",
      "...                 ...        ...       ...       ...      ...   \n",
      "7042            Worsham  51.793689 -1.564378  210650.0   1080TH   \n",
      "2141              Blyth  53.377166 -1.053244  387120.0     4091   \n",
      "2001            Bewdley  52.383563 -2.322438  276220.0     2001   \n",
      "7235            Bramley  51.206896 -0.570320  146270.0   3069TH   \n",
      "2136       Littlethorpe  52.571268 -1.201273  297350.0     4082   \n",
      "\n",
      "               riverName stationReference  limit active  \n",
      "RLOIid                                                   \n",
      "8276        River Wharfe            F1906     71     No  \n",
      "7267        River Thames           3400TH    281     No  \n",
      "2114       River Poulter             4036    554     No  \n",
      "2165          River Leen             4435    673     No  \n",
      "8186          River Nidd            F2102    836    Yes  \n",
      "...                  ...              ...    ...    ...  \n",
      "7042      River Windrush           1080TH   1079     No  \n",
      "2141         River Ryton             4091    681     No  \n",
      "2001        River Severn             2001    364    Yes  \n",
      "7235    Cranleigh Waters           3069TH    611     No  \n",
      "2136          River Soar             4082    754     No  \n",
      "\n",
      "[68 rows x 12 columns]\n"
     ]
    }
   ],
   "source": [
    "# custom index column\n",
    "df = pandas.read_csv('./data/flood_stations.csv', index_col='RLOIid')\n",
    "print(df)"
   ]
  },
  {
   "cell_type": "markdown",
   "metadata": {},
   "source": [
    "## Exercises"
   ]
  },
  {
   "cell_type": "markdown",
   "metadata": {},
   "source": [
    "### 1. Unique values"
   ]
  },
  {
   "cell_type": "code",
   "execution_count": 10,
   "metadata": {},
   "outputs": [
    {
     "name": "stdout",
     "output_type": "stream",
     "text": [
      "['Wharfe and Lower Ouse' 'Thames from Hurley to Teddington'\n",
      " 'Idle and Torne' 'Lower Trent and Erewash'\n",
      " 'Swale, Ure, Nidd and Upper Ouse' 'Ribble Douglas and Crossens'\n",
      " 'Cherwell Thame and Wye' 'Warwickshire Avon' 'Staffordshire Trent Valley'\n",
      " 'Bournes' 'Soar' 'Severn Vale' 'Upper Mersey' 'Vale of White Horse'\n",
      " 'Mole' 'Welland' 'Derbyshire Derwent' 'Loddon' 'Severn Uplands'\n",
      " 'Upper Lee' 'Stort' 'Wey' 'Colne (Lower)' 'London' 'Cotswolds'\n",
      " 'Shropshire Middle Severn' 'Derwent' 'Lower Lee'\n",
      " 'Worcestershire Middle Severn' 'Lower Mersey' 'Northern Manchester'\n",
      " 'Nene' 'Tame Anker and Mease' nan]\n",
      "34\n"
     ]
    }
   ],
   "source": [
    "# a. Create a list of the unique values that are in one of the columns.\n",
    "\n",
    "unique_values = pandas.unique(df['catchmentName'])\n",
    "print(unique_values)\n",
    "\n",
    "# b. How many unique values are there in this column?\n",
    "count = len(unique_values)\n",
    "print(count)"
   ]
  },
  {
   "cell_type": "markdown",
   "metadata": {},
   "source": [
    "### 2. Basic statistics\n"
   ]
  },
  {
   "cell_type": "code",
   "execution_count": 12,
   "metadata": {},
   "outputs": [
    {
     "name": "stdout",
     "output_type": "stream",
     "text": [
      "count    68.000000\n",
      "mean     52.337831\n",
      "std       0.916030\n",
      "min      51.144764\n",
      "25%      51.456049\n",
      "50%      52.160346\n",
      "75%      52.923003\n",
      "max      54.185605\n",
      "Name: lat, dtype: float64\n"
     ]
    }
   ],
   "source": [
    "# 2a. See what happens when you run the ```.describe()``` command with a numerical and non-numerical column.\n",
    "# numerical column\n",
    "print(df['lat'].describe())"
   ]
  },
  {
   "cell_type": "code",
   "execution_count": 13,
   "metadata": {},
   "outputs": [
    {
     "name": "stdout",
     "output_type": "stream",
     "text": [
      "count               68\n",
      "unique              42\n",
      "top       River Thames\n",
      "freq                 8\n",
      "Name: riverName, dtype: object\n"
     ]
    }
   ],
   "source": [
    "# non-numerical column (freq = most common value's frequency)\n",
    "print(df['riverName'].describe())"
   ]
  },
  {
   "cell_type": "code",
   "execution_count": 16,
   "metadata": {},
   "outputs": [
    {
     "name": "stdout",
     "output_type": "stream",
     "text": [
      "1492\n"
     ]
    }
   ],
   "source": [
    "# 2b. What is the largest number in the 'limit' column?\n",
    "print(df['limit'].max())"
   ]
  },
  {
   "cell_type": "markdown",
   "metadata": {},
   "source": [
    "### 3. Grouping and aggregating"
   ]
  },
  {
   "cell_type": "code",
   "execution_count": 28,
   "metadata": {},
   "outputs": [
    {
     "name": "stdout",
     "output_type": "stream",
     "text": [
      "                                  dateOpened  easting  \\\n",
      "catchmentName                                           \n",
      "Bournes                           01/01/2005   506000   \n",
      "Cherwell Thame and Wye            01/01/1991   471800   \n",
      "Colne (Lower)                     01/01/1998   503508   \n",
      "Cotswolds                         25/01/1991   443830   \n",
      "Derbyshire Derwent                02/10/1935   435360   \n",
      "Derwent                           31/08/2001   483300   \n",
      "Idle and Torne                    26/04/1961   469990   \n",
      "Loddon                            01/01/1994   488010   \n",
      "London                            01/01/1988   527100   \n",
      "Lower Lee                         01/01/1991   535177   \n",
      "Lower Mersey                      11/03/1989   362830   \n",
      "Lower Trent and Erewash           31/12/1982   480140   \n",
      "Mole                              01/01/2005   526040   \n",
      "Nene                              01/01/1999   473600   \n",
      "Northern Manchester               10/11/2002   375450   \n",
      "Ribble Douglas and Crossens       01/01/1999   358620   \n",
      "Severn Uplands                    28/04/1952   341190   \n",
      "Severn Vale                       05/06/1970   386798   \n",
      "Shropshire Middle Severn          01/01/1987   364050   \n",
      "Soar                              28/06/1967   461480   \n",
      "Staffordshire Trent Valley        05/04/1982   413230   \n",
      "Stort                             01/01/1984   539156   \n",
      "Swale, Ure, Nidd and Upper Ouse   15/12/1988   448200   \n",
      "Tame Anker and Mease              28/11/1978   401220   \n",
      "Thames from Hurley to Teddington  01/01/2002   517700   \n",
      "Upper Lee                         01/01/1992   538520   \n",
      "Upper Mersey                      01/06/1976   377240   \n",
      "Vale of White Horse               01/01/1988   464950   \n",
      "Warwickshire Avon                 01/01/1988   392100   \n",
      "Welland                           01/01/1980   503800   \n",
      "Wey                               01/01/1995   506850   \n",
      "Wharfe and Lower Ouse             27/06/1991   447700   \n",
      "Worcestershire Middle Severn      07/09/1977   378150   \n",
      "\n",
      "                                                    label        lat  \\\n",
      "catchmentName                                                          \n",
      "Bournes                                   Chertsey Bourne  51.402823   \n",
      "Cherwell Thame and Wye                           Wheatley  51.740637   \n",
      "Colne (Lower)                      Staines Trading Estate  51.440219   \n",
      "Cotswolds                                         Worsham  51.793689   \n",
      "Derbyshire Derwent                             Derby City  52.927260   \n",
      "Derwent                           Malton, A64 Road Bridge  54.185605   \n",
      "Idle and Torne                             Twyford Bridge  53.397737   \n",
      "Loddon                                            Twyford  51.484806   \n",
      "London                                       Longley Road  51.421965   \n",
      "Lower Lee                                      Lea Bridge  51.567832   \n",
      "Lower Mersey                                        Westy  53.390658   \n",
      "Lower Trent and Erewash                          Shardlow  53.131855   \n",
      "Mole                                          Leatherhead  51.381714   \n",
      "Nene                                       Geldharts Mill  52.271031   \n",
      "Northern Manchester                              Kearsley  53.546445   \n",
      "Ribble Douglas and Crossens                         Wigan  53.607043   \n",
      "Severn Uplands                                   Montford  52.724474   \n",
      "Severn Vale                                   Saxons Lode  52.049661   \n",
      "Shropshire Middle Severn                      Crudgington  52.754258   \n",
      "Soar                                               Syston  52.831898   \n",
      "Staffordshire Trent Valley                  Kings Bromley  52.916247   \n",
      "Stort                                   Roydon, Glen Faba  51.764828   \n",
      "Swale, Ure, Nidd and Upper Ouse               Skip Bridge  54.183434   \n",
      "Tame Anker and Mease                               Bescot  52.560205   \n",
      "Thames from Hurley to Teddington             Windsor Park  51.529307   \n",
      "Upper Lee                           Hoddesdon, Rye Bridge  51.770008   \n",
      "Upper Mersey                                  Ashton Weir  53.438308   \n",
      "Vale of White Horse                           Water Eaton  51.647821   \n",
      "Warwickshire Avon                                  Bredon  52.034940   \n",
      "Welland                                            Irnham  52.833221   \n",
      "Wey                                             Weybridge  51.372480   \n",
      "Wharfe and Lower Ouse                           Tadcaster  54.080705   \n",
      "Worcestershire Middle Severn                     Buildwas  52.636354   \n",
      "\n",
      "                                      long  northing notation  \\\n",
      "catchmentName                                                   \n",
      "Bournes                          -0.478479  168100.0   2989TH   \n",
      "Cherwell Thame and Wye           -0.967884  205030.0   2200TH   \n",
      "Colne (Lower)                    -0.512241  172265.0   2898TH   \n",
      "Cotswolds                        -1.366384  210650.0   1100TH   \n",
      "Derbyshire Derwent               -1.475443  336780.0     4085   \n",
      "Derwent                          -0.725015  477400.0    F2809   \n",
      "Idle and Torne                   -0.952008  389490.0     4091   \n",
      "Loddon                           -0.739058  176800.0   2490TH   \n",
      "London                           -0.173411  170800.0   4189TH   \n",
      "Lower Lee                        -0.051025  187240.0   5390TH   \n",
      "Lower Mersey                     -2.560365  388350.0   693976   \n",
      "Lower Trent and Erewash          -0.803653  360080.0     4435   \n",
      "Mole                             -0.199530  165990.0   3290TH   \n",
      "Nene                             -0.922807  264200.0    E1660   \n",
      "Northern Manchester              -2.371963  405600.0   690503   \n",
      "Ribble Douglas and Crossens      -2.625999  412570.0   700325   \n",
      "Severn Uplands                   -2.872198  314450.0     2005   \n",
      "Severn Vale                      -2.193572  239050.0     2606   \n",
      "Shropshire Middle Severn         -2.534083  317540.0     2170   \n",
      "Soar                             -1.091508  326290.0     4093   \n",
      "Staffordshire Trent Valley       -1.805399  335440.0     4083   \n",
      "Stort                             0.015113  209271.0   5190TH   \n",
      "Swale, Ure, Nidd and Upper Ouse  -1.266199  476600.0    F2313   \n",
      "Tame Anker and Mease             -1.983428  295820.0     4081   \n",
      "Thames from Hurley to Teddington -0.308869  181960.0   3400TH   \n",
      "Upper Lee                         0.006126  209830.0   5280TH   \n",
      "Upper Mersey                     -2.344072  393560.0   692726   \n",
      "Vale of White Horse              -1.067068  194600.0   2290TH   \n",
      "Warwickshire Avon                -2.116566  237400.0     2128   \n",
      "Welland                          -0.460655  327300.0    E2896   \n",
      "Wey                              -0.466322  164830.0   3090TH   \n",
      "Wharfe and Lower Ouse            -1.275696  444100.0    F2002   \n",
      "Worcestershire Middle Severn     -2.322438  304420.0     2134   \n",
      "\n",
      "                                        riverName stationReference  limit  \\\n",
      "catchmentName                                                               \n",
      "Bournes                           Chertsey Bourne           2989TH    942   \n",
      "Cherwell Thame and Wye               River Thames           2200TH   1360   \n",
      "Colne (Lower)                         River Colne           2898TH    933   \n",
      "Cotswolds                          River Windrush           1100TH   1478   \n",
      "Derbyshire Derwent                  River Derwent             4085   1170   \n",
      "Derwent                             River Derwent            F2809   1085   \n",
      "Idle and Torne                        River Ryton             4091    929   \n",
      "Loddon                               River Loddon           2490TH    426   \n",
      "London                             River Graveney           4189TH    708   \n",
      "Lower Lee                               River Lee           5390TH    603   \n",
      "Lower Mersey                         River Mersey           693976   1121   \n",
      "Lower Trent and Erewash               River Trent             4435    830   \n",
      "Mole                                   River Mole           3290TH   1249   \n",
      "Nene                                   River Nene            E1660   1450   \n",
      "Northern Manchester                  River Irwell           690503    214   \n",
      "Ribble Douglas and Crossens         River Douglas           700325    653   \n",
      "Severn Uplands                       River Severn             2005    356   \n",
      "Severn Vale                          River Severn             2606   1154   \n",
      "Shropshire Middle Severn             River Strine             2170   1197   \n",
      "Soar                                 River Wreake             4093   1216   \n",
      "Staffordshire Trent Valley            River Trent             4083   1196   \n",
      "Stort                                 River Stort           5190TH   1479   \n",
      "Swale, Ure, Nidd and Upper Ouse        River Nidd            F2313    836   \n",
      "Tame Anker and Mease                   River Tame             4081    794   \n",
      "Thames from Hurley to Teddington     River Thames           3400TH   1244   \n",
      "Upper Lee                               River Lee           5280TH   1111   \n",
      "Upper Mersey                         River Mersey           692726    321   \n",
      "Vale of White Horse                  River Thames           2290TH   1476   \n",
      "Warwickshire Avon                      River Avon             2128    155   \n",
      "Welland                           West Glen River            E2896   1032   \n",
      "Wey                                     River Wey           3090TH   1255   \n",
      "Wharfe and Lower Ouse                River Wharfe            F2002    687   \n",
      "Worcestershire Middle Severn         River Severn             2134   1193   \n",
      "\n",
      "                                 active  \n",
      "catchmentName                            \n",
      "Bournes                             Yes  \n",
      "Cherwell Thame and Wye              Yes  \n",
      "Colne (Lower)                       Yes  \n",
      "Cotswolds                           Yes  \n",
      "Derbyshire Derwent                   No  \n",
      "Derwent                             Yes  \n",
      "Idle and Torne                       No  \n",
      "Loddon                               No  \n",
      "London                               No  \n",
      "Lower Lee                           Yes  \n",
      "Lower Mersey                         No  \n",
      "Lower Trent and Erewash             Yes  \n",
      "Mole                                Yes  \n",
      "Nene                                Yes  \n",
      "Northern Manchester                  No  \n",
      "Ribble Douglas and Crossens          No  \n",
      "Severn Uplands                       No  \n",
      "Severn Vale                         Yes  \n",
      "Shropshire Middle Severn             No  \n",
      "Soar                                Yes  \n",
      "Staffordshire Trent Valley           No  \n",
      "Stort                                No  \n",
      "Swale, Ure, Nidd and Upper Ouse     Yes  \n",
      "Tame Anker and Mease                 No  \n",
      "Thames from Hurley to Teddington    Yes  \n",
      "Upper Lee                            No  \n",
      "Upper Mersey                        Yes  \n",
      "Vale of White Horse                 Yes  \n",
      "Warwickshire Avon                    No  \n",
      "Welland                              No  \n",
      "Wey                                  No  \n",
      "Wharfe and Lower Ouse                No  \n",
      "Worcestershire Middle Severn        Yes  \n"
     ]
    }
   ],
   "source": [
    "# a. Print to the screen the max limits grouped by catchment.\n",
    "grouped_data = df.groupby('catchmentName')\n",
    "print(grouped_data.max())"
   ]
  },
  {
   "cell_type": "code",
   "execution_count": 20,
   "metadata": {},
   "outputs": [
    {
     "name": "stdout",
     "output_type": "stream",
     "text": [
      "                                easting        lat      long       northing  \\\n",
      "riverName         active                                                      \n",
      "Addlestone Bourne Yes     506000.000000  51.374167 -0.478479  165000.000000   \n",
      "Chertsey Bourne   Yes     501670.000000  51.402823 -0.539779  168100.000000   \n",
      "Cod Beck          Yes     442200.000000  54.183434 -1.354871  476600.000000   \n",
      "Colne Brook       Yes     501899.000000  51.440219 -0.535292  172265.000000   \n",
      "Cranleigh Waters  No      499970.000000  51.206896 -0.570320  146270.000000   \n",
      "East Glen River   No      503800.000000  52.833221 -0.460655  327300.000000   \n",
      "Jubilee River     No      490470.000000  51.529307 -0.697199  181960.000000   \n",
      "River Avon        No      392100.000000  52.034940 -2.116566  237400.000000   \n",
      "River Blackwater  No      488010.000000  51.297410 -0.739058  156120.000000   \n",
      "River Coln        No      415023.000000  51.709394 -1.783971  201207.000000   \n",
      "River Colne       Yes     503508.000000  51.437123 -0.512241  171953.000000   \n",
      "River Derwent     No      458234.500000  53.536952 -1.117600  404902.500000   \n",
      "                  Yes     483300.000000  54.185605 -0.725015  477400.000000   \n",
      "River Douglas     No      353120.000000  53.578147 -2.709551  409300.000000   \n",
      "River Erewash     Yes     448270.000000  52.921584 -1.283492  336260.000000   \n",
      "River Graveney    No      527100.000000  51.421965 -0.173411  170800.000000   \n",
      "River Idle        No      468920.000000  53.397737 -0.964956  389490.000000   \n",
      "River Irwell      No      375450.000000  53.546445 -2.371963  405600.000000   \n",
      "River Kennet      No      464950.000000  51.432753 -1.067068  170830.000000   \n",
      "                  Yes     447130.000000  51.401605 -1.323874  167170.000000   \n",
      "River Lee         No      538520.000000  51.770008  0.006126  209830.000000   \n",
      "                  Yes     535177.000000  51.567832 -0.051025  187240.000000   \n",
      "River Leen        No      454970.000000  52.948176 -1.183337  339290.000000   \n",
      "River Loddon      No      477800.000000  51.484806 -0.880942  176800.000000   \n",
      "River Mersey      No      362830.000000  53.390658 -2.560365  388350.000000   \n",
      "                  Yes     377240.000000  53.438308 -2.344072  393560.000000   \n",
      "River Mole        No      514560.000000  51.338349 -0.356791  161200.000000   \n",
      "                  Yes     526040.000000  51.144764 -0.199530  139930.000000   \n",
      "River Nene        Yes     473600.000000  52.271031 -0.922807  264200.000000   \n",
      "River Nidd        Yes     448200.000000  53.998678 -1.266199  456100.000000   \n",
      "River Poulter     No      469990.000000  53.269620 -0.952008  375250.000000   \n",
      "River Ray         No      412100.000000  51.640170 -1.826539  193500.000000   \n",
      "River Ryton       No      463080.000000  53.377166 -1.053244  387120.000000   \n",
      "River Sence       No      458750.000000  52.573856 -1.134530  297690.000000   \n",
      "River Severn      No      363994.000000  52.346854 -2.532885  272276.500000   \n",
      "                  Yes     376350.000000  52.356526 -2.349381  273230.000000   \n",
      "River Soar        No      453260.000000  52.720569 -1.212960  313950.000000   \n",
      "River Stort       No      539156.000000  51.764828  0.015113  209271.000000   \n",
      "River Strine      No      364050.000000  52.754258 -2.534083  317540.000000   \n",
      "River Tame        No      401220.000000  52.560205 -1.983428  295820.000000   \n",
      "River Thame       Yes     461190.000000  51.740637 -1.115198  205030.000000   \n",
      "River Thames      No      488820.000000  51.494284 -0.722399  178080.000000   \n",
      "                  Yes     476880.500000  51.574722 -0.893887  186893.000000   \n",
      "River Trent       No      427303.333333  52.935007 -1.593640  337746.666667   \n",
      "                  Yes     444840.000000  52.865431 -1.335368  329980.000000   \n",
      "River Wey         No      503110.000000  51.304258 -0.522166  157165.000000   \n",
      "River Wharfe      No      423088.000000  53.985793 -1.650238  444100.000000   \n",
      "River Windrush    No      430140.000000  51.793689 -1.564378  210650.000000   \n",
      "River Wreake      Yes     461480.000000  52.706226 -1.091508  312450.000000   \n",
      "West Glen River   No      498700.000000  52.823395 -0.536693  326100.000000   \n",
      "\n",
      "                                limit  \n",
      "riverName         active               \n",
      "Addlestone Bourne Yes      942.000000  \n",
      "Chertsey Bourne   Yes      467.000000  \n",
      "Cod Beck          Yes      162.000000  \n",
      "Colne Brook       Yes      357.000000  \n",
      "Cranleigh Waters  No       611.000000  \n",
      "East Glen River   No      1032.000000  \n",
      "Jubilee River     No       927.000000  \n",
      "River Avon        No       155.000000  \n",
      "River Blackwater  No       426.000000  \n",
      "River Coln        No      1478.000000  \n",
      "River Colne       Yes      933.000000  \n",
      "River Derwent     No      1127.500000  \n",
      "                  Yes      941.000000  \n",
      "River Douglas     No       405.500000  \n",
      "River Erewash     Yes      511.000000  \n",
      "River Graveney    No       708.000000  \n",
      "River Idle        No       929.000000  \n",
      "River Irwell      No       214.000000  \n",
      "River Kennet      No       627.000000  \n",
      "                  Yes     1476.000000  \n",
      "River Lee         No      1111.000000  \n",
      "                  Yes      603.000000  \n",
      "River Leen        No       673.000000  \n",
      "River Loddon      No       168.000000  \n",
      "River Mersey      No      1121.000000  \n",
      "                  Yes      321.000000  \n",
      "River Mole        No       663.500000  \n",
      "                  Yes     1249.000000  \n",
      "River Nene        Yes     1450.000000  \n",
      "River Nidd        Yes      836.000000  \n",
      "River Poulter     No       554.000000  \n",
      "River Ray         No       297.000000  \n",
      "River Ryton       No       681.000000  \n",
      "River Sence       No       284.000000  \n",
      "River Severn      No       703.000000  \n",
      "                  Yes      903.666667  \n",
      "River Soar        No       950.333333  \n",
      "River Stort       No      1479.000000  \n",
      "River Strine      No      1197.000000  \n",
      "River Tame        No       794.000000  \n",
      "River Thame       Yes      109.000000  \n",
      "River Thames      No       839.500000  \n",
      "                  Yes     1096.500000  \n",
      "River Trent       No       908.666667  \n",
      "                  Yes      546.000000  \n",
      "River Wey         No      1218.500000  \n",
      "River Wharfe      No       379.000000  \n",
      "River Windrush    No      1079.000000  \n",
      "River Wreake      Yes      675.000000  \n",
      "West Glen River   No       126.000000  \n"
     ]
    }
   ],
   "source": [
    "# b. What is the mean of numerical columns for stations grouped by river name and whether they are active?\n",
    "\n",
    "grouped_data2 = df.groupby(['riverName', 'active'])\n",
    "print(grouped_data2.mean())"
   ]
  },
  {
   "cell_type": "markdown",
   "metadata": {},
   "source": [
    "### 4. Conditional selections"
   ]
  },
  {
   "cell_type": "code",
   "execution_count": 29,
   "metadata": {},
   "outputs": [
    {
     "name": "stdout",
     "output_type": "stream",
     "text": [
      "<class 'pandas.core.frame.DataFrame'>\n",
      "Int64Index: 8 entries, 7267 to 7047\n",
      "Data columns (total 12 columns):\n",
      " #   Column            Non-Null Count  Dtype  \n",
      "---  ------            --------------  -----  \n",
      " 0   catchmentName     8 non-null      object \n",
      " 1   dateOpened        8 non-null      object \n",
      " 2   easting           8 non-null      int64  \n",
      " 3   label             8 non-null      object \n",
      " 4   lat               8 non-null      float64\n",
      " 5   long              8 non-null      float64\n",
      " 6   northing          8 non-null      float64\n",
      " 7   notation          8 non-null      object \n",
      " 8   riverName         8 non-null      object \n",
      " 9   stationReference  8 non-null      object \n",
      " 10  limit             8 non-null      int64  \n",
      " 11  active            8 non-null      object \n",
      "dtypes: float64(3), int64(2), object(7)\n",
      "memory usage: 832.0+ bytes\n",
      "None\n"
     ]
    }
   ],
   "source": [
    "# a.View only stations associated with the River Thames\n",
    "# b. Save the results in a variable called `new_df` (new DataFrame) and view summary information to see how many entries \n",
    "# there are. \n",
    "new_df = df[df['riverName'] == 'River Thames']\n",
    "print(new_df.info())"
   ]
  },
  {
   "cell_type": "code",
   "execution_count": 26,
   "metadata": {},
   "outputs": [
    {
     "name": "stdout",
     "output_type": "stream",
     "text": [
      "                           catchmentName  dateOpened  easting  \\\n",
      "RLOIid                                                          \n",
      "7110              Cherwell Thame and Wye  01/01/1991   471800   \n",
      "7084                 Vale of White Horse  01/01/1983   451700   \n",
      "7165    Thames from Hurley to Teddington  01/01/2002   490140   \n",
      "\n",
      "                   label        lat      long  northing notation  \\\n",
      "RLOIid                                                             \n",
      "7110             Reading  51.461325 -0.967884  174100.0   2200TH   \n",
      "7084    Sutton Courtenay  51.647821 -1.254167  194600.0   1800TH   \n",
      "7165          Maidenhead  51.524146 -0.702103  181380.0   2604TH   \n",
      "\n",
      "           riverName stationReference  limit active  \n",
      "RLOIid                                               \n",
      "7110    River Thames           2200TH   1360     No  \n",
      "7084    River Thames           1800TH    959     No  \n",
      "7165    River Thames           2604TH   1244     No  \n"
     ]
    }
   ],
   "source": [
    "# c. Out of the entries in your new DataFrame, now narrow the selection to those that have a limit that is greater\n",
    "# than or equal to 500 and print the first 3 entries to the screen. \n",
    "print((new_df[new_df['limit'] >= 500]).head(3))"
   ]
  },
  {
   "cell_type": "code",
   "execution_count": null,
   "metadata": {},
   "outputs": [],
   "source": []
  }
 ],
 "metadata": {
  "kernelspec": {
   "display_name": "Python 3",
   "language": "python",
   "name": "python3"
  },
  "language_info": {
   "codemirror_mode": {
    "name": "ipython",
    "version": 3
   },
   "file_extension": ".py",
   "mimetype": "text/x-python",
   "name": "python",
   "nbconvert_exporter": "python",
   "pygments_lexer": "ipython3",
   "version": "3.7.6"
  }
 },
 "nbformat": 4,
 "nbformat_minor": 4
}
