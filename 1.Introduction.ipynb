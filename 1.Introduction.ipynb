{
 "cells": [
  {
   "cell_type": "markdown",
   "metadata": {
    "slideshow": {
     "slide_type": "slide"
    }
   },
   "source": [
    "Instructions to access notebook...\n"
   ]
  },
  {
   "cell_type": "markdown",
   "metadata": {
    "heading_collapsed": true,
    "slideshow": {
     "slide_type": "slide"
    }
   },
   "source": [
    "# Introduction to Python\n",
    "* Introduction to the Research Software Engineering team\n",
    "* Introduction to the session\n",
    "* Introductiong to programming\n",
    "* Data types\n",
    "* Comparisons, lists and loops\n",
    "* Introduction to working with data"
   ]
  },
  {
   "cell_type": "markdown",
   "metadata": {
    "slideshow": {
     "slide_type": "slide"
    }
   },
   "source": [
    "# Research Software Engineering team\n",
    "\n",
    "Support research across the university through the application of software engineering best practice through:  \n",
    "* Training\n",
    "* Collaborating with researchers to build software to address their research challenges\n",
    "\n",
    "Find out more https://research.ncl.ac.uk/rse/   \n",
    "Follow us on Twitter @ncl_rse  \n",
    "Subscribe to our mailing list `rse-updates`  "
   ]
  },
  {
   "cell_type": "markdown",
   "metadata": {
    "slideshow": {
     "slide_type": "slide"
    }
   },
   "source": [
    "# What to expect\n",
    "\n",
    "* Introduce key concepts, becoming more hands-on as we progress\n",
    "* PDF and notebooks to refer to after the session\n",
    "* Ask questions at any time, no question is too simple\n"
   ]
  },
  {
   "cell_type": "markdown",
   "metadata": {
    "slideshow": {
     "slide_type": "fragment"
    }
   },
   "source": [
    "![postIts.PNG](./images/postIts.PNG)"
   ]
  },
  {
   "cell_type": "markdown",
   "metadata": {
    "slideshow": {
     "slide_type": "slide"
    }
   },
   "source": [
    "# Introduction to Programming\n",
    "\n",
    "### What is code?\n",
    "\n",
    "Computers can only understand two distinct types of data, on and off. Binary code represents this using `0` and `1`. \n",
    "\n",
    "![Binary code](./images/binary.png)"
   ]
  },
  {
   "cell_type": "markdown",
   "metadata": {
    "slideshow": {
     "slide_type": "slide"
    }
   },
   "source": [
    "### Origins\n",
    "\n",
    "#### Punched cards in Jacquard looms\n",
    "\n",
    "Needle goes through hole = thread lifts\n",
    "\n",
    "![Punched cards](./images/punchcard2.jpg)"
   ]
  },
  {
   "cell_type": "markdown",
   "metadata": {
    "slideshow": {
     "slide_type": "slide"
    }
   },
   "source": [
    "### Origins \n",
    "\n",
    "#### Babbage's analytical machine and Lovelace's punched card algorithms\n",
    "\n",
    "![Analytical engine](./images/analyticalengine.jpg)\n",
    "\n",
    "Transistors have replaced the pins and punched cards in computers today."
   ]
  },
  {
   "cell_type": "markdown",
   "metadata": {
    "slideshow": {
     "slide_type": "slide"
    }
   },
   "source": [
    "### What is code?\n",
    "\n",
    "Writing binary code would not be practical!\n",
    "\n",
    "We use programming languages to write code that is eventually translated into binary\n",
    "\n",
    "Code = instructions for computer"
   ]
  },
  {
   "cell_type": "markdown",
   "metadata": {
    "slideshow": {
     "slide_type": "slide"
    }
   },
   "source": [
    "### What is a program?\n",
    "\n",
    "Program = text file following the rules of the language we are using containing instructions\n",
    "\n",
    "Imagine giving someone instructions to drive somewhere, including how to drive and what to do in different scenarios"
   ]
  },
  {
   "cell_type": "markdown",
   "metadata": {
    "slideshow": {
     "slide_type": "slide"
    }
   },
   "source": [
    "### What are programming languages?\n",
    "\n",
    "Different languages have different rules and syntax\n",
    "\n",
    "Pro's and con's, trends, personal preference\n",
    "\n",
    "What languages have you heard of?"
   ]
  },
  {
   "cell_type": "markdown",
   "metadata": {
    "slideshow": {
     "slide_type": "slide"
    }
   },
   "source": [
    "### Why might you code?\n",
    "\n",
    "* Scale and speed  \n",
    "* Reproducibility   \n",
    "* Value: write your own code or use open source solutions rather than proprietary options\n",
    "* Flexibility: your tools are just how you want them to be  "
   ]
  },
  {
   "cell_type": "markdown",
   "metadata": {
    "slideshow": {
     "slide_type": "slide"
    }
   },
   "source": [
    "### Why Python?\n",
    "\n",
    "* Data manipulation and analysis \n",
    "* Relatively readable   \n",
    "* Open source with a large support community    \n",
    "* Lots of packages    \n",
    "* Good for writing tests\n",
    "* Web   \n",
    "\n",
    "Once you've learnt core programming concepts in one language it becomes easier to learn other languages if you want to.\n",
    "\n"
   ]
  },
  {
   "cell_type": "markdown",
   "metadata": {
    "slideshow": {
     "slide_type": "slide"
    }
   },
   "source": [
    "# Setup\n",
    "\n",
    "### What is an interpretor?\n",
    "We need to translate our Python code into binary so that a computer can understand it. We call this 'interpetation' and use an 'interpretor' to do it. Each line of code is interpted one at a time.\n",
    "\n",
    "We are using Jupyter notebooks to write and run our code. Jupyter notebooks can store images and writing but also interpret code. \n",
    "\n",
    "You will be able to access and interact with our notebooks that we are running in the cloud. At the end of the workshop there's a couple of links for those who might want to try running a notebook on their own computer. "
   ]
  },
  {
   "cell_type": "markdown",
   "metadata": {
    "slideshow": {
     "slide_type": "slide"
    }
   },
   "source": [
    "### How to use Jupyter notebooks   \n",
    "\n",
    "* Code blocks start with `In []:` (for input) \n",
    "\n",
    "* To run a block, select it and click 'Run' or shift+enter  \n",
    "\n",
    "* Code starts from top of page  \n",
    "\n",
    "* Scroll, view whole output, or hide output by clicking to left of printed results"
   ]
  },
  {
   "cell_type": "markdown",
   "metadata": {
    "slideshow": {
     "slide_type": "slide"
    }
   },
   "source": [
    "## Your first line of code"
   ]
  },
  {
   "cell_type": "code",
   "execution_count": null,
   "metadata": {
    "scrolled": true,
    "slideshow": {
     "slide_type": "fragment"
    }
   },
   "outputs": [],
   "source": [
    "print(\"Hello world!\")"
   ]
  },
  {
   "cell_type": "markdown",
   "metadata": {
    "slideshow": {
     "slide_type": "fragment"
    }
   },
   "source": [
    "Write and run a line of code that will display 'I am ready to learn Python' on the screen.\n",
    "\n",
    "We are using the `print` function here, on of Python's standard functions. You will learn what a function is soon!"
   ]
  },
  {
   "cell_type": "code",
   "execution_count": null,
   "metadata": {
    "slideshow": {
     "slide_type": "-"
    }
   },
   "outputs": [],
   "source": []
  }
 ],
 "metadata": {
  "celltoolbar": "Slideshow",
  "kernelspec": {
   "display_name": "Python 3",
   "language": "python",
   "name": "python3"
  },
  "language_info": {
   "codemirror_mode": {
    "name": "ipython",
    "version": 3
   },
   "file_extension": ".py",
   "mimetype": "text/x-python",
   "name": "python",
   "nbconvert_exporter": "python",
   "pygments_lexer": "ipython3",
   "version": "3.7.6"
  },
  "widgets": {
   "application/vnd.jupyter.widget-state+json": {
    "state": {},
    "version_major": 2,
    "version_minor": 0
   }
  }
 },
 "nbformat": 4,
 "nbformat_minor": 4
}
