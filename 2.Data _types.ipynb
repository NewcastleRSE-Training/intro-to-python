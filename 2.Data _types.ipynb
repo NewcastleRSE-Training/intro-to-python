{
 "cells": [
  {
   "cell_type": "markdown",
   "metadata": {
    "slideshow": {
     "slide_type": "slide"
    },
    "solution": "hidden"
   },
   "source": [
    "# Data types\n",
    "  \n",
    "* numbers\n",
    "* words\n",
    "* booleans\n",
    "\n",
    "Prepare your notebook:  \n",
    "\n",
    "Run all cells - Cell > Run All    \n",
    "Hide output - Cell > All Output > Clear"
   ]
  },
  {
   "cell_type": "markdown",
   "metadata": {
    "slideshow": {
     "slide_type": "slide"
    }
   },
   "source": [
    "### Numbers\n",
    "\n",
    "We can use 2 different types of number in Python:\n",
    "\n",
    "* Floats represent numbers with decimal places, e.g. `12.345`\n",
    "* Integers represent whole numbers, e.g. `12`\n",
    "\n",
    "\n",
    "We can do various operations on floats and integers"
   ]
  },
  {
   "cell_type": "code",
   "execution_count": null,
   "metadata": {
    "slideshow": {
     "slide_type": "fragment"
    }
   },
   "outputs": [],
   "source": [
    "3*4"
   ]
  },
  {
   "cell_type": "code",
   "execution_count": null,
   "metadata": {
    "slideshow": {
     "slide_type": "fragment"
    }
   },
   "outputs": [],
   "source": [
    "12/4"
   ]
  },
  {
   "cell_type": "code",
   "execution_count": null,
   "metadata": {
    "slideshow": {
     "slide_type": "fragment"
    }
   },
   "outputs": [],
   "source": [
    "3.3+4.56"
   ]
  },
  {
   "cell_type": "code",
   "execution_count": null,
   "metadata": {
    "slideshow": {
     "slide_type": "fragment"
    }
   },
   "outputs": [],
   "source": [
    "3-4"
   ]
  },
  {
   "cell_type": "markdown",
   "metadata": {
    "slideshow": {
     "slide_type": "slide"
    }
   },
   "source": [
    "The same rules for what order operations happen apply inside the Python interpreter as in maths."
   ]
  },
  {
   "cell_type": "code",
   "execution_count": null,
   "metadata": {
    "slideshow": {
     "slide_type": "-"
    }
   },
   "outputs": [],
   "source": [
    "3 + 4 * 2"
   ]
  },
  {
   "cell_type": "markdown",
   "metadata": {
    "slideshow": {
     "slide_type": "-"
    }
   },
   "source": [
    "Note here how we've added spaces to make this more readable. This is fine in this instance, but later in the session you will see circumstances where spaces do make a difference."
   ]
  },
  {
   "cell_type": "markdown",
   "metadata": {
    "slideshow": {
     "slide_type": "slide"
    }
   },
   "source": [
    "All operators available in Python:\n",
    "\n",
    "| Operator | Meaning   |\n",
    "|------|------|\n",
    "|   +  | add|\n",
    "|   -  | minus|\n",
    "|   *  | multiply|\n",
    "|   /  | divide|\n",
    "|   %  | modulus - remainder of left divided by right|\n",
    "|   //  | floor division - division that returns nearest whole number to the left|\n",
    "|   **  | exponent - left raised to the power of the right|"
   ]
  },
  {
   "cell_type": "markdown",
   "metadata": {
    "slideshow": {
     "slide_type": "slide"
    }
   },
   "source": [
    "### Strings\n",
    "\n",
    "String = a word or collection of words indicated by quotation marks\n",
    "\n",
    "```\"This is a string containing letters and an exclamation mark!\"```  \n",
    "```\"This is a string containing the numbers 3 and 4\"```  \n",
    "\n",
    "Note here that we have included the digits 3 and 4 in our string, but these aren't treated as floats or integers. "
   ]
  },
  {
   "cell_type": "markdown",
   "metadata": {
    "slideshow": {
     "slide_type": "slide"
    }
   },
   "source": [
    "#### Using `+` with strings and integers"
   ]
  },
  {
   "cell_type": "code",
   "execution_count": null,
   "metadata": {
    "slideshow": {
     "slide_type": "fragment"
    }
   },
   "outputs": [],
   "source": [
    "# Concatenation\n",
    "\"fish\" + \" and \" + \"chips\""
   ]
  },
  {
   "cell_type": "code",
   "execution_count": null,
   "metadata": {
    "slideshow": {
     "slide_type": "fragment"
    }
   },
   "outputs": [],
   "source": [
    "2 + 4"
   ]
  },
  {
   "cell_type": "code",
   "execution_count": 25,
   "metadata": {
    "slideshow": {
     "slide_type": "fragment"
    }
   },
   "outputs": [
    {
     "name": "stdout",
     "output_type": "stream",
     "text": [
      "2 + 4\n"
     ]
    }
   ],
   "source": [
    "'2 + 4'"
   ]
  },
  {
   "cell_type": "code",
   "execution_count": 26,
   "metadata": {
    "slideshow": {
     "slide_type": "fragment"
    }
   },
   "outputs": [
    {
     "name": "stdout",
     "output_type": "stream",
     "text": [
      "2 fish\n"
     ]
    }
   ],
   "source": [
    "\"2\" + \" fish\""
   ]
  },
  {
   "cell_type": "code",
   "execution_count": null,
   "metadata": {
    "slideshow": {
     "slide_type": "fragment"
    }
   },
   "outputs": [],
   "source": [
    "# Mixing types?\n",
    "\"2\" + 4"
   ]
  },
  {
   "cell_type": "markdown",
   "metadata": {
    "slideshow": {
     "slide_type": "slide"
    }
   },
   "source": [
    "### Booleans\n",
    "\n",
    "Boolean values = ```true``` or ```false```\n",
    "\n",
    "These are values just as ```12``` and ```hello``` but are their own data type.   \n",
    "\n",
    "Booleans are useful when we want to compare things. \n",
    "\n",
    "Here we are evaluating a comparison between 2 variables which results in a boolean. "
   ]
  },
  {
   "cell_type": "code",
   "execution_count": 23,
   "metadata": {
    "slideshow": {
     "slide_type": "-"
    }
   },
   "outputs": [
    {
     "name": "stdout",
     "output_type": "stream",
     "text": [
      "False\n"
     ]
    }
   ],
   "source": [
    "toms_age = 25\n",
    "lauras_age = 36\n",
    "\n",
    "print(toms_age > lauras_age)"
   ]
  },
  {
   "cell_type": "code",
   "execution_count": 24,
   "metadata": {
    "slideshow": {
     "slide_type": "fragment"
    }
   },
   "outputs": [
    {
     "name": "stdout",
     "output_type": "stream",
     "text": [
      "True\n"
     ]
    }
   ],
   "source": [
    "print(lauras_age >= toms_age)"
   ]
  },
  {
   "cell_type": "markdown",
   "metadata": {
    "slideshow": {
     "slide_type": "slide"
    }
   },
   "source": [
    "These are the comparison and logic operators we can use in Python:\n",
    "\n",
    "| Operator | Meaning   |\n",
    "|------|------|\n",
    "|   >  | greater than|\n",
    "|   <  | less than|\n",
    "|   >=  | greater than or equal to|\n",
    "|   <=  | less than or equal to|\n",
    "|   ==  | equal to|\n",
    "|   !=  | not equal to|\n",
    "\n",
    "Later in the session we will see how we can provide different code depending on if a statement is `true` or `false`."
   ]
  },
  {
   "cell_type": "markdown",
   "metadata": {
    "slideshow": {
     "slide_type": "slide"
    }
   },
   "source": [
    "### Exercise 2.1\n",
    "\n",
    "In the code block below replace the ```?``` with operators to print:\n",
    "```\n",
    "True\n",
    "False\n",
    "True``` \n",
    "\n",
    "Try and use a different operator each time."
   ]
  },
  {
   "cell_type": "code",
   "execution_count": null,
   "metadata": {
    "slideshow": {
     "slide_type": "-"
    },
    "solution": "hidden"
   },
   "outputs": [],
   "source": [
    "# Exercise 2.1 code\n",
    "\n",
    "x = 2\n",
    "print(x ? 2) #print True\n",
    "print(x ? 3) #print False\n",
    "print(x ? 3) #print True\n"
   ]
  },
  {
   "cell_type": "markdown",
   "metadata": {
    "slideshow": {
     "slide_type": "slide"
    }
   },
   "source": [
    "### Variables\n",
    "\n",
    "Variable = a container for data that you can refer to using a name and update when needed.  \n",
    "\n",
    "Rules for variable names:\n",
    "* letters, numbers and underscores, no spaces e.g. 'my_variable'\n",
    "* can't start with a number\n",
    "* case sensitive\n",
    "* make them meaningful e.g. prefer 'velocity' over 'v'\n",
    "* not a keyword that already has a meaning in Python, e.g. 'false'"
   ]
  },
  {
   "cell_type": "markdown",
   "metadata": {
    "slideshow": {
     "slide_type": "slide"
    }
   },
   "source": [
    "We create a variable using ```=```. Whatever is on the right side is 'assigned' to the left side, including functions.\n",
    "\n",
    "```dinner = \"fish and chips\"```     \n",
    "```final_score = 35```"
   ]
  },
  {
   "cell_type": "code",
   "execution_count": null,
   "metadata": {
    "slideshow": {
     "slide_type": "-"
    }
   },
   "outputs": [],
   "source": [
    "weight_kg = 2 + 3\n",
    "print(weight_kg)"
   ]
  },
  {
   "cell_type": "markdown",
   "metadata": {
    "slideshow": {
     "slide_type": "fragment"
    }
   },
   "source": [
    "We can update the value of variables:"
   ]
  },
  {
   "cell_type": "code",
   "execution_count": null,
   "metadata": {
    "slideshow": {
     "slide_type": "-"
    }
   },
   "outputs": [],
   "source": [
    "weight_kg = weight_kg + 4\n",
    "print(weight_kg)"
   ]
  },
  {
   "cell_type": "markdown",
   "metadata": {
    "slideshow": {
     "slide_type": "slide"
    }
   },
   "source": [
    "If you want to you can use a short-hand for updating a variable:\n",
    "\n",
    "A = A + B shortened to A+=B  \n",
    "A = A - B shortened to A-=B  \n",
    "\n",
    "You can do the same for the other operators too."
   ]
  },
  {
   "cell_type": "code",
   "execution_count": null,
   "metadata": {
    "slideshow": {
     "slide_type": "-"
    }
   },
   "outputs": [],
   "source": [
    "number_coffees = 2\n",
    "number_coffees += 1\n",
    "print(number_coffees)"
   ]
  },
  {
   "cell_type": "markdown",
   "metadata": {
    "slideshow": {
     "slide_type": "slide"
    }
   },
   "source": [
    "### Exercise 2.2\n",
    " \n",
    " Create three variables describing the number of fruit and veg you ate on Monday, Tuesday and Wednesday last week (you can make it up!). Then print the average per day."
   ]
  },
  {
   "cell_type": "code",
   "execution_count": null,
   "metadata": {
    "slideshow": {
     "slide_type": "-"
    }
   },
   "outputs": [],
   "source": [
    "# Exercise 2.2 code"
   ]
  }
 ],
 "metadata": {
  "celltoolbar": "Slideshow",
  "kernelspec": {
   "display_name": "Python 3",
   "language": "python",
   "name": "python3"
  },
  "language_info": {
   "codemirror_mode": {
    "name": "ipython",
    "version": 3
   },
   "file_extension": ".py",
   "mimetype": "text/x-python",
   "name": "python",
   "nbconvert_exporter": "python",
   "pygments_lexer": "ipython3",
   "version": "3.7.6"
  }
 },
 "nbformat": 4,
 "nbformat_minor": 4
}
