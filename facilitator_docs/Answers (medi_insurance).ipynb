{
 "cells": [
  {
   "cell_type": "markdown",
   "metadata": {},
   "source": [
    "# Answers for medical insurance data"
   ]
  },
  {
   "cell_type": "markdown",
   "metadata": {},
   "source": [
    "filename: medical_insurance\n",
    "\n",
    "## First steps with pandas\n",
    "Code templates are included in hidden solution code blocks in notebook but require correct filename and column names added.\n",
    "\n",
    "Note this data has been edited for the purposes of the exercise, but there is deliberately some missing data."
   ]
  },
  {
   "cell_type": "code",
   "execution_count": 39,
   "metadata": {},
   "outputs": [
    {
     "name": "stdout",
     "output_type": "stream",
     "text": [
      "      identifier  age     sex     bmi  children smoker     region   charges\n",
      "0            880   19  female  27.900         0    yes  southwest  16884.92\n",
      "1            881   18    male  33.770         1     no  southeast   1725.55\n",
      "2            882   28    male  33.000         3     no  southeast   4449.46\n",
      "3            883   33    male  22.705         0     no  northwest  21984.47\n",
      "4            884   32    male  28.880         0     no  northwest   3866.86\n",
      "...          ...  ...     ...     ...       ...    ...        ...       ...\n",
      "1333        2213   50    male  30.970         3     no  northwest  10600.55\n",
      "1334        2214   18  female  31.920         0     no  northeast   2205.98\n",
      "1335        2215   18  female  36.850         0     no  southeast   1629.83\n",
      "1336        2216   21  female  25.800         0     no  southwest   2007.94\n",
      "1337        2217   61  female  29.070         0    yes  northwest  29141.36\n",
      "\n",
      "[1338 rows x 8 columns]\n"
     ]
    }
   ],
   "source": [
    "import pandas\n",
    "df = pandas.read_csv('./data/medical_insurance.csv')\n",
    "print(df)"
   ]
  },
  {
   "cell_type": "code",
   "execution_count": 21,
   "metadata": {},
   "outputs": [
    {
     "name": "stdout",
     "output_type": "stream",
     "text": [
      "   age     sex     bmi  children smoker     region      charges  identifier\n",
      "0   19  female  27.900         0    yes  southwest  16884.92400         880\n",
      "1   18    male  33.770         1     no  southeast   1725.55230         881\n",
      "2   28    male  33.000         3     no  southeast   4449.46200         882\n",
      "3   33    male  22.705         0     no  northwest  21984.47061         883\n",
      "4   32    male  28.880         0     no  northwest   3866.85520         884\n"
     ]
    }
   ],
   "source": [
    "# Print first few lines\n",
    "\n",
    "print(df.head())"
   ]
  },
  {
   "cell_type": "code",
   "execution_count": 22,
   "metadata": {},
   "outputs": [
    {
     "name": "stdout",
     "output_type": "stream",
     "text": [
      "<class 'pandas.core.frame.DataFrame'>\n",
      "RangeIndex: 1338 entries, 0 to 1337\n",
      "Data columns (total 8 columns):\n",
      " #   Column      Non-Null Count  Dtype  \n",
      "---  ------      --------------  -----  \n",
      " 0   age         1338 non-null   int64  \n",
      " 1   sex         1338 non-null   object \n",
      " 2   bmi         1338 non-null   float64\n",
      " 3   children    1338 non-null   int64  \n",
      " 4   smoker      1338 non-null   object \n",
      " 5   region      1338 non-null   object \n",
      " 6   charges     1338 non-null   float64\n",
      " 7   identifier  1338 non-null   int64  \n",
      "dtypes: float64(2), int64(3), object(3)\n",
      "memory usage: 83.8+ KB\n",
      "None\n"
     ]
    }
   ],
   "source": [
    "# Print summary information\n",
    "\n",
    "print(df.info())"
   ]
  },
  {
   "cell_type": "code",
   "execution_count": 25,
   "metadata": {},
   "outputs": [
    {
     "name": "stdout",
     "output_type": "stream",
     "text": [
      "<class 'str'>\n"
     ]
    }
   ],
   "source": [
    "# Print the type of the a column\n",
    "\n",
    "print(type(df['smoker'][0]))"
   ]
  },
  {
   "cell_type": "code",
   "execution_count": 27,
   "metadata": {},
   "outputs": [
    {
     "name": "stdout",
     "output_type": "stream",
     "text": [
      "            age     sex     bmi  children smoker     region      charges\n",
      "identifier                                                              \n",
      "880          19  female  27.900         0    yes  southwest  16884.92400\n",
      "881          18    male  33.770         1     no  southeast   1725.55230\n",
      "882          28    male  33.000         3     no  southeast   4449.46200\n",
      "883          33    male  22.705         0     no  northwest  21984.47061\n",
      "884          32    male  28.880         0     no  northwest   3866.85520\n",
      "...         ...     ...     ...       ...    ...        ...          ...\n",
      "2213         50    male  30.970         3     no  northwest  10600.54830\n",
      "2214         18  female  31.920         0     no  northeast   2205.98080\n",
      "2215         18  female  36.850         0     no  southeast   1629.83350\n",
      "2216         21  female  25.800         0     no  southwest   2007.94500\n",
      "2217         61  female  29.070         0    yes  northwest  29141.36030\n",
      "\n",
      "[1338 rows x 7 columns]\n"
     ]
    }
   ],
   "source": [
    "# custom index column\n",
    "df = pandas.read_csv('./data/medical_insurance.csv', index_col='identifier')\n",
    "print(df)"
   ]
  },
  {
   "cell_type": "markdown",
   "metadata": {},
   "source": [
    "## Exercises"
   ]
  },
  {
   "cell_type": "markdown",
   "metadata": {},
   "source": [
    "### 1. Unique values"
   ]
  },
  {
   "cell_type": "code",
   "execution_count": 28,
   "metadata": {},
   "outputs": [
    {
     "name": "stdout",
     "output_type": "stream",
     "text": [
      "[19 18 28 33 32 31 46 37 60 25 62 23 56 27 52 30 34 59 63 55 22 26 35 24\n",
      " 41 38 36 21 48 40 58 53 43 64 20 61 44 57 29 45 54 49 47 51 42 50 39]\n",
      "47\n"
     ]
    }
   ],
   "source": [
    "# a. Create a list of the unique values that are in one of the columns.\n",
    "\n",
    "unique_values = pandas.unique(df['age'])\n",
    "print(unique_values)\n",
    "\n",
    "# b. How many unique values are there in this column?\n",
    "count = len(unique_values)\n",
    "print(count)"
   ]
  },
  {
   "cell_type": "markdown",
   "metadata": {},
   "source": [
    "### 2. Basic statistics\n"
   ]
  },
  {
   "cell_type": "code",
   "execution_count": 30,
   "metadata": {},
   "outputs": [
    {
     "name": "stdout",
     "output_type": "stream",
     "text": [
      "count    1338.000000\n",
      "mean       39.207025\n",
      "std        14.049960\n",
      "min        18.000000\n",
      "25%        27.000000\n",
      "50%        39.000000\n",
      "75%        51.000000\n",
      "max        64.000000\n",
      "Name: age, dtype: float64\n"
     ]
    }
   ],
   "source": [
    "# 2a. See what happens when you run the ```.describe()``` command with a numerical and non-numerical column.\n",
    "# numerical column\n",
    "print(df['age'].describe())"
   ]
  },
  {
   "cell_type": "code",
   "execution_count": 29,
   "metadata": {},
   "outputs": [
    {
     "name": "stdout",
     "output_type": "stream",
     "text": [
      "count          1338\n",
      "unique            4\n",
      "top       southeast\n",
      "freq            364\n",
      "Name: region, dtype: object\n"
     ]
    }
   ],
   "source": [
    "# non-numerical column (freq = most common value's frequency)\n",
    "print(df['region'].describe())"
   ]
  },
  {
   "cell_type": "code",
   "execution_count": 40,
   "metadata": {},
   "outputs": [
    {
     "name": "stdout",
     "output_type": "stream",
     "text": [
      "63770.43\n"
     ]
    }
   ],
   "source": [
    "# 2b. What is the highest charge? \n",
    "print(df['charges'].max())"
   ]
  },
  {
   "cell_type": "markdown",
   "metadata": {},
   "source": [
    "### 3. Grouping and aggregating"
   ]
  },
  {
   "cell_type": "code",
   "execution_count": 41,
   "metadata": {},
   "outputs": [
    {
     "name": "stdout",
     "output_type": "stream",
     "text": [
      "         identifier        age        bmi  children       charges\n",
      "smoker                                                           \n",
      "no      1547.477444  39.385338  30.651795  1.090226   8434.268299\n",
      "yes     1552.470803  38.514599  30.708449  1.113139  32050.231898\n"
     ]
    }
   ],
   "source": [
    "# a. What is the mean charge for non-smokers?\n",
    "grouped_data = df.groupby('smoker')\n",
    "print(grouped_data.mean())"
   ]
  },
  {
   "cell_type": "code",
   "execution_count": 42,
   "metadata": {},
   "outputs": [
    {
     "name": "stdout",
     "output_type": "stream",
     "text": [
      "                identifier        age        bmi  children       charges\n",
      "smoker sex                                                              \n",
      "no     female  1540.932358  39.691042  30.539525  1.087751   8762.297166\n",
      "       male    1554.402321  39.061896  30.770580  1.092843   8087.204874\n",
      "yes    female  1576.173913  38.608696  29.608261  1.008696  30678.996261\n",
      "       male    1535.327044  38.446541  31.504182  1.188679  33042.006101\n"
     ]
    }
   ],
   "source": [
    "# b. What is the mean bmi for people grouped by gender and whether or not they smoke?\n",
    "\n",
    "grouped_data2 = df.groupby(['smoker', 'sex'])\n",
    "print(grouped_data2.mean())\n",
    "\n"
   ]
  },
  {
   "cell_type": "markdown",
   "metadata": {},
   "source": [
    "### 4. Conditional selections"
   ]
  },
  {
   "cell_type": "code",
   "execution_count": 43,
   "metadata": {},
   "outputs": [
    {
     "name": "stdout",
     "output_type": "stream",
     "text": [
      "<class 'pandas.core.frame.DataFrame'>\n",
      "Int64Index: 764 entries, 6 to 1337\n",
      "Data columns (total 8 columns):\n",
      " #   Column      Non-Null Count  Dtype  \n",
      "---  ------      --------------  -----  \n",
      " 0   identifier  764 non-null    int64  \n",
      " 1   age         764 non-null    int64  \n",
      " 2   sex         764 non-null    object \n",
      " 3   bmi         764 non-null    float64\n",
      " 4   children    764 non-null    int64  \n",
      " 5   smoker      764 non-null    object \n",
      " 6   region      764 non-null    object \n",
      " 7   charges     764 non-null    float64\n",
      "dtypes: float64(2), int64(3), object(3)\n",
      "memory usage: 53.7+ KB\n",
      "None\n"
     ]
    }
   ],
   "source": [
    "# a.View only entries for people over the age of 35\n",
    "# b. Save the results in a variable called `new_df` (new DataFrame) and view summary information to see how many entries \n",
    "# there are. \n",
    "new_df = df[df['age'] > 35]\n",
    "print(new_df.info())"
   ]
  },
  {
   "cell_type": "code",
   "execution_count": 44,
   "metadata": {},
   "outputs": [
    {
     "name": "stdout",
     "output_type": "stream",
     "text": [
      "    identifier  age     sex     bmi  children smoker     region   charges\n",
      "9          889   60  female  25.840         0     no  northwest  28923.14\n",
      "26         906   63  female  23.085         0     no  northeast  14451.84\n",
      "42         922   41    male  21.780         1     no  southeast   6272.48\n"
     ]
    }
   ],
   "source": [
    "# c. Out of the entries in your new DataFrame, now narrow the selection to those that have a bmi that is less\n",
    "# than or equal to 26 and print the first 3 entries to the screen. \n",
    "print((new_df[new_df['bmi'] <= 26]).head(3))"
   ]
  },
  {
   "cell_type": "code",
   "execution_count": null,
   "metadata": {},
   "outputs": [],
   "source": []
  }
 ],
 "metadata": {
  "kernelspec": {
   "display_name": "Python 3",
   "language": "python",
   "name": "python3"
  },
  "language_info": {
   "codemirror_mode": {
    "name": "ipython",
    "version": 3
   },
   "file_extension": ".py",
   "mimetype": "text/x-python",
   "name": "python",
   "nbconvert_exporter": "python",
   "pygments_lexer": "ipython3",
   "version": "3.7.6"
  }
 },
 "nbformat": 4,
 "nbformat_minor": 4
}
