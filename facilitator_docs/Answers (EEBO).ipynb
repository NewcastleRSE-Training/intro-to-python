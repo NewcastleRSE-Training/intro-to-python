{
 "cells": [
  {
   "cell_type": "markdown",
   "metadata": {},
   "source": [
    "# Answers for EBBO data"
   ]
  },
  {
   "cell_type": "markdown",
   "metadata": {},
   "source": [
    "## First steps with pandas\n",
    "Code templates are included in hidden solution code blocks in notebook but require correct filename and column names added.\n",
    "\n",
    "Note this data has been edited for the purposes of the exercise, but there is deliberately some missing data."
   ]
  },
  {
   "cell_type": "code",
   "execution_count": 20,
   "metadata": {},
   "outputs": [
    {
     "name": "stdout",
     "output_type": "stream",
     "text": [
      "        TCP      EEBO    VID                       STC Status  \\\n",
      "0    A00002  99850634  15849  STC 1000.5; ESTC S115415   Free   \n",
      "1    A00005  99842408   7058   STC 10000; ESTC S106695   Free   \n",
      "2    A00007  99844302   9101   STC 10002; ESTC S108645   Free   \n",
      "3    A00008  99848896  14017   STC 10003; ESTC S113665   Free   \n",
      "4    A00011  99837000   1304   STC 10008; ESTC S101178   Free   \n",
      "..      ...       ...    ...                       ...    ...   \n",
      "144  A00519  99849883  15055   STC 10654; ESTC S114658   Free   \n",
      "145  A00522  99847059  12066   STC 10657; ESTC S111789   Free   \n",
      "146  A00525  99856552  22122   STC 10660; ESTC S121369   Free   \n",
      "147  A00527  99849909  15082   STC 10665; ESTC S114685   Free   \n",
      "148  A00535  99849912  15085   STC 10675; ESTC S114688   Free   \n",
      "\n",
      "                                                Author  Date  \\\n",
      "0                           Aylett, Robert, 1583-1655?  1625   \n",
      "1    Higden, Ranulf, d. 1364. Polycronicon. English...  1515   \n",
      "2               Higden, Ranulf, d. 1364. Polycronicon.  1528   \n",
      "3            Wood, William, fl. 1623, attributed name.  1623   \n",
      "4                                                  NaN  1640   \n",
      "..                                                 ...   ...   \n",
      "144                                   T. F., fl. 1630.  1636   \n",
      "145  Fabricius, Joannes, Montanus, 1527-1566.; L. A...  1562   \n",
      "146                           Fabyan, Robert, d. 1513.  1533   \n",
      "147                   Fage, John, student in phisicke.  1606   \n",
      "148                         Falconer, John, 1577-1656.  1618   \n",
      "\n",
      "                                                 Title  \\\n",
      "0    The brides ornaments viz. fiue meditations, mo...   \n",
      "1    Here begynneth a shorte and abreue table on th...   \n",
      "2    The Cronycles of Englonde with the dedes of po...   \n",
      "3    Considerations vpon the treaty of marriage bet...   \n",
      "4    Englands complaint to Iesus Christ, against th...   \n",
      "..                                                 ...   \n",
      "144  A fooles bolt is soone shot Good friends bewar...   \n",
      "145  An oration of Ihon Fabritius Montanus VVherby ...   \n",
      "146  Fabyans cronycle newly prynted, wyth the crony...   \n",
      "147  Speculum ÃŒ_grotorum. The sicke-mens glasse or...   \n",
      "148  A briefe refutation of Iohn Traskes iudaical a...   \n",
      "\n",
      "                                                 Terms  Page Count  \\\n",
      "0                                                  NaN         134   \n",
      "1    Great Britain -- History -- To 1485 -- Early w...         302   \n",
      "2    Great Britain -- History -- To 1485 -- Early w...         386   \n",
      "3         Great Britain -- Foreign relations -- Spain.          14   \n",
      "4    Church of England. -- Thirty-nine Articles -- ...          54   \n",
      "..                                                 ...         ...   \n",
      "144                  Ballads, English -- 17th century.           2   \n",
      "145  Council of Trent (1545-1563) -- Early works to...          68   \n",
      "146  Great Britain -- History -- To 1485 -- Early w...         854   \n",
      "147  Medicine -- Early works to 1800.; Astrology --...          72   \n",
      "148  Traske, John, d. ca. 1638.; Jews -- Dietary la...         106   \n",
      "\n",
      "                Place  \n",
      "0              London  \n",
      "1              London  \n",
      "2              London  \n",
      "3    The Netherlands?  \n",
      "4           Amsterdam  \n",
      "..                ...  \n",
      "144            London  \n",
      "145            London  \n",
      "146   Prentyd  London  \n",
      "147            London  \n",
      "148        Saint-Omer  \n",
      "\n",
      "[149 rows x 11 columns]\n"
     ]
    }
   ],
   "source": [
    "import pandas\n",
    "df = pandas.read_csv('./data/early_english_books.csv')\n",
    "print(df)"
   ]
  },
  {
   "cell_type": "code",
   "execution_count": 21,
   "metadata": {},
   "outputs": [
    {
     "name": "stdout",
     "output_type": "stream",
     "text": [
      "      TCP      EEBO    VID                       STC Status  \\\n",
      "0  A00002  99850634  15849  STC 1000.5; ESTC S115415   Free   \n",
      "1  A00005  99842408   7058   STC 10000; ESTC S106695   Free   \n",
      "2  A00007  99844302   9101   STC 10002; ESTC S108645   Free   \n",
      "3  A00008  99848896  14017   STC 10003; ESTC S113665   Free   \n",
      "4  A00011  99837000   1304   STC 10008; ESTC S101178   Free   \n",
      "\n",
      "                                              Author  Date  \\\n",
      "0                         Aylett, Robert, 1583-1655?  1625   \n",
      "1  Higden, Ranulf, d. 1364. Polycronicon. English...  1515   \n",
      "2             Higden, Ranulf, d. 1364. Polycronicon.  1528   \n",
      "3          Wood, William, fl. 1623, attributed name.  1623   \n",
      "4                                                NaN  1640   \n",
      "\n",
      "                                               Title  \\\n",
      "0  The brides ornaments viz. fiue meditations, mo...   \n",
      "1  Here begynneth a shorte and abreue table on th...   \n",
      "2  The Cronycles of Englonde with the dedes of po...   \n",
      "3  Considerations vpon the treaty of marriage bet...   \n",
      "4  Englands complaint to Iesus Christ, against th...   \n",
      "\n",
      "                                               Terms  Page Count  \\\n",
      "0                                                NaN         134   \n",
      "1  Great Britain -- History -- To 1485 -- Early w...         302   \n",
      "2  Great Britain -- History -- To 1485 -- Early w...         386   \n",
      "3       Great Britain -- Foreign relations -- Spain.          14   \n",
      "4  Church of England. -- Thirty-nine Articles -- ...          54   \n",
      "\n",
      "              Place  \n",
      "0            London  \n",
      "1            London  \n",
      "2            London  \n",
      "3  The Netherlands?  \n",
      "4         Amsterdam  \n"
     ]
    }
   ],
   "source": [
    "# Print first few lines\n",
    "\n",
    "print(df.head())"
   ]
  },
  {
   "cell_type": "code",
   "execution_count": 22,
   "metadata": {},
   "outputs": [
    {
     "name": "stdout",
     "output_type": "stream",
     "text": [
      "<class 'pandas.core.frame.DataFrame'>\n",
      "RangeIndex: 149 entries, 0 to 148\n",
      "Data columns (total 11 columns):\n",
      " #   Column      Non-Null Count  Dtype \n",
      "---  ------      --------------  ----- \n",
      " 0   TCP         149 non-null    object\n",
      " 1   EEBO        149 non-null    int64 \n",
      " 2   VID         149 non-null    int64 \n",
      " 3   STC         149 non-null    object\n",
      " 4   Status      149 non-null    object\n",
      " 5   Author      136 non-null    object\n",
      " 6   Date        149 non-null    int64 \n",
      " 7   Title       149 non-null    object\n",
      " 8   Terms       141 non-null    object\n",
      " 9   Page Count  149 non-null    int64 \n",
      " 10  Place       149 non-null    object\n",
      "dtypes: int64(4), object(7)\n",
      "memory usage: 12.9+ KB\n",
      "None\n"
     ]
    }
   ],
   "source": [
    "# Print summary information\n",
    "\n",
    "print(df.info())"
   ]
  },
  {
   "cell_type": "code",
   "execution_count": 23,
   "metadata": {},
   "outputs": [
    {
     "name": "stdout",
     "output_type": "stream",
     "text": [
      "<class 'str'>\n"
     ]
    }
   ],
   "source": [
    "# Print the type of the Place column which is currently an int rather than Date\n",
    "print(type(df['Place'][0]))"
   ]
  },
  {
   "cell_type": "code",
   "execution_count": 29,
   "metadata": {},
   "outputs": [
    {
     "name": "stdout",
     "output_type": "stream",
     "text": [
      "Index(['TCP', 'VID', 'STC', 'Status', 'Author', 'Date', 'Title', 'Terms',\n",
      "       'Page Count', 'Place'],\n",
      "      dtype='object')\n"
     ]
    }
   ],
   "source": [
    "# custom index column\n",
    "df = pandas.read_csv('./data/early_english_books.csv', index_col='EEBO')\n",
    "print(df.columns)"
   ]
  },
  {
   "cell_type": "markdown",
   "metadata": {},
   "source": [
    "## Exercises"
   ]
  },
  {
   "cell_type": "markdown",
   "metadata": {},
   "source": [
    "### 1. Unique values"
   ]
  },
  {
   "cell_type": "code",
   "execution_count": 25,
   "metadata": {},
   "outputs": [
    {
     "name": "stdout",
     "output_type": "stream",
     "text": [
      "['London' 'The Netherlands?' 'Amsterdam' '\\xa0London' 'Germany?' 'London?'\n",
      " 'Londini' '\\xa0Londini' '\\xa0 London' '\\xa0Roan in Normandy i.e. London'\n",
      " 'Antwerp' 'Emden' 'S.l.' '\\xa0Ausborch i.e. Antwerp'\n",
      " '\\xa0Malborow i.e. Antwerp' 'Im in London' 'Cambridge' 'Rouen'\n",
      " '\\xa0Oxford' 'Antverpi' 'Oxford' 'Prentyd\\xa0 London' 'Saint-Omer']\n",
      "23\n"
     ]
    }
   ],
   "source": [
    "# a. Create a list of the unique values that are in one of the columns.\n",
    "\n",
    "unique_values = pandas.unique(df['Place'])\n",
    "print(unique_values)\n",
    "\n",
    "# b. How many unique values are there in this column?\n",
    "count = len(unique_values)\n",
    "print(count)"
   ]
  },
  {
   "cell_type": "markdown",
   "metadata": {},
   "source": [
    "### 2. Basic statistics\n"
   ]
  },
  {
   "cell_type": "code",
   "execution_count": 26,
   "metadata": {},
   "outputs": [
    {
     "name": "stdout",
     "output_type": "stream",
     "text": [
      "count    149.000000\n",
      "mean     104.382550\n",
      "std      160.125398\n",
      "min        1.000000\n",
      "25%       16.000000\n",
      "50%       52.000000\n",
      "75%      108.000000\n",
      "max      884.000000\n",
      "Name: Page Count, dtype: float64\n"
     ]
    }
   ],
   "source": [
    "# 2a. See what happens when you run the ```.describe()``` command with a numerical and non-numerical column.\n",
    "# numerical column\n",
    "print(df['Page Count'].describe())"
   ]
  },
  {
   "cell_type": "code",
   "execution_count": 34,
   "metadata": {},
   "outputs": [
    {
     "name": "stdout",
     "output_type": "stream",
     "text": [
      "count     149.000000\n",
      "mean     1584.288591\n",
      "std        36.158864\n",
      "min      1515.000000\n",
      "25%      1552.000000\n",
      "50%      1583.000000\n",
      "75%      1618.000000\n",
      "max      1640.000000\n",
      "Name: Date, dtype: float64\n"
     ]
    }
   ],
   "source": [
    "# non-numerical column (freq = most common value's frequency)\n",
    "print(df['Author'].describe())"
   ]
  },
  {
   "cell_type": "code",
   "execution_count": 35,
   "metadata": {},
   "outputs": [
    {
     "name": "stdout",
     "output_type": "stream",
     "text": [
      "1640\n"
     ]
    }
   ],
   "source": [
    "# 2b. What is the most recent date? \n",
    "# For the purposes of this exercise treat the Date column as containing numbers. We could convert this column to a timestamp\n",
    "# if we had a full date for each entry.\n",
    "print(df['Date'].max())"
   ]
  },
  {
   "cell_type": "markdown",
   "metadata": {},
   "source": [
    "### 3. Grouping and aggregating"
   ]
  },
  {
   "cell_type": "code",
   "execution_count": null,
   "metadata": {},
   "outputs": [],
   "source": [
    "# a. What is the mean page count for books published in Amsterdam?\n",
    "grouped_data = df.groupby('Place')\n",
    "print(grouped_data.mean())"
   ]
  },
  {
   "cell_type": "code",
   "execution_count": null,
   "metadata": {},
   "outputs": [],
   "source": [
    "# b. What is the mean page count for books grouped by publishing location and date?\n",
    "\n",
    "grouped_data2 = df.groupby(['Place', 'Date'])\n",
    "print(grouped_data2.mean())\n",
    "\n"
   ]
  },
  {
   "cell_type": "markdown",
   "metadata": {},
   "source": [
    "### 4. Conditional selections"
   ]
  },
  {
   "cell_type": "code",
   "execution_count": null,
   "metadata": {},
   "outputs": [],
   "source": [
    "# a.View only entries that were published in London.\n",
    "# b. Save the results in a variable called `new_df` (new DataFrame) and view summary information to see how many entries \n",
    "# there are for London. \n",
    "new_df = df[df['Place'] == 'London']\n",
    "print(new_df.info())\n",
    "\n",
    "# c. Out of the entries in your new DataFrame, now narrow the selection to those that have a page count that is greater\n",
    "# than or equal to 46 and print the first 3 entries to the screen. \n",
    "print((new_df[new_df['Page Count'] >= 46]).head(3))"
   ]
  },
  {
   "cell_type": "code",
   "execution_count": null,
   "metadata": {},
   "outputs": [],
   "source": []
  }
 ],
 "metadata": {
  "kernelspec": {
   "display_name": "Python 3",
   "language": "python",
   "name": "python3"
  },
  "language_info": {
   "codemirror_mode": {
    "name": "ipython",
    "version": 3
   },
   "file_extension": ".py",
   "mimetype": "text/x-python",
   "name": "python",
   "nbconvert_exporter": "python",
   "pygments_lexer": "ipython3",
   "version": "3.7.6"
  }
 },
 "nbformat": 4,
 "nbformat_minor": 4
}
