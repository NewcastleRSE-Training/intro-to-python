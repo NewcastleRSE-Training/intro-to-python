{
 "cells": [
  {
   "cell_type": "markdown",
   "metadata": {},
   "source": [
    "# Answers for DaVinci data"
   ]
  },
  {
   "cell_type": "markdown",
   "metadata": {},
   "source": [
    "filename: DaVinci\n",
    "\n",
    "## First steps with pandas\n",
    "Code templates are included in hidden solution code blocks in notebook but require correct filename and column names added.\n",
    "\n",
    "Note this data has been edited for the purposes of the exercise, but there is deliberately some missing data."
   ]
  },
  {
   "cell_type": "code",
   "execution_count": 46,
   "metadata": {},
   "outputs": [
    {
     "name": "stdout",
     "output_type": "stream",
     "text": [
      "     BL record ID Type of resource              Content type Material type  \\\n",
      "0           41738        Monograph  Language material ; Text        Volume   \n",
      "1           41739        Monograph  Language material ; Text        Volume   \n",
      "2           59998        Monograph  Language material ; Text        Volume   \n",
      "3           60030        Monograph  Language material ; Text        Volume   \n",
      "4           72285        Monograph  Language material ; Text        Volume   \n",
      "..            ...              ...                       ...           ...   \n",
      "349       2135242        Monograph  Language material ; Text        Volume   \n",
      "350       2135243        Monograph  Language material ; Text        Volume   \n",
      "351       2135244        Monograph  Language material ; Text        Volume   \n",
      "352       2135245        Monograph  Language material ; Text        Volume   \n",
      "353       2135246        Monograph  Language material ; Text        Volume   \n",
      "\n",
      "                   Name Dates associated with name Type of name  \\\n",
      "0        Albizzi, Luigi                        NaN       person   \n",
      "1        Albizzi, Luigi                        NaN       person   \n",
      "2    Almedingen, E. M.                   1898-1971       person   \n",
      "3    Almedingen, E. M.                   1898-1971       person   \n",
      "4       Amoretti, Carlo                        NaN       person   \n",
      "..                  ...                        ...          ...   \n",
      "349                 NaN                        NaN          NaN   \n",
      "350                 NaN                        NaN          NaN   \n",
      "351                 NaN                        NaN          NaN   \n",
      "352                 NaN                        NaN          NaN   \n",
      "353                 NaN                        NaN          NaN   \n",
      "\n",
      "                                             All names  \\\n",
      "0                              Albizzi, Luigi [person]   \n",
      "1                              Albizzi, Luigi [person]   \n",
      "2               Almedingen, E. M. , 1898-1971 [person]   \n",
      "3               Almedingen, E. M. , 1898-1971 [person]   \n",
      "4                             Amoretti, Carlo [person]   \n",
      "..                                                 ...   \n",
      "349                                                NaN   \n",
      "350  Jappel, Arnošt [person] ; Pečírka, Jaromír [pe...   \n",
      "351           Goldscheider, Ludwig, of Vienna [person]   \n",
      "352                          Pečírka, Jaromír [person]   \n",
      "353                                                NaN   \n",
      "\n",
      "                                                 Title Country of publication  \\\n",
      "0    La Testa del Battista, dipinto originale di Le...                    NaN   \n",
      "1    Leonardo da Vinci. The Head of John the Baptis...                    NaN   \n",
      "2                        Leonardo da Vinci. A portrait                England   \n",
      "3    The Young Leonardo da Vinci ... Illustrated by...                England   \n",
      "4    Memorie storiche su la vita, gli studj, e le o...                    NaN   \n",
      "..                                                 ...                    ...   \n",
      "349             Leonardo da Vinci. Florentine school.                 England   \n",
      "350  The Drawings of Leonardo and Michelangelo. Int...                England   \n",
      "351  Leonardo da Vinci. Life and work, paintings an...                England   \n",
      "352  The drawings of Leonardo and Michelangelo. Int...                England   \n",
      "353                                  Leonardo da Vinci                England   \n",
      "\n",
      "    Place of publication                                          Publisher  \\\n",
      "0                Firenze                                                NaN   \n",
      "1               Florence                                                NaN   \n",
      "2                 London                                        Bodley Head   \n",
      "3                 London                                                 Bl   \n",
      "4                 Milano  dalla Tipografia di Giusti, Ferrario, eC, Edit...   \n",
      "..                   ...                                                ...   \n",
      "349               London                                     Medici Society   \n",
      "350      London ; Prague                                        Paul Hamlyn   \n",
      "351               London                                      Phaidon Press   \n",
      "352               London                                             Hamlyn   \n",
      "353               London                                       Leisure Arts   \n",
      "\n",
      "     Date  Page Count            BL shelfmark  Citations  \n",
      "0    1919          31               7859.h.26         41  \n",
      "1    1920          31  1752.c.1.  ; 7859.g.16          6  \n",
      "2    1969         159              X.429/4017         34  \n",
      "3    1963         143            010600.ee.14          7  \n",
      "4    1804         199               1402.f.14         39  \n",
      "..    ...         ...                     ...        ...  \n",
      "349  1962         546            7866.s.12/24          1  \n",
      "350  1964          67               X.423/135         20  \n",
      "351  1964         192                X.423/38         37  \n",
      "352  1966          78               X.423/422         40  \n",
      "353  1966          99             L.R.410.c.4         42  \n",
      "\n",
      "[354 rows x 16 columns]\n"
     ]
    }
   ],
   "source": [
    "import pandas\n",
    "df = pandas.read_csv('./data/DaVinci.csv')\n",
    "print(df)"
   ]
  },
  {
   "cell_type": "code",
   "execution_count": 47,
   "metadata": {},
   "outputs": [
    {
     "name": "stdout",
     "output_type": "stream",
     "text": [
      "   BL record ID Type of resource              Content type Material type  \\\n",
      "0         41738        Monograph  Language material ; Text        Volume   \n",
      "1         41739        Monograph  Language material ; Text        Volume   \n",
      "2         59998        Monograph  Language material ; Text        Volume   \n",
      "3         60030        Monograph  Language material ; Text        Volume   \n",
      "4         72285        Monograph  Language material ; Text        Volume   \n",
      "\n",
      "                 Name Dates associated with name Type of name  \\\n",
      "0      Albizzi, Luigi                        NaN       person   \n",
      "1      Albizzi, Luigi                        NaN       person   \n",
      "2  Almedingen, E. M.                   1898-1971       person   \n",
      "3  Almedingen, E. M.                   1898-1971       person   \n",
      "4     Amoretti, Carlo                        NaN       person   \n",
      "\n",
      "                                All names  \\\n",
      "0                 Albizzi, Luigi [person]   \n",
      "1                 Albizzi, Luigi [person]   \n",
      "2  Almedingen, E. M. , 1898-1971 [person]   \n",
      "3  Almedingen, E. M. , 1898-1971 [person]   \n",
      "4                Amoretti, Carlo [person]   \n",
      "\n",
      "                                               Title Country of publication  \\\n",
      "0  La Testa del Battista, dipinto originale di Le...                    NaN   \n",
      "1  Leonardo da Vinci. The Head of John the Baptis...                    NaN   \n",
      "2                      Leonardo da Vinci. A portrait                England   \n",
      "3  The Young Leonardo da Vinci ... Illustrated by...                England   \n",
      "4  Memorie storiche su la vita, gli studj, e le o...                    NaN   \n",
      "\n",
      "  Place of publication                                          Publisher  \\\n",
      "0              Firenze                                                NaN   \n",
      "1             Florence                                                NaN   \n",
      "2               London                                        Bodley Head   \n",
      "3               London                                                 Bl   \n",
      "4               Milano  dalla Tipografia di Giusti, Ferrario, eC, Edit...   \n",
      "\n",
      "   Date  Page Count            BL shelfmark  Citations  \n",
      "0  1919          31               7859.h.26         41  \n",
      "1  1920          31  1752.c.1.  ; 7859.g.16          6  \n",
      "2  1969         159              X.429/4017         34  \n",
      "3  1963         143            010600.ee.14          7  \n",
      "4  1804         199               1402.f.14         39  \n"
     ]
    }
   ],
   "source": [
    "# Print first few lines\n",
    "\n",
    "print(df.head())"
   ]
  },
  {
   "cell_type": "code",
   "execution_count": 48,
   "metadata": {},
   "outputs": [
    {
     "name": "stdout",
     "output_type": "stream",
     "text": [
      "<class 'pandas.core.frame.DataFrame'>\n",
      "RangeIndex: 354 entries, 0 to 353\n",
      "Data columns (total 16 columns):\n",
      " #   Column                      Non-Null Count  Dtype \n",
      "---  ------                      --------------  ----- \n",
      " 0   BL record ID                354 non-null    int64 \n",
      " 1   Type of resource            354 non-null    object\n",
      " 2   Content type                354 non-null    object\n",
      " 3   Material type               354 non-null    object\n",
      " 4   Name                        218 non-null    object\n",
      " 5   Dates associated with name  45 non-null     object\n",
      " 6   Type of name                218 non-null    object\n",
      " 7   All names                   313 non-null    object\n",
      " 8   Title                       354 non-null    object\n",
      " 9   Country of publication      120 non-null    object\n",
      " 10  Place of publication        300 non-null    object\n",
      " 11  Publisher                   113 non-null    object\n",
      " 12  Date                        309 non-null    object\n",
      " 13  Page Count                  354 non-null    int64 \n",
      " 14  BL shelfmark                352 non-null    object\n",
      " 15  Citations                   354 non-null    int64 \n",
      "dtypes: int64(3), object(13)\n",
      "memory usage: 44.4+ KB\n",
      "None\n"
     ]
    }
   ],
   "source": [
    "# Print summary information\n",
    "\n",
    "print(df.info())"
   ]
  },
  {
   "cell_type": "code",
   "execution_count": 49,
   "metadata": {},
   "outputs": [
    {
     "name": "stdout",
     "output_type": "stream",
     "text": [
      "<class 'numpy.int64'>\n"
     ]
    }
   ],
   "source": [
    "# Print the type of the Data column which is currently an int rather than Date NB: NaN cells return float\n",
    "print(type(df['Page Count'][0]))"
   ]
  },
  {
   "cell_type": "code",
   "execution_count": 50,
   "metadata": {},
   "outputs": [
    {
     "name": "stdout",
     "output_type": "stream",
     "text": [
      "             Type of resource              Content type Material type  \\\n",
      "BL record ID                                                            \n",
      "41738               Monograph  Language material ; Text        Volume   \n",
      "41739               Monograph  Language material ; Text        Volume   \n",
      "59998               Monograph  Language material ; Text        Volume   \n",
      "60030               Monograph  Language material ; Text        Volume   \n",
      "72285               Monograph  Language material ; Text        Volume   \n",
      "...                       ...                       ...           ...   \n",
      "2135242             Monograph  Language material ; Text        Volume   \n",
      "2135243             Monograph  Language material ; Text        Volume   \n",
      "2135244             Monograph  Language material ; Text        Volume   \n",
      "2135245             Monograph  Language material ; Text        Volume   \n",
      "2135246             Monograph  Language material ; Text        Volume   \n",
      "\n",
      "                            Name Dates associated with name Type of name  \\\n",
      "BL record ID                                                               \n",
      "41738             Albizzi, Luigi                        NaN       person   \n",
      "41739             Albizzi, Luigi                        NaN       person   \n",
      "59998         Almedingen, E. M.                   1898-1971       person   \n",
      "60030         Almedingen, E. M.                   1898-1971       person   \n",
      "72285            Amoretti, Carlo                        NaN       person   \n",
      "...                          ...                        ...          ...   \n",
      "2135242                      NaN                        NaN          NaN   \n",
      "2135243                      NaN                        NaN          NaN   \n",
      "2135244                      NaN                        NaN          NaN   \n",
      "2135245                      NaN                        NaN          NaN   \n",
      "2135246                      NaN                        NaN          NaN   \n",
      "\n",
      "                                                      All names  \\\n",
      "BL record ID                                                      \n",
      "41738                                   Albizzi, Luigi [person]   \n",
      "41739                                   Albizzi, Luigi [person]   \n",
      "59998                    Almedingen, E. M. , 1898-1971 [person]   \n",
      "60030                    Almedingen, E. M. , 1898-1971 [person]   \n",
      "72285                                  Amoretti, Carlo [person]   \n",
      "...                                                         ...   \n",
      "2135242                                                     NaN   \n",
      "2135243       Jappel, Arnošt [person] ; Pečírka, Jaromír [pe...   \n",
      "2135244                Goldscheider, Ludwig, of Vienna [person]   \n",
      "2135245                               Pečírka, Jaromír [person]   \n",
      "2135246                                                     NaN   \n",
      "\n",
      "                                                          Title  \\\n",
      "BL record ID                                                      \n",
      "41738         La Testa del Battista, dipinto originale di Le...   \n",
      "41739         Leonardo da Vinci. The Head of John the Baptis...   \n",
      "59998                             Leonardo da Vinci. A portrait   \n",
      "60030         The Young Leonardo da Vinci ... Illustrated by...   \n",
      "72285         Memorie storiche su la vita, gli studj, e le o...   \n",
      "...                                                         ...   \n",
      "2135242                  Leonardo da Vinci. Florentine school.    \n",
      "2135243       The Drawings of Leonardo and Michelangelo. Int...   \n",
      "2135244       Leonardo da Vinci. Life and work, paintings an...   \n",
      "2135245       The drawings of Leonardo and Michelangelo. Int...   \n",
      "2135246                                       Leonardo da Vinci   \n",
      "\n",
      "             Country of publication Place of publication  \\\n",
      "BL record ID                                               \n",
      "41738                           NaN              Firenze   \n",
      "41739                           NaN             Florence   \n",
      "59998                       England               London   \n",
      "60030                       England               London   \n",
      "72285                           NaN               Milano   \n",
      "...                             ...                  ...   \n",
      "2135242                     England               London   \n",
      "2135243                     England      London ; Prague   \n",
      "2135244                     England               London   \n",
      "2135245                     England               London   \n",
      "2135246                     England               London   \n",
      "\n",
      "                                                      Publisher  Date  \\\n",
      "BL record ID                                                            \n",
      "41738                                                       NaN  1919   \n",
      "41739                                                       NaN  1920   \n",
      "59998                                               Bodley Head  1969   \n",
      "60030                                                        Bl  1963   \n",
      "72285         dalla Tipografia di Giusti, Ferrario, eC, Edit...  1804   \n",
      "...                                                         ...   ...   \n",
      "2135242                                          Medici Society  1962   \n",
      "2135243                                             Paul Hamlyn  1964   \n",
      "2135244                                           Phaidon Press  1964   \n",
      "2135245                                                  Hamlyn  1966   \n",
      "2135246                                            Leisure Arts  1966   \n",
      "\n",
      "              Page Count            BL shelfmark  Citations  \n",
      "BL record ID                                                 \n",
      "41738                 31               7859.h.26         41  \n",
      "41739                 31  1752.c.1.  ; 7859.g.16          6  \n",
      "59998                159              X.429/4017         34  \n",
      "60030                143            010600.ee.14          7  \n",
      "72285                199               1402.f.14         39  \n",
      "...                  ...                     ...        ...  \n",
      "2135242              546            7866.s.12/24          1  \n",
      "2135243               67               X.423/135         20  \n",
      "2135244              192                X.423/38         37  \n",
      "2135245               78               X.423/422         40  \n",
      "2135246               99             L.R.410.c.4         42  \n",
      "\n",
      "[354 rows x 15 columns]\n"
     ]
    }
   ],
   "source": [
    "# custom index column\n",
    "df = pandas.read_csv('./data/DaVinci.csv', index_col='BL record ID')\n",
    "print(df)"
   ]
  },
  {
   "cell_type": "markdown",
   "metadata": {},
   "source": [
    "## Exercises"
   ]
  },
  {
   "cell_type": "markdown",
   "metadata": {},
   "source": [
    "### 1. Unique values"
   ]
  },
  {
   "cell_type": "code",
   "execution_count": 51,
   "metadata": {},
   "outputs": [
    {
     "name": "stdout",
     "output_type": "stream",
     "text": [
      "[nan 'Bodley Head' 'Bl'\n",
      " \"dalla Tipografia di Giusti, Ferrario, eC, Editori de' Classici Italiani\"\n",
      " 'Stanley Paul' 'Peter Davies' 'T. Nelson' 'University of Kansas Press'\n",
      " 'Chatto & Windus' 'Hart-Davis' 'Bernard Grasset' 'Civitate Vaticana'\n",
      " 'F. A. Stokes ; T. C. & E. C. Jack' 'William Pickering' 'Collins'\n",
      " 'Shakspeare-Press & sold by G & W. Nicol ; W. Bulmer' 'University Press'\n",
      " 'Cambridge University Press' 'Penguin' 'Rowohlt'\n",
      " 'Seeley, Jackson & Halliday' 'Seeley' 'Talleres Espasa-Calpe'\n",
      " 'William Heinemann' 'Constable' 'Arthur L. Humphreys' 'John Murray'\n",
      " 'Centre régional de documentation pédagogique' 'George G. Harrap'\n",
      " 'George Bell' 'University of Chicago Press' 'sér. Paris'\n",
      " 'Hogarth Press ; Institute of Psycho-Analysis'\n",
      " \"C. Scribner's ; H. Grevel\" 'J. M. Ouseley' 'Hutchinson' 'W. H. Allen'\n",
      " 'Moffatt, Yard' 'Kegan Paul' 'Thames & Hudson' 'Whitcombe & Tombs'\n",
      " 'J. Booth ; Rivington' 'Duckworth' 'Frank Glenn Publishing'\n",
      " 'Weidenfeld & Nicolson' 'Chapman & Hall' 'University of California Press'\n",
      " 'Macdonald' 'Basel ; Holbein-Verlag ; Macmillan ; Nijmegen & Wageningen'\n",
      " 'Allen Lane' 'Wilhelm Fink' '8*. ff. 8. Roma' 'Danesi'\n",
      " 'La Libreria dello Stato' 'La Libreria dello stato'\n",
      " 'Routledge & Kegan Paul' 'Harvey & Blythe' 'Coward-McCann'\n",
      " 'Alderbrink Press'\n",
      " 'Zakład Narodowy im. Ossolińskich, Wydawnictwo Polskiej Akademii Nauk'\n",
      " 'Sampson Low' 'Oxford University Press' 'Phaidon' 'Phaidon Press'\n",
      " 'McGraw-Hill' 'Jonathan Cape' 'New American Library'\n",
      " 'C. G. A. Corvey Papiergroothandel' 'Gallimard' 'Giacomo Langlois'\n",
      " 'di Francesco Ricciardo ; spese di Niccola, e Vincenzo Rispoli'\n",
      " \"dalla Società Tipografica de' Classici Italiani\"\n",
      " 'Princeton University Press' 'Peter Owen' 'J. Senex ; W. Taylor'\n",
      " 'I. & J. Taylor' 'J. Taylor' 'J. B. Nichols' 'G. Bell' 'Iacques Langlois'\n",
      " 'Pierre-François Giffart' 'Deterville' 'spese di Francesco Cardinali'\n",
      " 'John Clarke' 'Frederick Bruckmann' 'Bell & Daldy'\n",
      " 'Charles Scribner ; George Newnes' 'A. Zwemmer' 'Studio ; W. E. Rudge'\n",
      " 'Oxford University Press ; Phaidon Press' 'Max Parrish'\n",
      " 'Corbeil ; Hyperion Press' 'Medici Society' 'A. Zwemmer ; Fernand Hazan'\n",
      " 'Oldbourne' 'Paul Hamlyn' 'Hamlyn' 'Leisure Arts']\n",
      "98\n"
     ]
    }
   ],
   "source": [
    "# a. Create a list of the unique values that are in one of the columns.\n",
    "\n",
    "unique_values = pandas.unique(df['Publisher'])\n",
    "print(unique_values)\n",
    "\n",
    "# b. How many unique values are there in this column?\n",
    "count = len(unique_values)\n",
    "print(count)"
   ]
  },
  {
   "cell_type": "markdown",
   "metadata": {},
   "source": [
    "### 2. Basic statistics\n"
   ]
  },
  {
   "cell_type": "code",
   "execution_count": 56,
   "metadata": {},
   "outputs": [
    {
     "name": "stdout",
     "output_type": "stream",
     "text": [
      "count    354.000000\n",
      "mean      22.790960\n",
      "std       13.134145\n",
      "min        0.000000\n",
      "25%       12.000000\n",
      "50%       22.000000\n",
      "75%       34.000000\n",
      "max       45.000000\n",
      "Name: Citations, dtype: float64\n"
     ]
    }
   ],
   "source": [
    "# 2a. See what happens when you run the ```.describe()``` command with a numerical and non-numerical column.\n",
    "# numerical column\n",
    "print(df['Citations'].describe())"
   ]
  },
  {
   "cell_type": "code",
   "execution_count": 53,
   "metadata": {},
   "outputs": [
    {
     "name": "stdout",
     "output_type": "stream",
     "text": [
      "count               113\n",
      "unique               97\n",
      "top       Phaidon Press\n",
      "freq                  5\n",
      "Name: Publisher, dtype: object\n"
     ]
    }
   ],
   "source": [
    "# non-numerical column (freq = most common value's frequency)\n",
    "print(df['Publisher'].describe())"
   ]
  },
  {
   "cell_type": "code",
   "execution_count": 54,
   "metadata": {},
   "outputs": [
    {
     "name": "stdout",
     "output_type": "stream",
     "text": [
      "5534\n"
     ]
    }
   ],
   "source": [
    "# 2b. How many pages does the longest book in the data have?\n",
    "print(df['Page Count'].max())"
   ]
  },
  {
   "cell_type": "markdown",
   "metadata": {},
   "source": [
    "### 3. Grouping and aggregating"
   ]
  },
  {
   "cell_type": "code",
   "execution_count": 57,
   "metadata": {},
   "outputs": [
    {
     "name": "stdout",
     "output_type": "stream",
     "text": [
      "                                                    Page Count  Citations\n",
      "Name                                                                     \n",
      "Accademia Toscana di Scienze e Lettere 'La Colo...  482.000000  10.000000\n",
      "Albizzi, Luigi                                       31.000000  23.500000\n",
      "Almedingen, E. M.                                   151.000000  20.500000\n",
      "Amoretti, Carlo                                     199.000000  39.000000\n",
      "Anderson, Arthur James                              310.000000  10.000000\n",
      "...                                                        ...        ...\n",
      "Leonardo, da Vinci                                  104.555556  25.666667\n",
      "Società Leonardo da Vinci                            59.500000  25.000000\n",
      "Southern Illinois University Carbondale              39.000000   5.000000\n",
      "Stevens Institute of Technology , John W. Lieb ...  103.000000  37.000000\n",
      "University of Chicago, Committee on Publication...   56.000000  12.000000\n",
      "\n",
      "[139 rows x 2 columns]\n"
     ]
    }
   ],
   "source": [
    "# a. What is the mean page count for books by Alibizzi?\n",
    "grouped_data = df.groupby('Name')\n",
    "print(grouped_data.mean())"
   ]
  },
  {
   "cell_type": "code",
   "execution_count": 59,
   "metadata": {},
   "outputs": [
    {
     "name": "stdout",
     "output_type": "stream",
     "text": [
      "                                                         Page Count  Citations\n",
      "Name                                               Date                       \n",
      "Accademia Toscana di Scienze e Lettere 'La Colo... 1953       482.0       10.0\n",
      "Albizzi, Luigi                                     1919        31.0       41.0\n",
      "                                                   1920        31.0        6.0\n",
      "Almedingen, E. M.                                  1963       143.0        7.0\n",
      "                                                   1969       159.0       34.0\n",
      "...                                                             ...        ...\n",
      "Società Leonardo da Vinci                          1942        86.5       20.0\n",
      "                                                   1943        48.0       26.0\n",
      "Southern Illinois University Carbondale            1953        39.0        5.0\n",
      "Stevens Institute of Technology , John W. Lieb ... 1936       103.0       37.0\n",
      "University of Chicago, Committee on Publication... 1944        56.0       12.0\n",
      "\n",
      "[196 rows x 2 columns]\n"
     ]
    }
   ],
   "source": [
    "# b. What is the mean of numerical columns for books, grouped by page count and date?\n",
    "\n",
    "grouped_data2 = df.groupby(['Name', 'Date'])\n",
    "print(grouped_data2.mean())"
   ]
  },
  {
   "cell_type": "markdown",
   "metadata": {},
   "source": [
    "### 4. Conditional selections"
   ]
  },
  {
   "cell_type": "code",
   "execution_count": 63,
   "metadata": {},
   "outputs": [
    {
     "name": "stdout",
     "output_type": "stream",
     "text": [
      "<class 'pandas.core.frame.DataFrame'>\n",
      "Int64Index: 73 entries, 59998 to 2135246\n",
      "Data columns (total 15 columns):\n",
      " #   Column                      Non-Null Count  Dtype \n",
      "---  ------                      --------------  ----- \n",
      " 0   Type of resource            73 non-null     object\n",
      " 1   Content type                73 non-null     object\n",
      " 2   Material type               73 non-null     object\n",
      " 3   Name                        40 non-null     object\n",
      " 4   Dates associated with name  17 non-null     object\n",
      " 5   Type of name                40 non-null     object\n",
      " 6   All names                   68 non-null     object\n",
      " 7   Title                       73 non-null     object\n",
      " 8   Country of publication      73 non-null     object\n",
      " 9   Place of publication        73 non-null     object\n",
      " 10  Publisher                   67 non-null     object\n",
      " 11  Date                        73 non-null     object\n",
      " 12  Page Count                  73 non-null     int64 \n",
      " 13  BL shelfmark                73 non-null     object\n",
      " 14  Citations                   73 non-null     int64 \n",
      "dtypes: int64(2), object(13)\n",
      "memory usage: 9.1+ KB\n",
      "None\n",
      "             Type of resource              Content type Material type  \\\n",
      "BL record ID                                                            \n",
      "59998               Monograph  Language material ; Text        Volume   \n",
      "60030               Monograph  Language material ; Text        Volume   \n",
      "78194               Monograph  Language material ; Text        Volume   \n",
      "\n",
      "                                Name Dates associated with name Type of name  \\\n",
      "BL record ID                                                                   \n",
      "59998             Almedingen, E. M.                   1898-1971       person   \n",
      "60030             Almedingen, E. M.                   1898-1971       person   \n",
      "78194         Anderson, Arthur James                        NaN       person   \n",
      "\n",
      "                                            All names  \\\n",
      "BL record ID                                            \n",
      "59998          Almedingen, E. M. , 1898-1971 [person]   \n",
      "60030          Almedingen, E. M. , 1898-1971 [person]   \n",
      "78194         Anderson, Arthur James, writer [person]   \n",
      "\n",
      "                                                          Title  \\\n",
      "BL record ID                                                      \n",
      "59998                             Leonardo da Vinci. A portrait   \n",
      "60030         The Young Leonardo da Vinci ... Illustrated by...   \n",
      "78194         The Admirable Painter: a study of Leonardo da ...   \n",
      "\n",
      "             Country of publication Place of publication     Publisher  Date  \\\n",
      "BL record ID                                                                   \n",
      "59998                       England               London   Bodley Head  1969   \n",
      "60030                       England               London            Bl  1963   \n",
      "78194                       England               London  Stanley Paul  1915   \n",
      "\n",
      "              Page Count  BL shelfmark  Citations  \n",
      "BL record ID                                       \n",
      "59998                159    X.429/4017         34  \n",
      "60030                143  010600.ee.14          7  \n",
      "78194                310   012613.k.14         10  \n"
     ]
    }
   ],
   "source": [
    "# a.View only entries that were published in England.\n",
    "# b. Save the results in a variable called `new_df` (new DataFrame) and view summary information to see how many entries \n",
    "# there are. \n",
    "new_df = df[df['Country of publication'] == 'England']\n",
    "print(new_df.info())\n",
    "\n",
    "# c. Out of the entries in your new DataFrame, now narrow the selection to those that have a page count that is greater\n",
    "# than or equal to 46 and print the first 3 entries to the screen. \n",
    "print((new_df[new_df['Page Count'] >= 46]).head(3))"
   ]
  },
  {
   "cell_type": "code",
   "execution_count": null,
   "metadata": {},
   "outputs": [],
   "source": []
  }
 ],
 "metadata": {
  "kernelspec": {
   "display_name": "Python 3",
   "language": "python",
   "name": "python3"
  },
  "language_info": {
   "codemirror_mode": {
    "name": "ipython",
    "version": 3
   },
   "file_extension": ".py",
   "mimetype": "text/x-python",
   "name": "python",
   "nbconvert_exporter": "python",
   "pygments_lexer": "ipython3",
   "version": "3.7.6"
  }
 },
 "nbformat": 4,
 "nbformat_minor": 4
}
