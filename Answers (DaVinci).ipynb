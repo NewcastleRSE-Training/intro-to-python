{
 "cells": [
  {
   "cell_type": "markdown",
   "metadata": {},
   "source": [
    "# Answers for DaVinci data"
   ]
  },
  {
   "cell_type": "markdown",
   "metadata": {},
   "source": [
    "## First steps with pandas\n",
    "Code templates are included in hidden solution code blocks in notebook but require correct filename and column names added."
   ]
  },
  {
   "cell_type": "code",
   "execution_count": 7,
   "metadata": {},
   "outputs": [
    {
     "name": "stdout",
     "output_type": "stream",
     "text": [
      "      BL record ID Type of resource              Content type Material type  \\\n",
      "0          41738.0        Monograph  Language material ; Text        Volume   \n",
      "1          41739.0        Monograph  Language material ; Text        Volume   \n",
      "2          59998.0        Monograph  Language material ; Text        Volume   \n",
      "3          60030.0        Monograph  Language material ; Text        Volume   \n",
      "4          72285.0        Monograph  Language material ; Text        Volume   \n",
      "...            ...              ...                       ...           ...   \n",
      "1946           NaN              NaN                       NaN           NaN   \n",
      "1947           NaN              NaN                       NaN           NaN   \n",
      "1948           NaN              NaN                       NaN           NaN   \n",
      "1949           NaN              NaN                       NaN           NaN   \n",
      "1950           NaN              NaN                       NaN           NaN   \n",
      "\n",
      "      BNB number  Archival Resource Key          ISBN                Name  \\\n",
      "0            NaN                    NaN           NaN      Albizzi, Luigi   \n",
      "1            NaN                    NaN           NaN      Albizzi, Luigi   \n",
      "2            NaN                    NaN  9.780000e+12  Almedingen, E. M.    \n",
      "3            NaN                    NaN           NaN  Almedingen, E. M.    \n",
      "4            NaN                    NaN           NaN     Amoretti, Carlo   \n",
      "...          ...                    ...           ...                 ...   \n",
      "1946         NaN                    NaN           NaN                 NaN   \n",
      "1947         NaN                    NaN           NaN                 NaN   \n",
      "1948         NaN                    NaN           NaN                 NaN   \n",
      "1949         NaN                    NaN           NaN                 NaN   \n",
      "1950         NaN                    NaN           NaN                 NaN   \n",
      "\n",
      "     Dates associated with name Type of name  ...  \\\n",
      "0                           NaN       person  ...   \n",
      "1                           NaN       person  ...   \n",
      "2                     1898-1971       person  ...   \n",
      "3                     1898-1971       person  ...   \n",
      "4                           NaN       person  ...   \n",
      "...                         ...          ...  ...   \n",
      "1946                        NaN          NaN  ...   \n",
      "1947                        NaN          NaN  ...   \n",
      "1948                        NaN          NaN  ...   \n",
      "1949                        NaN          NaN  ...   \n",
      "1950                        NaN          NaN  ...   \n",
      "\n",
      "     Date of creation/publication  \\\n",
      "0                            1919   \n",
      "1                            1920   \n",
      "2                            1969   \n",
      "3                            1963   \n",
      "4                            1804   \n",
      "...                           ...   \n",
      "1946                          NaN   \n",
      "1947                          NaN   \n",
      "1948                          NaN   \n",
      "1949                          NaN   \n",
      "1950                          NaN   \n",
      "\n",
      "                                                Edition Physical description  \\\n",
      "0                                                   NaN                   31   \n",
      "1                                                   NaN                   31   \n",
      "2                                                   NaN                  159   \n",
      "3                                                   NaN                  143   \n",
      "4     Another edition, Memorie storiche su la vita, ...                  199   \n",
      "...                                                 ...                  ...   \n",
      "1946                                                NaN                  NaN   \n",
      "1947                                                NaN                  NaN   \n",
      "1948                                                NaN                  NaN   \n",
      "1949                                                NaN                  NaN   \n",
      "1950                                                NaN                  NaN   \n",
      "\n",
      "     Dewey classification            BL shelfmark Topics Genre Languages  \\\n",
      "0                     NaN               7859.h.26    NaN   NaN       NaN   \n",
      "1                     NaN  1752.c.1.  ; 7859.g.16    NaN   NaN       NaN   \n",
      "2                     NaN              X.429/4017    NaN   NaN       NaN   \n",
      "3                     NaN            010600.ee.14    NaN   NaN   English   \n",
      "4                     NaN               1402.f.14    NaN   NaN       NaN   \n",
      "...                   ...                     ...    ...   ...       ...   \n",
      "1946                  NaN                     NaN    NaN   NaN       NaN   \n",
      "1947                  NaN                     NaN    NaN   NaN       NaN   \n",
      "1948                  NaN                     NaN    NaN   NaN       NaN   \n",
      "1949                  NaN                     NaN    NaN   NaN       NaN   \n",
      "1950                  NaN                     NaN    NaN   NaN       NaN   \n",
      "\n",
      "     Notes Provenance  \n",
      "0      NaN        NaN  \n",
      "1      NaN        NaN  \n",
      "2      NaN        NaN  \n",
      "3      NaN        NaN  \n",
      "4      NaN        NaN  \n",
      "...    ...        ...  \n",
      "1946   NaN        NaN  \n",
      "1947   NaN        NaN  \n",
      "1948   NaN        NaN  \n",
      "1949   NaN        NaN  \n",
      "1950   NaN        NaN  \n",
      "\n",
      "[1951 rows x 29 columns]\n"
     ]
    }
   ],
   "source": [
    "import pandas\n",
    "df = pandas.read_csv('./data/DaVinci.csv')\n",
    "print(df)"
   ]
  },
  {
   "cell_type": "code",
   "execution_count": 4,
   "metadata": {},
   "outputs": [
    {
     "name": "stdout",
     "output_type": "stream",
     "text": [
      "   BL record ID Type of resource              Content type Material type  \\\n",
      "0       41738.0        Monograph  Language material ; Text        Volume   \n",
      "1       41739.0        Monograph  Language material ; Text        Volume   \n",
      "2       59998.0        Monograph  Language material ; Text        Volume   \n",
      "3       60030.0        Monograph  Language material ; Text        Volume   \n",
      "4       72285.0        Monograph  Language material ; Text        Volume   \n",
      "\n",
      "   BNB number  Archival Resource Key          ISBN                Name  \\\n",
      "0         NaN                    NaN           NaN      Albizzi, Luigi   \n",
      "1         NaN                    NaN           NaN      Albizzi, Luigi   \n",
      "2         NaN                    NaN  9.780000e+12  Almedingen, E. M.    \n",
      "3         NaN                    NaN           NaN  Almedingen, E. M.    \n",
      "4         NaN                    NaN           NaN     Amoretti, Carlo   \n",
      "\n",
      "  Dates associated with name Type of name  ... Date of creation/publication  \\\n",
      "0                        NaN       person  ...                         1919   \n",
      "1                        NaN       person  ...                         1920   \n",
      "2                  1898-1971       person  ...                         1969   \n",
      "3                  1898-1971       person  ...                         1963   \n",
      "4                        NaN       person  ...                         1804   \n",
      "\n",
      "                                             Edition Physical description  \\\n",
      "0                                                NaN                   31   \n",
      "1                                                NaN                   31   \n",
      "2                                                NaN                  159   \n",
      "3                                                NaN                  143   \n",
      "4  Another edition, Memorie storiche su la vita, ...                  199   \n",
      "\n",
      "  Dewey classification            BL shelfmark Topics Genre Languages Notes  \\\n",
      "0                  NaN               7859.h.26    NaN   NaN       NaN   NaN   \n",
      "1                  NaN  1752.c.1.  ; 7859.g.16    NaN   NaN       NaN   NaN   \n",
      "2                  NaN              X.429/4017    NaN   NaN       NaN   NaN   \n",
      "3                  NaN            010600.ee.14    NaN   NaN   English   NaN   \n",
      "4                  NaN               1402.f.14    NaN   NaN       NaN   NaN   \n",
      "\n",
      "  Provenance  \n",
      "0        NaN  \n",
      "1        NaN  \n",
      "2        NaN  \n",
      "3        NaN  \n",
      "4        NaN  \n",
      "\n",
      "[5 rows x 29 columns]\n"
     ]
    }
   ],
   "source": [
    "# Print first few lines\n",
    "\n",
    "print(df.head())"
   ]
  },
  {
   "cell_type": "code",
   "execution_count": 5,
   "metadata": {},
   "outputs": [
    {
     "name": "stdout",
     "output_type": "stream",
     "text": [
      "<class 'pandas.core.frame.DataFrame'>\n",
      "RangeIndex: 1951 entries, 0 to 1950\n",
      "Data columns (total 29 columns):\n",
      " #   Column                        Non-Null Count  Dtype  \n",
      "---  ------                        --------------  -----  \n",
      " 0   BL record ID                  354 non-null    float64\n",
      " 1   Type of resource              354 non-null    object \n",
      " 2   Content type                  354 non-null    object \n",
      " 3   Material type                 354 non-null    object \n",
      " 4   BNB number                    0 non-null      float64\n",
      " 5   Archival Resource Key         0 non-null      float64\n",
      " 6   ISBN                          7 non-null      float64\n",
      " 7   Name                          218 non-null    object \n",
      " 8   Dates associated with name    45 non-null     object \n",
      " 9   Type of name                  218 non-null    object \n",
      " 10  Role                          8 non-null      object \n",
      " 11  All names                     313 non-null    object \n",
      " 12  Title                         354 non-null    object \n",
      " 13  Variant titles                147 non-null    object \n",
      " 14  Series title                  76 non-null     object \n",
      " 15  Number within series          46 non-null     object \n",
      " 16  Country of publication        120 non-null    object \n",
      " 17  Place of publication          300 non-null    object \n",
      " 18  Publisher                     113 non-null    object \n",
      " 19  Date of creation/publication  309 non-null    object \n",
      " 20  Edition                       17 non-null     object \n",
      " 21  Physical description          285 non-null    object \n",
      " 22  Dewey classification          0 non-null      float64\n",
      " 23  BL shelfmark                  352 non-null    object \n",
      " 24  Topics                        16 non-null     object \n",
      " 25  Genre                         2 non-null      object \n",
      " 26  Languages                     80 non-null     object \n",
      " 27  Notes                         56 non-null     object \n",
      " 28  Provenance                    0 non-null      float64\n",
      "dtypes: float64(6), object(23)\n",
      "memory usage: 442.1+ KB\n",
      "None\n"
     ]
    }
   ],
   "source": [
    "# Print summary information\n",
    "\n",
    "print(df.info())"
   ]
  },
  {
   "cell_type": "code",
   "execution_count": 6,
   "metadata": {},
   "outputs": [
    {
     "ename": "KeyError",
     "evalue": "'Date'",
     "output_type": "error",
     "traceback": [
      "\u001b[1;31m---------------------------------------------------------------------------\u001b[0m",
      "\u001b[1;31mKeyError\u001b[0m                                  Traceback (most recent call last)",
      "\u001b[1;32m~\\Anaconda3\\lib\\site-packages\\pandas\\core\\indexes\\base.py\u001b[0m in \u001b[0;36mget_loc\u001b[1;34m(self, key, method, tolerance)\u001b[0m\n\u001b[0;32m   2645\u001b[0m             \u001b[1;32mtry\u001b[0m\u001b[1;33m:\u001b[0m\u001b[1;33m\u001b[0m\u001b[1;33m\u001b[0m\u001b[0m\n\u001b[1;32m-> 2646\u001b[1;33m                 \u001b[1;32mreturn\u001b[0m \u001b[0mself\u001b[0m\u001b[1;33m.\u001b[0m\u001b[0m_engine\u001b[0m\u001b[1;33m.\u001b[0m\u001b[0mget_loc\u001b[0m\u001b[1;33m(\u001b[0m\u001b[0mkey\u001b[0m\u001b[1;33m)\u001b[0m\u001b[1;33m\u001b[0m\u001b[1;33m\u001b[0m\u001b[0m\n\u001b[0m\u001b[0;32m   2647\u001b[0m             \u001b[1;32mexcept\u001b[0m \u001b[0mKeyError\u001b[0m\u001b[1;33m:\u001b[0m\u001b[1;33m\u001b[0m\u001b[1;33m\u001b[0m\u001b[0m\n",
      "\u001b[1;32mpandas\\_libs\\index.pyx\u001b[0m in \u001b[0;36mpandas._libs.index.IndexEngine.get_loc\u001b[1;34m()\u001b[0m\n",
      "\u001b[1;32mpandas\\_libs\\index.pyx\u001b[0m in \u001b[0;36mpandas._libs.index.IndexEngine.get_loc\u001b[1;34m()\u001b[0m\n",
      "\u001b[1;32mpandas\\_libs\\hashtable_class_helper.pxi\u001b[0m in \u001b[0;36mpandas._libs.hashtable.PyObjectHashTable.get_item\u001b[1;34m()\u001b[0m\n",
      "\u001b[1;32mpandas\\_libs\\hashtable_class_helper.pxi\u001b[0m in \u001b[0;36mpandas._libs.hashtable.PyObjectHashTable.get_item\u001b[1;34m()\u001b[0m\n",
      "\u001b[1;31mKeyError\u001b[0m: 'Date'",
      "\nDuring handling of the above exception, another exception occurred:\n",
      "\u001b[1;31mKeyError\u001b[0m                                  Traceback (most recent call last)",
      "\u001b[1;32m<ipython-input-6-46fca57f83cd>\u001b[0m in \u001b[0;36m<module>\u001b[1;34m\u001b[0m\n\u001b[0;32m      1\u001b[0m \u001b[1;31m# Print the type of the Data column which is currently an int rather than Date\u001b[0m\u001b[1;33m\u001b[0m\u001b[1;33m\u001b[0m\u001b[1;33m\u001b[0m\u001b[0m\n\u001b[1;32m----> 2\u001b[1;33m \u001b[0mprint\u001b[0m\u001b[1;33m(\u001b[0m\u001b[0mtype\u001b[0m\u001b[1;33m(\u001b[0m\u001b[0mdf\u001b[0m\u001b[1;33m[\u001b[0m\u001b[1;34m'Date'\u001b[0m\u001b[1;33m]\u001b[0m\u001b[1;33m[\u001b[0m\u001b[1;36m0\u001b[0m\u001b[1;33m]\u001b[0m\u001b[1;33m)\u001b[0m\u001b[1;33m)\u001b[0m\u001b[1;33m\u001b[0m\u001b[1;33m\u001b[0m\u001b[0m\n\u001b[0m",
      "\u001b[1;32m~\\Anaconda3\\lib\\site-packages\\pandas\\core\\frame.py\u001b[0m in \u001b[0;36m__getitem__\u001b[1;34m(self, key)\u001b[0m\n\u001b[0;32m   2798\u001b[0m             \u001b[1;32mif\u001b[0m \u001b[0mself\u001b[0m\u001b[1;33m.\u001b[0m\u001b[0mcolumns\u001b[0m\u001b[1;33m.\u001b[0m\u001b[0mnlevels\u001b[0m \u001b[1;33m>\u001b[0m \u001b[1;36m1\u001b[0m\u001b[1;33m:\u001b[0m\u001b[1;33m\u001b[0m\u001b[1;33m\u001b[0m\u001b[0m\n\u001b[0;32m   2799\u001b[0m                 \u001b[1;32mreturn\u001b[0m \u001b[0mself\u001b[0m\u001b[1;33m.\u001b[0m\u001b[0m_getitem_multilevel\u001b[0m\u001b[1;33m(\u001b[0m\u001b[0mkey\u001b[0m\u001b[1;33m)\u001b[0m\u001b[1;33m\u001b[0m\u001b[1;33m\u001b[0m\u001b[0m\n\u001b[1;32m-> 2800\u001b[1;33m             \u001b[0mindexer\u001b[0m \u001b[1;33m=\u001b[0m \u001b[0mself\u001b[0m\u001b[1;33m.\u001b[0m\u001b[0mcolumns\u001b[0m\u001b[1;33m.\u001b[0m\u001b[0mget_loc\u001b[0m\u001b[1;33m(\u001b[0m\u001b[0mkey\u001b[0m\u001b[1;33m)\u001b[0m\u001b[1;33m\u001b[0m\u001b[1;33m\u001b[0m\u001b[0m\n\u001b[0m\u001b[0;32m   2801\u001b[0m             \u001b[1;32mif\u001b[0m \u001b[0mis_integer\u001b[0m\u001b[1;33m(\u001b[0m\u001b[0mindexer\u001b[0m\u001b[1;33m)\u001b[0m\u001b[1;33m:\u001b[0m\u001b[1;33m\u001b[0m\u001b[1;33m\u001b[0m\u001b[0m\n\u001b[0;32m   2802\u001b[0m                 \u001b[0mindexer\u001b[0m \u001b[1;33m=\u001b[0m \u001b[1;33m[\u001b[0m\u001b[0mindexer\u001b[0m\u001b[1;33m]\u001b[0m\u001b[1;33m\u001b[0m\u001b[1;33m\u001b[0m\u001b[0m\n",
      "\u001b[1;32m~\\Anaconda3\\lib\\site-packages\\pandas\\core\\indexes\\base.py\u001b[0m in \u001b[0;36mget_loc\u001b[1;34m(self, key, method, tolerance)\u001b[0m\n\u001b[0;32m   2646\u001b[0m                 \u001b[1;32mreturn\u001b[0m \u001b[0mself\u001b[0m\u001b[1;33m.\u001b[0m\u001b[0m_engine\u001b[0m\u001b[1;33m.\u001b[0m\u001b[0mget_loc\u001b[0m\u001b[1;33m(\u001b[0m\u001b[0mkey\u001b[0m\u001b[1;33m)\u001b[0m\u001b[1;33m\u001b[0m\u001b[1;33m\u001b[0m\u001b[0m\n\u001b[0;32m   2647\u001b[0m             \u001b[1;32mexcept\u001b[0m \u001b[0mKeyError\u001b[0m\u001b[1;33m:\u001b[0m\u001b[1;33m\u001b[0m\u001b[1;33m\u001b[0m\u001b[0m\n\u001b[1;32m-> 2648\u001b[1;33m                 \u001b[1;32mreturn\u001b[0m \u001b[0mself\u001b[0m\u001b[1;33m.\u001b[0m\u001b[0m_engine\u001b[0m\u001b[1;33m.\u001b[0m\u001b[0mget_loc\u001b[0m\u001b[1;33m(\u001b[0m\u001b[0mself\u001b[0m\u001b[1;33m.\u001b[0m\u001b[0m_maybe_cast_indexer\u001b[0m\u001b[1;33m(\u001b[0m\u001b[0mkey\u001b[0m\u001b[1;33m)\u001b[0m\u001b[1;33m)\u001b[0m\u001b[1;33m\u001b[0m\u001b[1;33m\u001b[0m\u001b[0m\n\u001b[0m\u001b[0;32m   2649\u001b[0m         \u001b[0mindexer\u001b[0m \u001b[1;33m=\u001b[0m \u001b[0mself\u001b[0m\u001b[1;33m.\u001b[0m\u001b[0mget_indexer\u001b[0m\u001b[1;33m(\u001b[0m\u001b[1;33m[\u001b[0m\u001b[0mkey\u001b[0m\u001b[1;33m]\u001b[0m\u001b[1;33m,\u001b[0m \u001b[0mmethod\u001b[0m\u001b[1;33m=\u001b[0m\u001b[0mmethod\u001b[0m\u001b[1;33m,\u001b[0m \u001b[0mtolerance\u001b[0m\u001b[1;33m=\u001b[0m\u001b[0mtolerance\u001b[0m\u001b[1;33m)\u001b[0m\u001b[1;33m\u001b[0m\u001b[1;33m\u001b[0m\u001b[0m\n\u001b[0;32m   2650\u001b[0m         \u001b[1;32mif\u001b[0m \u001b[0mindexer\u001b[0m\u001b[1;33m.\u001b[0m\u001b[0mndim\u001b[0m \u001b[1;33m>\u001b[0m \u001b[1;36m1\u001b[0m \u001b[1;32mor\u001b[0m \u001b[0mindexer\u001b[0m\u001b[1;33m.\u001b[0m\u001b[0msize\u001b[0m \u001b[1;33m>\u001b[0m \u001b[1;36m1\u001b[0m\u001b[1;33m:\u001b[0m\u001b[1;33m\u001b[0m\u001b[1;33m\u001b[0m\u001b[0m\n",
      "\u001b[1;32mpandas\\_libs\\index.pyx\u001b[0m in \u001b[0;36mpandas._libs.index.IndexEngine.get_loc\u001b[1;34m()\u001b[0m\n",
      "\u001b[1;32mpandas\\_libs\\index.pyx\u001b[0m in \u001b[0;36mpandas._libs.index.IndexEngine.get_loc\u001b[1;34m()\u001b[0m\n",
      "\u001b[1;32mpandas\\_libs\\hashtable_class_helper.pxi\u001b[0m in \u001b[0;36mpandas._libs.hashtable.PyObjectHashTable.get_item\u001b[1;34m()\u001b[0m\n",
      "\u001b[1;32mpandas\\_libs\\hashtable_class_helper.pxi\u001b[0m in \u001b[0;36mpandas._libs.hashtable.PyObjectHashTable.get_item\u001b[1;34m()\u001b[0m\n",
      "\u001b[1;31mKeyError\u001b[0m: 'Date'"
     ]
    }
   ],
   "source": [
    "# Print the type of the Data column which is currently an int rather than Date\n",
    "print(type(df['Date'][0]))"
   ]
  },
  {
   "cell_type": "code",
   "execution_count": null,
   "metadata": {},
   "outputs": [],
   "source": [
    "# Correct Data column when reading CSV\n",
    "df = pandas.read_csv('./data/early_english_books.csv', parse_dates=['Date'])\n",
    "print(df)"
   ]
  },
  {
   "cell_type": "code",
   "execution_count": null,
   "metadata": {},
   "outputs": [],
   "source": [
    "# custom index column\n",
    "df = pandas.read_csv('./data/early_english_books.csv', parse_dates=['Date'], index_col='EEBO')\n",
    "print(df)"
   ]
  },
  {
   "cell_type": "markdown",
   "metadata": {},
   "source": [
    "## Exercises"
   ]
  },
  {
   "cell_type": "markdown",
   "metadata": {},
   "source": [
    "### 1. Unique values"
   ]
  },
  {
   "cell_type": "code",
   "execution_count": null,
   "metadata": {},
   "outputs": [],
   "source": [
    "# a. Create a list of the unique values that are in one of the columns.\n",
    "\n",
    "unique_values = pandas.unique(df['Place'])\n",
    "print(unique_values)\n",
    "\n",
    "# b. How many unique values are there in this column?\n",
    "count = len(unique_values)\n",
    "print(count)"
   ]
  },
  {
   "cell_type": "markdown",
   "metadata": {},
   "source": [
    "### 2. Basic statistics\n"
   ]
  },
  {
   "cell_type": "code",
   "execution_count": null,
   "metadata": {},
   "outputs": [],
   "source": [
    "# 2a. See what happens when you run the ```.describe()``` command with a numerical and non-numerical column.\n",
    "# numerical column\n",
    "print(df['Page Count'].describe())"
   ]
  },
  {
   "cell_type": "code",
   "execution_count": null,
   "metadata": {},
   "outputs": [],
   "source": [
    "# non-numerical column (freq = most common value's frequency)\n",
    "print(df['Author'].describe())"
   ]
  },
  {
   "cell_type": "code",
   "execution_count": null,
   "metadata": {},
   "outputs": [],
   "source": [
    "# 2b. How many pages does the longest book in the data have?\n",
    "print(df['Page Count'].max())"
   ]
  },
  {
   "cell_type": "markdown",
   "metadata": {},
   "source": [
    "### 3. Grouping and aggregating"
   ]
  },
  {
   "cell_type": "code",
   "execution_count": null,
   "metadata": {},
   "outputs": [],
   "source": [
    "# a. What is the mean page count for books published in Amsterdam?\n",
    "grouped_data = df.groupby('Place')\n",
    "print(grouped_data.mean())"
   ]
  },
  {
   "cell_type": "code",
   "execution_count": null,
   "metadata": {},
   "outputs": [],
   "source": [
    "# b. What is the mean page count for books grouped by publishing location and date?\n",
    "\n",
    "grouped_data2 = df.groupby(['Place', 'Date'])\n",
    "print(grouped_data2.mean())\n",
    "\n"
   ]
  },
  {
   "cell_type": "markdown",
   "metadata": {},
   "source": [
    "### 4. Conditional selections\n",
    "a.View only entries that were published in London. If you need to remind yourself of the data, you can print the first few lines to the screen again.\n",
    "b. Save the results in a variable called `new_df` (new DataFrame) and view summary information to see how many entries there are for London.\n",
    "c. Out of the entries in your new DataFrame, now narrow the selection to those that have a page count equal to or over 46 and print the first 3 entries to the screen using the method ```.head(3)```. "
   ]
  },
  {
   "cell_type": "code",
   "execution_count": null,
   "metadata": {},
   "outputs": [],
   "source": [
    "# a.View only entries that were published in London.\n",
    "# b. Save the results in a variable called `new_df` (new DataFrame) and view summary information to see how many entries \n",
    "# there are for London. \n",
    "new_df = df[df['Place'] == 'London']\n",
    "print(new_df.info())\n",
    "\n",
    "# c. Out of the entries in your new DataFrame, now narrow the selection to those that have a page count that is greater\n",
    "# than or equal to 46 and print the first 3 entries to the screen. \n",
    "print((new_df[new_df['Page Count'] >= 46]).head(3))"
   ]
  },
  {
   "cell_type": "code",
   "execution_count": null,
   "metadata": {},
   "outputs": [],
   "source": []
  }
 ],
 "metadata": {
  "kernelspec": {
   "display_name": "Python 3",
   "language": "python",
   "name": "python3"
  },
  "language_info": {
   "codemirror_mode": {
    "name": "ipython",
    "version": 3
   },
   "file_extension": ".py",
   "mimetype": "text/x-python",
   "name": "python",
   "nbconvert_exporter": "python",
   "pygments_lexer": "ipython3",
   "version": "3.7.6"
  }
 },
 "nbformat": 4,
 "nbformat_minor": 4
}
