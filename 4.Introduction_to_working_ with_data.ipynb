{
 "cells": [
  {
   "cell_type": "markdown",
   "metadata": {
    "slideshow": {
     "slide_type": "slide"
    }
   },
   "source": [
    "# Introduction to working with data\n",
    "\n",
    "* CSV files\n",
    "* Using a Python package\n",
    "* Reading data from a file\n",
    "* Manipulating data\n",
    "* Writing to CSV\n",
    "\n",
    "Prep:  \n",
    "Run all cells - Cell > Run All  \n",
    "Hide output -  Cell > All Output > Clear"
   ]
  },
  {
   "cell_type": "markdown",
   "metadata": {
    "slideshow": {
     "slide_type": "slide"
    },
    "solution": "hidden"
   },
   "source": [
    "## CSV\n",
    "\n",
    "* Comma-seperated values represents tabular data\n",
    "\n",
    "* Export spreadsheets and databases, and represent data available from an API, e.g. Environment Agency\n",
    "\n",
    "* First line contains column names\n",
    "\n",
    "`column 1 name,column 2 name, column 3 name\n",
    "first row data 1,first row data 2,first row data 3\n",
    "second row data 1,second row data 2,second row data 3`"
   ]
  },
  {
   "cell_type": "markdown",
   "metadata": {
    "slideshow": {
     "slide_type": "slide"
    }
   },
   "source": [
    "## Packages\n",
    "\n",
    "Library of Python files\n",
    "\n",
    "No need to reinvent the wheel! You can use packages other people have developed to do common tasks by 'importing' them.\n",
    "\n",
    "Today we'll use 'pandas': \n",
    "  * Format and clean data\n",
    "  * Calculate statistics\n",
    "  * Visualise data when used with other libraries (not covering today)\n",
    "  * Write data back to a CSV  \n",
    "  \n",
    "Find out more: https://pandas.pydata.org/pandas-docs/version/0.16.1/  "
   ]
  },
  {
   "cell_type": "markdown",
   "metadata": {
    "slideshow": {
     "slide_type": "slide"
    }
   },
   "source": [
    "## DataFrame\n",
    "\n",
    "* 2D tabular data structure used by pandas  \n",
    "* Labeled axes  \n",
    "* Access data using column and row indexes   \n",
    "\n",
    "|   | a | b | c |\n",
    "|---|---|---|---|\n",
    "| 0 | `['a'][0]`  |      |   |\n",
    "| 1 |  | `['b'][1]`|     |  |  \n",
    "| 2 |   |     |  `['c'][2]`  |  \n"
   ]
  },
  {
   "cell_type": "markdown",
   "metadata": {
    "slideshow": {
     "slide_type": "slide"
    }
   },
   "source": [
    "Top surnames in 2019\n",
    "\n",
    "What does value does `['Surname'],[8]` point at?\n",
    "```\n",
    "    Position    Surname  Number\n",
    "0          1      SMITH    1854\n",
    "1          2      BROWN    1307\n",
    "2          3     WILSON    1223\n",
    "3          4    STEWART    1073\n",
    "4          5   CAMPBELL    1068\n",
    "5          6    THOMSON    1062\n",
    "6          7  ROBERTSON    1037\n",
    "7          8   ANDERSON     943\n",
    "8          9     TAYLOR     769\n",
    "9         10     MURRAY     756\n",
    "10        11  MACDONALD     730\n",
    "11        12      SCOTT     726\n",
    "12        13      CLARK     715\n",
    "13        14       REID     686\n",
    "14        15     WATSON     586\n",
    "15        16       ROSS     567\n",
    "16        17      YOUNG     565\n",
    "17        18     WALKER     562\n",
    "18        19   PATERSON     561\n",
    "19        20   MORRISON     560\n",
    "```"
   ]
  },
  {
   "cell_type": "markdown",
   "metadata": {
    "slideshow": {
     "slide_type": "slide"
    }
   },
   "source": [
    "## First steps with pandas\n",
    "\n",
    "We'll work through these instructions together and then you'll work through some exercises individually.\n",
    "\n",
    "First we'll import the library and read a CSV file:   \n",
    "\n",
    "`import pandas\n",
    "df = pandas.read_csv('./data/filename.csv')\n",
    "`\n",
    "\n",
    "\n",
    "![readCSV](./images/readCSVLine.PNG)\n"
   ]
  },
  {
   "cell_type": "code",
   "execution_count": 1,
   "metadata": {
    "slideshow": {
     "slide_type": "-"
    }
   },
   "outputs": [],
   "source": [
    "# Import pandas and read the CSV file. \n",
    "\n",
    "\n",
    "# Print `df` to screen to check.\n",
    "\n"
   ]
  },
  {
   "cell_type": "code",
   "execution_count": 2,
   "metadata": {
    "slideshow": {
     "slide_type": "slide"
    }
   },
   "outputs": [
    {
     "ename": "NameError",
     "evalue": "name 'df' is not defined",
     "output_type": "error",
     "traceback": [
      "\u001b[1;31m---------------------------------------------------------------------------\u001b[0m",
      "\u001b[1;31mNameError\u001b[0m                                 Traceback (most recent call last)",
      "\u001b[1;32m<ipython-input-2-873aa293d964>\u001b[0m in \u001b[0;36m<module>\u001b[1;34m\u001b[0m\n\u001b[1;32m----> 1\u001b[1;33m \u001b[0mprint\u001b[0m\u001b[1;33m(\u001b[0m\u001b[0mdf\u001b[0m\u001b[1;33m.\u001b[0m\u001b[0mhead\u001b[0m\u001b[1;33m(\u001b[0m\u001b[1;33m)\u001b[0m\u001b[1;33m)\u001b[0m\u001b[1;33m\u001b[0m\u001b[1;33m\u001b[0m\u001b[0m\n\u001b[0m",
      "\u001b[1;31mNameError\u001b[0m: name 'df' is not defined"
     ]
    }
   ],
   "source": [
    "print(df.head())"
   ]
  },
  {
   "cell_type": "code",
   "execution_count": null,
   "metadata": {
    "slideshow": {
     "slide_type": "slide"
    }
   },
   "outputs": [],
   "source": [
    "print(df.info())"
   ]
  },
  {
   "cell_type": "markdown",
   "metadata": {
    "slideshow": {
     "slide_type": "slide"
    }
   },
   "source": [
    "Note: NaN = Not a number (usually missing data, we'll look at this in a future course). You can read more here: https://bit.ly/2RnApT9"
   ]
  },
  {
   "cell_type": "markdown",
   "metadata": {
    "slideshow": {
     "slide_type": "fragment"
    }
   },
   "source": [
    "Let's explore the data. We can test whether pandas has correctly recognised the column headings by asking for a list of them. You can use this command during the activities if you want to remind yourself of the column names (note, they are case sensitive)."
   ]
  },
  {
   "cell_type": "code",
   "execution_count": null,
   "metadata": {
    "slideshow": {
     "slide_type": "-"
    }
   },
   "outputs": [],
   "source": [
    "print(df.columns)"
   ]
  },
  {
   "cell_type": "markdown",
   "metadata": {
    "slideshow": {
     "slide_type": "slide"
    }
   },
   "source": [
    "Check what data types have been assigned to a few of the columns `print(type(df['column_name'][0]))`\n",
    "\n",
    "![check data type](./images/printColumnType.PNG)"
   ]
  },
  {
   "cell_type": "code",
   "execution_count": null,
   "metadata": {
    "slideshow": {
     "slide_type": "fragment"
    }
   },
   "outputs": [],
   "source": [
    "# Pick a cell and check what data type it is"
   ]
  },
  {
   "cell_type": "markdown",
   "metadata": {
    "slideshow": {
     "slide_type": "slide"
    }
   },
   "source": [
    "### Choosing an index  \n",
    "\n",
    "pandas has used a zero-based index as default, but we want to use a column from the data so we're going to read the CSV file again, this time specifying the index column.\n",
    "\n",
    "`df = pandas.read_csv('./data/filename.csv', index_col='column_name')`"
   ]
  },
  {
   "cell_type": "code",
   "execution_count": null,
   "metadata": {
    "slideshow": {
     "slide_type": "-"
    }
   },
   "outputs": [],
   "source": [
    "# Type your code using a custom index column here"
   ]
  },
  {
   "cell_type": "markdown",
   "metadata": {
    "slideshow": {
     "slide_type": "slide"
    }
   },
   "source": [
    "## Exercises\n",
    "\n",
    "Work through the rest of the workbook at your own pace. For each section read the information here in the notebook and then answer the corresponding questions outlined on your question sheet, typing the code in your notebook and running it to test it is correct. You can ask for help at any time."
   ]
  },
  {
   "cell_type": "markdown",
   "metadata": {
    "slideshow": {
     "slide_type": "slide"
    }
   },
   "source": [
    "### 4.1 Unique values\n",
    "\n",
    "`pandas.unique` tells as all the unique values in a column, e.g. for a column called 'Names'  \n",
    "`unique_names = pandas.unique(df['Names'])`"
   ]
  },
  {
   "cell_type": "code",
   "execution_count": null,
   "metadata": {
    "slideshow": {
     "slide_type": "-"
    }
   },
   "outputs": [],
   "source": [
    "# Code for questions 4.1a and 4.1b"
   ]
  },
  {
   "cell_type": "markdown",
   "metadata": {
    "slideshow": {
     "slide_type": "slide"
    }
   },
   "source": [
    "### 4.2 Basic statistics\n",
    "\n",
    "We can calculate basic statistics for a column using `df['column_name'].describe()'`\n",
    "\n",
    "See what happens when you run this command with a numerical and non-numerical column.\n",
    "\n",
    "We can run specific queries too:     \n",
    "`df['column_name'].min()\n",
    "df['column_name'].max()\n",
    "df['column_name'].mean()\n",
    "df['column_name'].std()\n",
    "df['column_name'].count()`\n",
    "\n",
    "Find out more here: https://pandas.pydata.org/pandas-docs/stable/reference/api/pandas.DataFrame.describe.html"
   ]
  },
  {
   "cell_type": "code",
   "execution_count": null,
   "metadata": {
    "slideshow": {
     "slide_type": "-"
    }
   },
   "outputs": [],
   "source": [
    "# Code for question 4.2a"
   ]
  },
  {
   "cell_type": "code",
   "execution_count": null,
   "metadata": {
    "slideshow": {
     "slide_type": "-"
    }
   },
   "outputs": [],
   "source": [
    "# Code for question 4.2b"
   ]
  },
  {
   "cell_type": "markdown",
   "metadata": {
    "slideshow": {
     "slide_type": "slide"
    }
   },
   "source": [
    "### 4.3 Grouping and aggregating\n",
    "\n",
    "We can calculate summary statistics for a group of your choice using the `groupby()` method.   \n",
    "\n",
    "`grouped_data = df.groupby('column_name')`\n",
    "\n",
    "summary statistics for all numeric columns by specified group  \n",
    "`grouped_data.describe()`\n",
    "\n",
    "mean for each numeric column by specified group  \n",
    "`grouped_data.mean()`\n",
    "\n",
    "For example, you might have some exam results in a CSV like this:    \n",
    "`Name,Gender,Result, Group\n",
    "Fred,Male,45, B\n",
    "George,Male,56, A\n",
    "Harry,Male,67, A\n",
    "Iain,Male,78, B\n",
    "Joanne,Female,89, A\n",
    "Kira,Female,90, B\n",
    "Lucy,Female,89, A`\n",
    "\n",
    "You could view summary statistics for the exam results (the only numeric column) grouped by gender using this code:   \n",
    "`grouped_by_gender = df.groupby('Gender')\n",
    "print(grouped_by_gender.mean())`\n",
    "\n",
    "And see this (notice the grouping column is no longer the DataFrame's index, instead it is the Gender column):    \n",
    "`       Result                                                      \n",
    "        count       mean        std   min    25%   50%    75%   max\n",
    "Gender                                                             \n",
    "Female    3.0  89.333333   0.577350  89.0  89.00  89.0  89.50  90.0\n",
    "Male      4.0  61.500000  14.200939  45.0  53.25  61.5  69.75  78.0`\n",
    "\n",
    "If there were other numerical columns we would also see summary statistics for those columns."
   ]
  },
  {
   "cell_type": "markdown",
   "metadata": {
    "slideshow": {
     "slide_type": "slide"
    }
   },
   "source": [
    "You could also group by 2 columns. We need to pass a list of columns to the `groupby()` method. We do this using the list datat type we covered in the previous notebook.\n",
    "\n",
    "`g_d = df.groupby(['Gender', 'Group'])\n",
    "print(g_d.mean())`\n",
    "\n",
    "`              Result\n",
    "Gender Group        \n",
    "Female A        89.0\n",
    "       B        90.0\n",
    "Male   A        61.5\n",
    "       B        61.5`\n",
    "       \n",
    "Here we have grouped the data by gender and then by group. We have then asked for the mean of any numerical columns."
   ]
  },
  {
   "cell_type": "code",
   "execution_count": null,
   "metadata": {
    "slideshow": {
     "slide_type": "slide"
    }
   },
   "outputs": [],
   "source": [
    "# Code for questions 4.3a"
   ]
  },
  {
   "cell_type": "code",
   "execution_count": null,
   "metadata": {
    "slideshow": {
     "slide_type": "-"
    }
   },
   "outputs": [],
   "source": [
    "# Code for question 4.3b"
   ]
  },
  {
   "cell_type": "markdown",
   "metadata": {
    "slideshow": {
     "slide_type": "slide"
    }
   },
   "source": [
    "### 4.4 Conditional selections\n",
    "\n",
    "We might want to view only data that meets certain conditions. \n",
    "\n",
    "For example, in a DataFrame containing information about films, we could request only films where the `Director` column matched our request. We do this using the boolean conditions we learned about earlier in the session. \n",
    "\n",
    "1. Select the column we are interested in: `df['Director']`  \n",
    "2. Come up with a boolean condition we want to test: `== \"Ridley Scott\"`  \n",
    "\n",
    "We now have a choice. Running `df['Director'] == \"Ridley Scott\"` evaluates to either`True` or `False` and printing this would tell us how each column evaluated.\n",
    "\n",
    "However, to include only `True` results we pass this instruction into our DataFrame (saved in the `df` variable) writing an instruction with this structure: df[*code with column and condition*]  \n",
    "\n",
    "3. Request only `True` entries: `df[df['Director'] == \"Ridley Scott\"]`\n",
    "\n",
    "This looks intimidating because it is a statement nested within another and a different way of using square brackets. Try taking the next exercise step by step to build your code."
   ]
  },
  {
   "cell_type": "code",
   "execution_count": null,
   "metadata": {
    "slideshow": {
     "slide_type": "-"
    }
   },
   "outputs": [],
   "source": [
    "# Code for questions 4.4a, b and c"
   ]
  },
  {
   "cell_type": "markdown",
   "metadata": {
    "slideshow": {
     "slide_type": "slide"
    }
   },
   "source": [
    "### Saving your notebook\n",
    "\n",
    "You can return to these notebooks in the future using the same link you used today and we will send round PDF versions. However, if you would like to save a version with the code you have added today, click on `File > Download as > HTML`. This file can be opened using your browser, however you will not be able to edit it or run the code. \n",
    "\n",
    "If you want to run these Jupyter notebooks on your own laptop, you can also select to download the notebook as a `Notebook (.ipynb)` instead of HTML so you have them saved for the future. You will be able to run the notebooks locally after you have done some setup. We will cover this in a future workshop, but if you want to have a go yourself, check out this link: https://docs.anaconda.com/anaconda/install/ and this guide: https://www.dataquest.io/blog/jupyter-notebook-tutorial/. Alternatively, keep an eye out for our next workshop!"
   ]
  }
 ],
 "metadata": {
  "celltoolbar": "Slideshow",
  "kernelspec": {
   "display_name": "Python 3",
   "language": "python",
   "name": "python3"
  },
  "language_info": {
   "codemirror_mode": {
    "name": "ipython",
    "version": 3
   },
   "file_extension": ".py",
   "mimetype": "text/x-python",
   "name": "python",
   "nbconvert_exporter": "python",
   "pygments_lexer": "ipython3",
   "version": "3.7.6"
  }
 },
 "nbformat": 4,
 "nbformat_minor": 4
}
